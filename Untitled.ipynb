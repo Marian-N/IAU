{
 "cells": [
  {
   "cell_type": "code",
   "execution_count": 91,
   "metadata": {},
   "outputs": [],
   "source": [
    "import pandas as pd\n",
    "import numpy as np"
   ]
  },
  {
   "cell_type": "code",
   "execution_count": 29,
   "metadata": {},
   "outputs": [],
   "source": [
    "pv = 'data-set/personal_valid.csv'\n",
    "ov = 'data-set/other_valid.csv'"
   ]
  },
  {
   "cell_type": "code",
   "execution_count": 30,
   "metadata": {},
   "outputs": [],
   "source": [
    "dfp = pd.read_csv(pv)\n",
    "dfo = pd.read_csv(ov)"
   ]
  },
  {
   "cell_type": "markdown",
   "metadata": {},
   "source": [
    "Premenuje unnamed stlpec na 'ID'"
   ]
  },
  {
   "cell_type": "code",
   "execution_count": 182,
   "metadata": {},
   "outputs": [],
   "source": [
    "dfp = dfp.rename(columns={'Unnamed: 0': 'ID'})\n",
    "dfo = dfo.rename(columns={'Unnamed: 0': 'ID'})"
   ]
  },
  {
   "cell_type": "markdown",
   "metadata": {},
   "source": [
    "# Pocet zaznamov"
   ]
  },
  {
   "cell_type": "markdown",
   "metadata": {},
   "source": [
    "Zisti pocet zaznamov v personal a other"
   ]
  },
  {
   "cell_type": "code",
   "execution_count": 203,
   "metadata": {},
   "outputs": [
    {
     "name": "stdout",
     "output_type": "stream",
     "text": [
      "Personal: 1311\n",
      "Other: 1361\n"
     ]
    }
   ],
   "source": [
    "print(f\"Personal: {len(dfp)}\")\n",
    "print(f\"Other: {len(dfo)}\")"
   ]
  },
  {
   "cell_type": "markdown",
   "metadata": {},
   "source": [
    "Zisti kolko mame rovnakych mien v personal a other"
   ]
  },
  {
   "cell_type": "code",
   "execution_count": 247,
   "metadata": {},
   "outputs": [
    {
     "name": "stdout",
     "output_type": "stream",
     "text": [
      "Personal: 0\n",
      "Other: 99\n"
     ]
    }
   ],
   "source": [
    "print(f\"Personal: {len(dfp[dfp.duplicated(['name'], keep=False)])}\")\n",
    "dfo_duplicates = dfo[dfo.duplicated(['name'], keep=False)]\n",
    "print(f\"Other: {len(dfo_duplicates)}\")"
   ]
  },
  {
   "cell_type": "markdown",
   "metadata": {},
   "source": [
    "Pri duplikatoch sa moze stat ze jeden zaznam ma hodnoty ktore druhemu chybaju"
   ]
  },
  {
   "cell_type": "code",
   "execution_count": 249,
   "metadata": {
    "scrolled": true
   },
   "outputs": [
    {
     "data": {
      "text/html": [
       "<div>\n",
       "<style scoped>\n",
       "    .dataframe tbody tr th:only-of-type {\n",
       "        vertical-align: middle;\n",
       "    }\n",
       "\n",
       "    .dataframe tbody tr th {\n",
       "        vertical-align: top;\n",
       "    }\n",
       "\n",
       "    .dataframe thead th {\n",
       "        text-align: right;\n",
       "    }\n",
       "</style>\n",
       "<table border=\"1\" class=\"dataframe\">\n",
       "  <thead>\n",
       "    <tr style=\"text-align: right;\">\n",
       "      <th></th>\n",
       "      <th>ID</th>\n",
       "      <th>name</th>\n",
       "      <th>address</th>\n",
       "      <th>race</th>\n",
       "      <th>marital-status</th>\n",
       "      <th>occupation</th>\n",
       "      <th>pregnant</th>\n",
       "      <th>education-num</th>\n",
       "      <th>relationship</th>\n",
       "      <th>skewness_glucose</th>\n",
       "      <th>...</th>\n",
       "      <th>education</th>\n",
       "      <th>fnlwgt</th>\n",
       "      <th>class</th>\n",
       "      <th>std_glucose</th>\n",
       "      <th>income</th>\n",
       "      <th>medical_info</th>\n",
       "      <th>native-country</th>\n",
       "      <th>hours-per-week</th>\n",
       "      <th>capital-loss</th>\n",
       "      <th>workclass</th>\n",
       "    </tr>\n",
       "  </thead>\n",
       "  <tbody>\n",
       "    <tr>\n",
       "      <th>2</th>\n",
       "      <td>2</td>\n",
       "      <td>Jon Gerry</td>\n",
       "      <td>2255 Hopkins Garden\\r\\nSouth Alexandra, MD 39636</td>\n",
       "      <td>White</td>\n",
       "      <td>Never-married</td>\n",
       "      <td>Other-service</td>\n",
       "      <td>f</td>\n",
       "      <td>900.0</td>\n",
       "      <td>Own-child</td>\n",
       "      <td>2.565507</td>\n",
       "      <td>...</td>\n",
       "      <td>HS-grad</td>\n",
       "      <td>133055.0</td>\n",
       "      <td>0.0</td>\n",
       "      <td>35.322467</td>\n",
       "      <td>&lt;=50K</td>\n",
       "      <td>{'mean_oxygen':'2.112876254','std_oxygen':'15....</td>\n",
       "      <td>United-States</td>\n",
       "      <td>30.0</td>\n",
       "      <td>0.0</td>\n",
       "      <td>Private</td>\n",
       "    </tr>\n",
       "    <tr>\n",
       "      <th>394</th>\n",
       "      <td>394</td>\n",
       "      <td>Jon Gerry</td>\n",
       "      <td>2255 Hopkins Garden\\r\\nSouth Alexandra, MD 39636</td>\n",
       "      <td>NaN</td>\n",
       "      <td>NaN</td>\n",
       "      <td>NaN</td>\n",
       "      <td>f</td>\n",
       "      <td>NaN</td>\n",
       "      <td>Own-child</td>\n",
       "      <td>2.565507</td>\n",
       "      <td>...</td>\n",
       "      <td>HS-grad</td>\n",
       "      <td>133055.0</td>\n",
       "      <td>0.0</td>\n",
       "      <td>NaN</td>\n",
       "      <td>NaN</td>\n",
       "      <td>{'mean_oxygen':'2.112876254','std_oxygen':'15....</td>\n",
       "      <td>United-States</td>\n",
       "      <td>30.0</td>\n",
       "      <td>0.0</td>\n",
       "      <td>Private</td>\n",
       "    </tr>\n",
       "  </tbody>\n",
       "</table>\n",
       "<p>2 rows × 23 columns</p>\n",
       "</div>"
      ],
      "text/plain": [
       "      ID       name                                           address    race  \\\n",
       "2      2  Jon Gerry  2255 Hopkins Garden\\r\\nSouth Alexandra, MD 39636   White   \n",
       "394  394  Jon Gerry  2255 Hopkins Garden\\r\\nSouth Alexandra, MD 39636     NaN   \n",
       "\n",
       "     marital-status      occupation pregnant  education-num relationship  \\\n",
       "2     Never-married   Other-service        f          900.0    Own-child   \n",
       "394             NaN             NaN        f            NaN    Own-child   \n",
       "\n",
       "     skewness_glucose  ...  education    fnlwgt  class std_glucose  income  \\\n",
       "2            2.565507  ...    HS-grad  133055.0    0.0   35.322467   <=50K   \n",
       "394          2.565507  ...    HS-grad  133055.0    0.0         NaN     NaN   \n",
       "\n",
       "                                          medical_info  native-country  \\\n",
       "2    {'mean_oxygen':'2.112876254','std_oxygen':'15....   United-States   \n",
       "394  {'mean_oxygen':'2.112876254','std_oxygen':'15....   United-States   \n",
       "\n",
       "    hours-per-week capital-loss workclass  \n",
       "2             30.0          0.0   Private  \n",
       "394           30.0          0.0   Private  \n",
       "\n",
       "[2 rows x 23 columns]"
      ]
     },
     "execution_count": 249,
     "metadata": {},
     "output_type": "execute_result"
    }
   ],
   "source": [
    "dfo_duplicates.loc[dfo_duplicates['name'] == dfo_duplicates.iloc[0]['name']]"
   ]
  },
  {
   "cell_type": "markdown",
   "metadata": {},
   "source": [
    "Tuto sme zistili ze zaznamy s rovnakym menom vieme spojit do jedneho, pretoze nikdy sa nestane ze v jednom stlpci maju viac ako 2 rozne hodnoty, pricom jedna z nich je vzdy None alebo su rovnake."
   ]
  },
  {
   "cell_type": "code",
   "execution_count": 333,
   "metadata": {},
   "outputs": [
    {
     "data": {
      "text/plain": [
       "True"
      ]
     },
     "execution_count": 333,
     "metadata": {},
     "output_type": "execute_result"
    }
   ],
   "source": [
    "def mergeable():\n",
    "    unique_names = dfo_duplicates['name'].unique()\n",
    "    for name in unique_names:\n",
    "        duplicates = dfo_duplicates.loc[dfo_duplicates['name'] == name]\n",
    "        for col in duplicates.columns:\n",
    "            if col == 'ID':\n",
    "                continue\n",
    "            values = duplicates[col].unique()\n",
    "            if len(values) > 2:\n",
    "                return False\n",
    "            elif len(values) == 1:\n",
    "                continue\n",
    "            else:\n",
    "                if pd.isnull(values[0]) or pd.isnull(values[1]):\n",
    "                    continue\n",
    "    return True\n",
    "            \n",
    "mergeable()"
   ]
  },
  {
   "cell_type": "markdown",
   "metadata": {},
   "source": [
    "Kazdu skupinu duplikatnych zaznamov spojime do jedneho zaznamu a pridame k unikatnym zaznamom."
   ]
  },
  {
   "cell_type": "code",
   "execution_count": 361,
   "metadata": {},
   "outputs": [],
   "source": [
    "def merge(name):\n",
    "    df = dfo_duplicates.loc[dfo_duplicates['name'] == name]\n",
    "    return df.groupby(['name'], as_index=False).first()\n",
    "\n",
    "dfo_unique = dfo.drop_duplicates(subset=[\"name\"], keep=False)\n",
    "merged = []\n",
    "\n",
    "unique_names = dfo_duplicates['name'].unique()\n",
    "for name in unique_names:\n",
    "    merged.append(merge(name))\n",
    "    \n",
    "dfo_unique = dfo_unique.append(merged)"
   ]
  },
  {
   "cell_type": "markdown",
   "metadata": {},
   "source": [
    "**Zistime ci novovzniknuty dataset vieme spojit s personal datasetom**"
   ]
  },
  {
   "cell_type": "markdown",
   "metadata": {},
   "source": [
    "Velkost datasetov je rovnaka"
   ]
  },
  {
   "cell_type": "code",
   "execution_count": 373,
   "metadata": {},
   "outputs": [
    {
     "data": {
      "text/plain": [
       "True"
      ]
     },
     "execution_count": 373,
     "metadata": {},
     "output_type": "execute_result"
    }
   ],
   "source": [
    "len(dfo_unique) == len(dfp)"
   ]
  },
  {
   "cell_type": "markdown",
   "metadata": {},
   "source": [
    "Kazde meno z personal sa nachadza v novovzniknutom datasete"
   ]
  },
  {
   "cell_type": "code",
   "execution_count": 375,
   "metadata": {},
   "outputs": [
    {
     "data": {
      "text/plain": [
       "True"
      ]
     },
     "execution_count": 375,
     "metadata": {},
     "output_type": "execute_result"
    }
   ],
   "source": [
    "def compare_names():\n",
    "    dfp_names = list(dfp['name'])\n",
    "    for name in list(dfo_unique['name']):\n",
    "        if name not in dfp_names:\n",
    "            return False\n",
    "    return True\n",
    "\n",
    "compare_names()    "
   ]
  },
  {
   "cell_type": "markdown",
   "metadata": {},
   "source": [
    "# Pocet atributov"
   ]
  },
  {
   "cell_type": "code",
   "execution_count": 192,
   "metadata": {},
   "outputs": [
    {
     "name": "stdout",
     "output_type": "stream",
     "text": [
      "Personal: 6\n",
      "Other: 23\n"
     ]
    }
   ],
   "source": [
    "print(f'Personal: {len(dfp.columns)}')\n",
    "print(f'Other: {len(dfo.columns)}')"
   ]
  },
  {
   "cell_type": "markdown",
   "metadata": {},
   "source": [
    "Pocet unikatnych atributov v personal a other"
   ]
  },
  {
   "cell_type": "code",
   "execution_count": 194,
   "metadata": {},
   "outputs": [
    {
     "data": {
      "text/plain": [
       "26"
      ]
     },
     "execution_count": 194,
     "metadata": {},
     "output_type": "execute_result"
    }
   ],
   "source": [
    "len(np.setdiff1d(list(dfp), list(dfo))) + len(dfo.columns)"
   ]
  },
  {
   "cell_type": "markdown",
   "metadata": {},
   "source": [
    "Typy atributov"
   ]
  },
  {
   "cell_type": "code",
   "execution_count": 224,
   "metadata": {},
   "outputs": [
    {
     "data": {
      "text/plain": [
       "ID                int64\n",
       "name             object\n",
       "address          object\n",
       "age               int64\n",
       "sex              object\n",
       "date_of_birth    object\n",
       "dtype: object"
      ]
     },
     "execution_count": 224,
     "metadata": {},
     "output_type": "execute_result"
    },
    {
     "data": {
      "text/plain": [
       "numpy.int64"
      ]
     },
     "execution_count": 224,
     "metadata": {},
     "output_type": "execute_result"
    }
   ],
   "source": [
    "dfp.dtypes\n",
    "type(dfp['ID'][0])"
   ]
  },
  {
   "cell_type": "markdown",
   "metadata": {},
   "source": [
    "Spoji podla mena a zisti duplikaty"
   ]
  },
  {
   "cell_type": "code",
   "execution_count": 117,
   "metadata": {},
   "outputs": [
    {
     "data": {
      "text/plain": [
       "71"
      ]
     },
     "execution_count": 117,
     "metadata": {},
     "output_type": "execute_result"
    }
   ],
   "source": [
    "df = pd.merge(dfp, dfo, on='name', how='left')\n",
    "len(df[df.duplicated(['name', 'medical_info'], keep=False)])"
   ]
  }
 ],
 "metadata": {
  "kernelspec": {
   "display_name": "Python 3",
   "language": "python",
   "name": "python3"
  },
  "language_info": {
   "codemirror_mode": {
    "name": "ipython",
    "version": 3
   },
   "file_extension": ".py",
   "mimetype": "text/x-python",
   "name": "python",
   "nbconvert_exporter": "python",
   "pygments_lexer": "ipython3",
   "version": "3.7.3"
  }
 },
 "nbformat": 4,
 "nbformat_minor": 4
}
