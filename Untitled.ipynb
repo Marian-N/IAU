{
 "cells": [
  {
   "cell_type": "code",
   "execution_count": 198,
   "metadata": {},
   "outputs": [],
   "source": [
    "import pandas as pd\n",
    "import numpy as np\n",
    "import seaborn as sns\n",
    "import matplotlib.pyplot as plt\n",
    "import scipy.stats as stats"
   ]
  },
  {
   "cell_type": "code",
   "execution_count": 199,
   "metadata": {},
   "outputs": [],
   "source": [
    "pv = 'data-set/personal_valid.csv'\n",
    "ov = 'data-set/other_valid.csv'"
   ]
  },
  {
   "cell_type": "code",
   "execution_count": 200,
   "metadata": {},
   "outputs": [],
   "source": [
    "dfp = pd.read_csv(pv)\n",
    "dfo = pd.read_csv(ov)"
   ]
  },
  {
   "cell_type": "markdown",
   "metadata": {},
   "source": [
    "Premenuje unnamed stlpec na 'ID'"
   ]
  },
  {
   "cell_type": "code",
   "execution_count": 201,
   "metadata": {},
   "outputs": [],
   "source": [
    "dfp = dfp.rename(columns={'Unnamed: 0': 'ID'})\n",
    "dfo = dfo.rename(columns={'Unnamed: 0': 'ID'})"
   ]
  },
  {
   "cell_type": "markdown",
   "metadata": {},
   "source": [
    "# Pocet zaznamov"
   ]
  },
  {
   "cell_type": "markdown",
   "metadata": {},
   "source": [
    "Zisti pocet zaznamov v personal a other. Vidime ze zatial co v personal mame 1311 zaznamov v other mame 1361. "
   ]
  },
  {
   "cell_type": "code",
   "execution_count": 202,
   "metadata": {},
   "outputs": [
    {
     "name": "stdout",
     "output_type": "stream",
     "text": [
      "Personal: 1311\n",
      "Other: 1361\n"
     ]
    }
   ],
   "source": [
    "print(f\"Personal: {len(dfp)}\")\n",
    "print(f\"Other: {len(dfo)}\")"
   ]
  },
  {
   "cell_type": "markdown",
   "metadata": {},
   "source": [
    "Zisti kolko mame rovnakych mien v personal a other - vidime ze mame duplikaty mien v other."
   ]
  },
  {
   "cell_type": "code",
   "execution_count": 203,
   "metadata": {},
   "outputs": [
    {
     "name": "stdout",
     "output_type": "stream",
     "text": [
      "Personal: 0\n",
      "Other: 99\n"
     ]
    }
   ],
   "source": [
    "print(f\"Personal: {len(dfp[dfp.duplicated(['name'], keep=False)])}\")\n",
    "dfo_duplicates = dfo[dfo.duplicated(['name'], keep=False)]\n",
    "print(f\"Other: {len(dfo_duplicates)}\")"
   ]
  },
  {
   "cell_type": "markdown",
   "metadata": {},
   "source": [
    "Pri duplikatoch sa moze stat ze jeden zaznam ma hodnoty ktore druhemu chybaju"
   ]
  },
  {
   "cell_type": "code",
   "execution_count": 204,
   "metadata": {
    "scrolled": true
   },
   "outputs": [
    {
     "data": {
      "text/html": [
       "<div>\n",
       "<style scoped>\n",
       "    .dataframe tbody tr th:only-of-type {\n",
       "        vertical-align: middle;\n",
       "    }\n",
       "\n",
       "    .dataframe tbody tr th {\n",
       "        vertical-align: top;\n",
       "    }\n",
       "\n",
       "    .dataframe thead th {\n",
       "        text-align: right;\n",
       "    }\n",
       "</style>\n",
       "<table border=\"1\" class=\"dataframe\">\n",
       "  <thead>\n",
       "    <tr style=\"text-align: right;\">\n",
       "      <th></th>\n",
       "      <th>ID</th>\n",
       "      <th>name</th>\n",
       "      <th>address</th>\n",
       "      <th>race</th>\n",
       "      <th>marital-status</th>\n",
       "      <th>occupation</th>\n",
       "      <th>pregnant</th>\n",
       "      <th>education-num</th>\n",
       "      <th>relationship</th>\n",
       "      <th>skewness_glucose</th>\n",
       "      <th>...</th>\n",
       "      <th>education</th>\n",
       "      <th>fnlwgt</th>\n",
       "      <th>class</th>\n",
       "      <th>std_glucose</th>\n",
       "      <th>income</th>\n",
       "      <th>medical_info</th>\n",
       "      <th>native-country</th>\n",
       "      <th>hours-per-week</th>\n",
       "      <th>capital-loss</th>\n",
       "      <th>workclass</th>\n",
       "    </tr>\n",
       "  </thead>\n",
       "  <tbody>\n",
       "    <tr>\n",
       "      <th>2</th>\n",
       "      <td>2</td>\n",
       "      <td>Jon Gerry</td>\n",
       "      <td>2255 Hopkins Garden\\r\\nSouth Alexandra, MD 39636</td>\n",
       "      <td>White</td>\n",
       "      <td>Never-married</td>\n",
       "      <td>Other-service</td>\n",
       "      <td>f</td>\n",
       "      <td>900.0</td>\n",
       "      <td>Own-child</td>\n",
       "      <td>2.565507</td>\n",
       "      <td>...</td>\n",
       "      <td>HS-grad</td>\n",
       "      <td>133055.0</td>\n",
       "      <td>0.0</td>\n",
       "      <td>35.322467</td>\n",
       "      <td>&lt;=50K</td>\n",
       "      <td>{'mean_oxygen':'2.112876254','std_oxygen':'15....</td>\n",
       "      <td>United-States</td>\n",
       "      <td>30.0</td>\n",
       "      <td>0.0</td>\n",
       "      <td>Private</td>\n",
       "    </tr>\n",
       "    <tr>\n",
       "      <th>394</th>\n",
       "      <td>394</td>\n",
       "      <td>Jon Gerry</td>\n",
       "      <td>2255 Hopkins Garden\\r\\nSouth Alexandra, MD 39636</td>\n",
       "      <td>NaN</td>\n",
       "      <td>NaN</td>\n",
       "      <td>NaN</td>\n",
       "      <td>f</td>\n",
       "      <td>NaN</td>\n",
       "      <td>Own-child</td>\n",
       "      <td>2.565507</td>\n",
       "      <td>...</td>\n",
       "      <td>HS-grad</td>\n",
       "      <td>133055.0</td>\n",
       "      <td>0.0</td>\n",
       "      <td>NaN</td>\n",
       "      <td>NaN</td>\n",
       "      <td>{'mean_oxygen':'2.112876254','std_oxygen':'15....</td>\n",
       "      <td>United-States</td>\n",
       "      <td>30.0</td>\n",
       "      <td>0.0</td>\n",
       "      <td>Private</td>\n",
       "    </tr>\n",
       "  </tbody>\n",
       "</table>\n",
       "<p>2 rows × 23 columns</p>\n",
       "</div>"
      ],
      "text/plain": [
       "      ID       name                                           address    race  \\\n",
       "2      2  Jon Gerry  2255 Hopkins Garden\\r\\nSouth Alexandra, MD 39636   White   \n",
       "394  394  Jon Gerry  2255 Hopkins Garden\\r\\nSouth Alexandra, MD 39636     NaN   \n",
       "\n",
       "     marital-status      occupation pregnant  education-num relationship  \\\n",
       "2     Never-married   Other-service        f          900.0    Own-child   \n",
       "394             NaN             NaN        f            NaN    Own-child   \n",
       "\n",
       "     skewness_glucose  ...  education    fnlwgt  class std_glucose  income  \\\n",
       "2            2.565507  ...    HS-grad  133055.0    0.0   35.322467   <=50K   \n",
       "394          2.565507  ...    HS-grad  133055.0    0.0         NaN     NaN   \n",
       "\n",
       "                                          medical_info  native-country  \\\n",
       "2    {'mean_oxygen':'2.112876254','std_oxygen':'15....   United-States   \n",
       "394  {'mean_oxygen':'2.112876254','std_oxygen':'15....   United-States   \n",
       "\n",
       "    hours-per-week capital-loss workclass  \n",
       "2             30.0          0.0   Private  \n",
       "394           30.0          0.0   Private  \n",
       "\n",
       "[2 rows x 23 columns]"
      ]
     },
     "execution_count": 204,
     "metadata": {},
     "output_type": "execute_result"
    }
   ],
   "source": [
    "dfo_duplicates.loc[dfo_duplicates['name'] == dfo_duplicates.iloc[0]['name']]"
   ]
  },
  {
   "cell_type": "markdown",
   "metadata": {},
   "source": [
    "Duplikaty chceme mergnut dokopy. Musime ale zistit ci je to mozne.  \n",
    "Tuto sme zistili ze zaznamy s rovnakym menom vieme spojit do jedneho, pretoze nikdy sa nestane ze v jednom stlpci maju viac ako 2 rozne hodnoty, pricom jedna z nich je vzdy None alebo su rovnake."
   ]
  },
  {
   "cell_type": "code",
   "execution_count": 205,
   "metadata": {},
   "outputs": [
    {
     "data": {
      "text/plain": [
       "True"
      ]
     },
     "execution_count": 205,
     "metadata": {},
     "output_type": "execute_result"
    }
   ],
   "source": [
    "# returns true if we can merge duplicates -> there are no conflicts\n",
    "def mergeable():\n",
    "    unique_names = dfo_duplicates['name'].unique()\n",
    "    for name in unique_names:\n",
    "        duplicates = dfo_duplicates.loc[dfo_duplicates['name'] == name]\n",
    "        for col in duplicates.columns:\n",
    "            if col == 'ID':\n",
    "                continue\n",
    "            values = duplicates[col].unique()\n",
    "            if len(values) > 2:\n",
    "                return False\n",
    "            elif len(values) == 1:\n",
    "                continue\n",
    "            else:\n",
    "                if pd.isnull(values[0]) or pd.isnull(values[1]):\n",
    "                    continue\n",
    "    return True\n",
    "            \n",
    "mergeable()"
   ]
  },
  {
   "cell_type": "markdown",
   "metadata": {},
   "source": [
    "Kazdu skupinu duplikatnych zaznamov spojime do jedneho zaznamu a pridame k unikatnym zaznamom."
   ]
  },
  {
   "cell_type": "code",
   "execution_count": 206,
   "metadata": {},
   "outputs": [],
   "source": [
    "# merges duplicates\n",
    "def merge(name):\n",
    "    df = dfo_duplicates.loc[dfo_duplicates['name'] == name]\n",
    "    return df.groupby(['name'], as_index=False).first()\n",
    "\n",
    "dfo_unique = dfo.drop_duplicates(subset=[\"name\"], keep=False)\n",
    "merged = []\n",
    "\n",
    "unique_names = dfo_duplicates['name'].unique()\n",
    "for name in unique_names:\n",
    "    merged.append(merge(name))\n",
    "    \n",
    "dfo_unique = dfo_unique.append(merged)"
   ]
  },
  {
   "cell_type": "markdown",
   "metadata": {},
   "source": [
    "**Spojenie Other so spojenymi duplikatmi a Personal**"
   ]
  },
  {
   "cell_type": "markdown",
   "metadata": {},
   "source": [
    "Zistime ci novovzniknuty dataset vieme spojit s personal datasetom. Velkost datasetov je rovnaka cize vieme."
   ]
  },
  {
   "cell_type": "code",
   "execution_count": 207,
   "metadata": {},
   "outputs": [
    {
     "data": {
      "text/plain": [
       "True"
      ]
     },
     "execution_count": 207,
     "metadata": {},
     "output_type": "execute_result"
    }
   ],
   "source": [
    "len(dfo_unique) == len(dfp)"
   ]
  },
  {
   "cell_type": "markdown",
   "metadata": {},
   "source": [
    "Zistime ci sa nachadzaju v novovzniknutej tabulke duplikaty"
   ]
  },
  {
   "cell_type": "code",
   "execution_count": 208,
   "metadata": {},
   "outputs": [
    {
     "data": {
      "text/plain": [
       "False"
      ]
     },
     "execution_count": 208,
     "metadata": {},
     "output_type": "execute_result"
    }
   ],
   "source": [
    "len(dfo_unique[dfo_unique.duplicated(['name'], keep=False)]) > 0"
   ]
  },
  {
   "cell_type": "markdown",
   "metadata": {},
   "source": [
    "Kazde meno z personal sa nachadza v novovzniknutom datasete"
   ]
  },
  {
   "cell_type": "code",
   "execution_count": 209,
   "metadata": {},
   "outputs": [
    {
     "data": {
      "text/plain": [
       "True"
      ]
     },
     "execution_count": 209,
     "metadata": {},
     "output_type": "execute_result"
    }
   ],
   "source": [
    "def compare_names():\n",
    "    dfp_names = list(dfp['name'])\n",
    "    for name in list(dfo_unique['name']):\n",
    "        if name not in dfp_names:\n",
    "            return False\n",
    "    return True\n",
    "\n",
    "compare_names()    "
   ]
  },
  {
   "cell_type": "markdown",
   "metadata": {},
   "source": [
    "Kedze mena v Other a Personal su rovnake, velkost zaznamov je tiez rovnaka a duplikaty sa nam nevyskytuju, mozeme spojit other s personal."
   ]
  },
  {
   "cell_type": "code",
   "execution_count": 210,
   "metadata": {},
   "outputs": [],
   "source": [
    "df = pd.merge(dfp, dfo_unique, on='name')"
   ]
  },
  {
   "cell_type": "markdown",
   "metadata": {},
   "source": [
    "Zistime, ci je pocet atributov taky, ako sme ocakavali.  \n",
    "Pocet atributov je vacsi ako sme ocakavali to znamena ze tam mame niektore atributy viac krat"
   ]
  },
  {
   "cell_type": "code",
   "execution_count": 211,
   "metadata": {},
   "outputs": [
    {
     "data": {
      "text/plain": [
       "28"
      ]
     },
     "execution_count": 211,
     "metadata": {},
     "output_type": "execute_result"
    }
   ],
   "source": [
    "len(df.columns)"
   ]
  },
  {
   "cell_type": "markdown",
   "metadata": {},
   "source": [
    "Jedna sa o ID a adresu"
   ]
  },
  {
   "cell_type": "code",
   "execution_count": 212,
   "metadata": {},
   "outputs": [
    {
     "data": {
      "text/plain": [
       "Index(['ID_x', 'name', 'address_x', 'age', 'sex', 'date_of_birth', 'ID_y',\n",
       "       'address_y', 'race', 'marital-status', 'occupation', 'pregnant',\n",
       "       'education-num', 'relationship', 'skewness_glucose', 'mean_glucose',\n",
       "       'capital-gain', 'kurtosis_glucose', 'education', 'fnlwgt', 'class',\n",
       "       'std_glucose', 'income', 'medical_info', 'native-country',\n",
       "       'hours-per-week', 'capital-loss', 'workclass'],\n",
       "      dtype='object')"
      ]
     },
     "execution_count": 212,
     "metadata": {},
     "output_type": "execute_result"
    }
   ],
   "source": [
    "df.columns"
   ]
  },
  {
   "cell_type": "markdown",
   "metadata": {},
   "source": [
    "Zistime ci sa adresy z personal rovnaju adresam z other"
   ]
  },
  {
   "cell_type": "code",
   "execution_count": 213,
   "metadata": {},
   "outputs": [
    {
     "data": {
      "text/plain": [
       "True"
      ]
     },
     "execution_count": 213,
     "metadata": {},
     "output_type": "execute_result"
    }
   ],
   "source": [
    "df['address_x'].equals(df['address_y'])"
   ]
  },
  {
   "cell_type": "markdown",
   "metadata": {},
   "source": [
    "Kedze sa rovnaju tak jedny zahodime spolu s ID z other"
   ]
  },
  {
   "cell_type": "code",
   "execution_count": 214,
   "metadata": {},
   "outputs": [],
   "source": [
    "df = df.drop(columns=['address_y', 'ID_y'])\n",
    "df = df.rename(columns={\"ID_x\": \"ID\", \"address_x\": \"address\"})"
   ]
  },
  {
   "cell_type": "markdown",
   "metadata": {},
   "source": [
    "# Atributy"
   ]
  },
  {
   "cell_type": "markdown",
   "metadata": {},
   "source": [
    "### Pocet atributov"
   ]
  },
  {
   "cell_type": "code",
   "execution_count": 215,
   "metadata": {},
   "outputs": [
    {
     "name": "stdout",
     "output_type": "stream",
     "text": [
      "Personal: 6\n",
      "Other: 23\n"
     ]
    }
   ],
   "source": [
    "print(f'Personal: {len(dfp.columns)}')\n",
    "print(f'Other: {len(dfo.columns)}')"
   ]
  },
  {
   "cell_type": "markdown",
   "metadata": {},
   "source": [
    "Pocet unikatnych atributov v personal a other"
   ]
  },
  {
   "cell_type": "code",
   "execution_count": 216,
   "metadata": {},
   "outputs": [
    {
     "data": {
      "text/plain": [
       "26"
      ]
     },
     "execution_count": 216,
     "metadata": {},
     "output_type": "execute_result"
    }
   ],
   "source": [
    "len(np.setdiff1d(list(dfp), list(dfo))) + len(dfo.columns)"
   ]
  },
  {
   "cell_type": "markdown",
   "metadata": {},
   "source": [
    "### Typy atributov"
   ]
  },
  {
   "cell_type": "markdown",
   "metadata": {},
   "source": [
    "Vidime ze typy su int64, float64 a ostatne su objekty(pravdepodobne preto ze to su stringy a maju roznu dlzku). Tak isto vidime ze hodnoty v niektorych zaznamoch chybaju."
   ]
  },
  {
   "cell_type": "code",
   "execution_count": 217,
   "metadata": {},
   "outputs": [
    {
     "name": "stdout",
     "output_type": "stream",
     "text": [
      "<class 'pandas.core.frame.DataFrame'>\n",
      "Int64Index: 1311 entries, 0 to 1310\n",
      "Data columns (total 26 columns):\n",
      " #   Column            Non-Null Count  Dtype  \n",
      "---  ------            --------------  -----  \n",
      " 0   ID                1311 non-null   int64  \n",
      " 1   name              1311 non-null   object \n",
      " 2   address           1311 non-null   object \n",
      " 3   age               1311 non-null   int64  \n",
      " 4   sex               1311 non-null   object \n",
      " 5   date_of_birth     1311 non-null   object \n",
      " 6   race              1309 non-null   object \n",
      " 7   marital-status    1226 non-null   object \n",
      " 8   occupation        1311 non-null   object \n",
      " 9   pregnant          1311 non-null   object \n",
      " 10  education-num     1180 non-null   float64\n",
      " 11  relationship      1310 non-null   object \n",
      " 12  skewness_glucose  1310 non-null   float64\n",
      " 13  mean_glucose      1311 non-null   float64\n",
      " 14  capital-gain      1308 non-null   float64\n",
      " 15  kurtosis_glucose  1311 non-null   float64\n",
      " 16  education         1311 non-null   object \n",
      " 17  fnlwgt            1310 non-null   float64\n",
      " 18  class             1310 non-null   float64\n",
      " 19  std_glucose       1310 non-null   float64\n",
      " 20  income            1310 non-null   object \n",
      " 21  medical_info      1310 non-null   object \n",
      " 22  native-country    1311 non-null   object \n",
      " 23  hours-per-week    1311 non-null   float64\n",
      " 24  capital-loss      1311 non-null   float64\n",
      " 25  workclass         1309 non-null   object \n",
      "dtypes: float64(10), int64(2), object(14)\n",
      "memory usage: 276.5+ KB\n"
     ]
    }
   ],
   "source": [
    "df.info()"
   ]
  },
  {
   "cell_type": "markdown",
   "metadata": {},
   "source": [
    "Tuto vidime ktore atributy v sebe Null hodnoty"
   ]
  },
  {
   "cell_type": "code",
   "execution_count": 218,
   "metadata": {},
   "outputs": [
    {
     "data": {
      "text/plain": [
       "ID                    0\n",
       "name                  0\n",
       "address               0\n",
       "age                   0\n",
       "sex                   0\n",
       "date_of_birth         0\n",
       "race                  2\n",
       "marital-status       85\n",
       "occupation            0\n",
       "pregnant              0\n",
       "education-num       131\n",
       "relationship          1\n",
       "skewness_glucose      1\n",
       "mean_glucose          0\n",
       "capital-gain          3\n",
       "kurtosis_glucose      0\n",
       "education             0\n",
       "fnlwgt                1\n",
       "class                 1\n",
       "std_glucose           1\n",
       "income                1\n",
       "medical_info          1\n",
       "native-country        0\n",
       "hours-per-week        0\n",
       "capital-loss          0\n",
       "workclass             2\n",
       "dtype: int64"
      ]
     },
     "execution_count": 218,
     "metadata": {},
     "output_type": "execute_result"
    }
   ],
   "source": [
    "df.isnull().sum()"
   ]
  },
  {
   "cell_type": "markdown",
   "metadata": {},
   "source": [
    "**ID**  \n",
    "V stlpci ID su cisla pricom su unikatne a stupaju (cize nemame pomiesane poradie udajov)"
   ]
  },
  {
   "cell_type": "code",
   "execution_count": 219,
   "metadata": {},
   "outputs": [
    {
     "data": {
      "text/plain": [
       "count    1311.000000\n",
       "mean      655.000000\n",
       "std       378.597412\n",
       "min         0.000000\n",
       "25%       327.500000\n",
       "50%       655.000000\n",
       "75%       982.500000\n",
       "max      1310.000000\n",
       "Name: ID, dtype: float64"
      ]
     },
     "execution_count": 219,
     "metadata": {},
     "output_type": "execute_result"
    }
   ],
   "source": [
    "df['ID'].describe()"
   ]
  },
  {
   "cell_type": "code",
   "execution_count": 220,
   "metadata": {},
   "outputs": [
    {
     "data": {
      "text/plain": [
       "True"
      ]
     },
     "execution_count": 220,
     "metadata": {},
     "output_type": "execute_result"
    }
   ],
   "source": [
    "(df['ID'].is_monotonic_increasing and df['ID'].is_unique)"
   ]
  },
  {
   "cell_type": "markdown",
   "metadata": {},
   "source": [
    "**Address**  \n",
    "Pri adresach vidime, ze v sebe maju aj znaky ako \\r\\n. Toto teda budeme v dalsich fazach upravit."
   ]
  },
  {
   "cell_type": "code",
   "execution_count": 221,
   "metadata": {},
   "outputs": [
    {
     "data": {
      "text/plain": [
       "count                                                  1311\n",
       "unique                                                 1311\n",
       "top       03745 Vazquez Centers Suite 928\\r\\nEast Kylemo...\n",
       "freq                                                      1\n",
       "Name: address, dtype: object"
      ]
     },
     "execution_count": 221,
     "metadata": {},
     "output_type": "execute_result"
    },
    {
     "data": {
      "text/plain": [
       "['7910 Rosales Plain Apt. 454\\r\\nPort Carl, GA 69839',\n",
       " '055 Morgan Plains Suite 225\\r\\nEast Darrylmouth, KS 41706',\n",
       " 'PSC 7359, Box 2088\\r\\nAPO AE 62717',\n",
       " 'USS Allen\\r\\nFPO AP 87677',\n",
       " '491 Fields Key Suite 544\\r\\nGracestad, MT 13456',\n",
       " '1989 Dylan Inlet Apt. 862\\r\\nCoreystad, MA 30654',\n",
       " 'Unit 7145 Box 9167\\r\\nDPO AA 86245',\n",
       " '741 Alvarez Village Suite 345\\r\\nNew Stephanie, ME 59101',\n",
       " '149 Parker Tunnel\\r\\nRyanside, VA 94814',\n",
       " '08244 Burton Junctions Suite 409\\r\\nScottmouth, ID 37801',\n",
       " '44759 Michael Crossing\\r\\nChapmanfurt, SC 23735',\n",
       " '81395 Aguilar Mission Suite 404\\r\\nNew Caitlin, IA 75654',\n",
       " '300 Robert Plaza Suite 415\\r\\nCastillostad, SC 54440',\n",
       " 'Unit 6246 Box 4124\\r\\nDPO AE 49772',\n",
       " '721 Griffin Course Apt. 814\\r\\nNorth Josebury, MN 57980',\n",
       " '668 Leonard Spring Suite 947\\r\\nKathleenhaven, OK 49798',\n",
       " '34386 Shepard Lodge Apt. 889\\r\\nEast Erin, RI 48702',\n",
       " '47716 Reynolds Tunnel Suite 466\\r\\nSouth Joshuatown, NH 92502',\n",
       " '396 Nguyen Row\\r\\nGarrettberg, CT 57382',\n",
       " '10243 Williams Flats\\r\\nLongshire, OR 37126',\n",
       " '4433 Ryan Courts\\r\\nDonnamouth, DE 83886',\n",
       " '160 Taylor Gardens\\r\\nPort Brian, MO 75116',\n",
       " '0439 Baker Course\\r\\nBurkechester, CT 11984',\n",
       " '257 Tyler Creek Suite 312\\r\\nWatsonmouth, MI 03049',\n",
       " '4187 Karen Via Suite 438\\r\\nKellyberg, WI 22338',\n",
       " '23338 Anthony Radial Apt. 750\\r\\nLake Erik, WA 74958',\n",
       " 'PSC 5491, Box 5970\\r\\nAPO AE 70688',\n",
       " '14807 Butler Springs\\r\\nNicholasbury, WY 45512',\n",
       " '2286 Phillips Squares Suite 449\\r\\nJamesberg, ID 69649',\n",
       " '053 Maria Freeway\\r\\nCortezfurt, NC 14978',\n",
       " '5770 Lori Land\\r\\nNorth Philipmouth, WV 05787',\n",
       " '3628 Reese Haven\\r\\nSouth Melissaside, GA 83688',\n",
       " '99338 Raymond Junction\\r\\nLake Edwardmouth, MA 26182',\n",
       " '441 Monroe Prairie Apt. 973\\r\\nWest Ruth, RI 70508',\n",
       " '7188 Murray Parkways Apt. 495\\r\\nBlackburnhaven, MA 93953',\n",
       " '23110 Brooks Rapid Suite 473\\r\\nLake Katieport, NC 23392',\n",
       " '6704 Jon Valley\\r\\nSouth Stanleyland, MT 39326',\n",
       " '1950 Michael Bridge\\r\\nStewartton, NH 60931',\n",
       " '1148 Kelly Plains\\r\\nNorth Amyport, NY 00741',\n",
       " '52106 Bailey Walk\\r\\nBeckerhaven, CA 93435',\n",
       " '258 Regina Ways Apt. 737\\r\\nMichaelchester, OR 12247',\n",
       " '1476 Michael Springs\\r\\nNew Mary, GA 98764',\n",
       " '9072 Charles Burg Apt. 032\\r\\nShannonburgh, NY 81030',\n",
       " 'PSC 1057, Box 0591\\r\\nAPO AE 69779',\n",
       " '33646 Adams Ford\\r\\nNorth Christina, TN 05065',\n",
       " '4787 Nichole Extensions\\r\\nJacobborough, AZ 29271',\n",
       " '71999 Reynolds Track\\r\\nPort Thomas, NM 41767',\n",
       " '700 Kathleen Skyway\\r\\nDavisborough, TX 47147',\n",
       " '9694 Anderson Tunnel Suite 144\\r\\nNorth Terrishire, AK 67579',\n",
       " '781 Amy Hills\\r\\nJosephview, NJ 50506',\n",
       " '021 Deborah Key Apt. 107\\r\\nWest Thomasstad, NC 28850',\n",
       " '0089 Calderon Hills\\r\\nEast Crystalfurt, AZ 17874',\n",
       " '218 Taylor Canyon Apt. 786\\r\\nHughestown, MI 70267',\n",
       " '72234 Johnson Fork\\r\\nLake Susan, AR 57445',\n",
       " '6467 Moore Ridge\\r\\nMontoyaland, KY 16716',\n",
       " '3013 Bryan Highway Suite 090\\r\\nNorth Robert, WI 51980',\n",
       " '5786 Morgan Summit Suite 870\\r\\nSouth Andrew, OR 95206',\n",
       " '9406 Desiree Rest\\r\\nSouth Laurafort, ME 72779',\n",
       " '42583 Michael Stream\\r\\nEast Jessicaberg, VA 52650',\n",
       " '31420 Tricia Drive Apt. 910\\r\\nJosephhaven, PA 86463',\n",
       " '6150 Thomas Junction\\r\\nPhyllisbury, IL 51403',\n",
       " 'Unit 2803 Box 2151\\r\\nDPO AE 89583',\n",
       " '086 Angela Lock\\r\\nWest Stevenberg, NE 74070',\n",
       " '04400 Anthony Groves Apt. 118\\r\\nNorth Andrewton, NV 25978',\n",
       " '59947 Fischer Canyon Apt. 523\\r\\nNorth Sharon, GA 01215',\n",
       " '24507 John Road Suite 087\\r\\nKaylaland, AZ 93179',\n",
       " '669 Smith Courts\\r\\nPort Nathan, MT 17834',\n",
       " '12348 Ford Bypass\\r\\nPort Zacharyville, RI 36085',\n",
       " '7929 Kristy Dam Apt. 265\\r\\nNew Samuel, MS 93951',\n",
       " '032 Ortiz Heights\\r\\nWest Connie, WV 78338',\n",
       " '647 Davis Mountains\\r\\nGoodburgh, NC 06902',\n",
       " '10638 Yolanda Stravenue\\r\\nPort Moniqueberg, SD 61627',\n",
       " '2946 Montoya Vista\\r\\nBrendaburgh, IL 57934',\n",
       " '25535 Bird Rue\\r\\nHarrisfort, NJ 71162',\n",
       " '4416 Janet Mountain\\r\\nJasonhaven, NE 70316',\n",
       " '0151 Sarah Throughway\\r\\nEast Kaylaside, IA 43998',\n",
       " '33287 Moreno Falls\\r\\nSouth Ericaside, WV 31474',\n",
       " '1507 Seth Branch Apt. 091\\r\\nEast Edwardton, TN 28513',\n",
       " '862 Caitlin Loop Apt. 381\\r\\nRebeccaville, MI 84841',\n",
       " '8239 Bethany Canyon\\r\\nNew Gabrielstad, ID 27232',\n",
       " '44734 Bruce Burg\\r\\nJeremyland, NE 72793',\n",
       " '0080 Brooke Plaza Apt. 045\\r\\nMercadoview, NE 39624',\n",
       " 'USCGC Jennings\\r\\nFPO AP 12644',\n",
       " 'USS Campbell\\r\\nFPO AA 29413',\n",
       " '81911 Walker Mall Apt. 577\\r\\nPort Tara, SD 05299',\n",
       " '81903 Derrick Prairie Suite 019\\r\\nDonaldburgh, HI 14855',\n",
       " 'Unit 0491 Box 7117\\r\\nDPO AP 92730',\n",
       " 'PSC 8870, Box 1403\\r\\nAPO AA 95621',\n",
       " '5590 Anderson Lodge\\r\\nEast Sarah, MT 19400',\n",
       " 'Unit 1526 Box 4192\\r\\nDPO AA 44118',\n",
       " '50848 Mckenzie Burg\\r\\nRobinsonfurt, IL 93979',\n",
       " 'Unit 9984 Box 7757\\r\\nDPO AE 51043',\n",
       " '2549 Melissa Springs\\r\\nJoneston, KY 61291',\n",
       " '4132 Garcia Lake\\r\\nNorth Nancyside, MS 87804',\n",
       " '2236 Thompson Turnpike Suite 711\\r\\nSouth Aprilstad, NM 48743',\n",
       " '80719 Brandon Inlet\\r\\nWellsburgh, ID 59002',\n",
       " '0972 Alvarez Highway\\r\\nRoweberg, FL 72981',\n",
       " '842 Kirk Station\\r\\nMackenziemouth, OH 53152',\n",
       " '590 Thomas Rapids\\r\\nLake Mitchell, VT 78060',\n",
       " '505 Jennifer Stream\\r\\nNorth Crystal, CO 47539',\n",
       " '90354 Harrington Ridge\\r\\nPort Susanland, AZ 78824',\n",
       " 'Unit 7200 Box 5026\\r\\nDPO AE 53944',\n",
       " 'Unit 0738 Box 8109\\r\\nDPO AP 88183',\n",
       " 'PSC 2320, Box 5305\\r\\nAPO AE 19630',\n",
       " '77206 Allen Mews\\r\\nNorth Jenniferberg, WY 51036',\n",
       " '159 French Ways\\r\\nWest Paul, CT 44122',\n",
       " '494 Chang Inlet Suite 982\\r\\nPort Lisachester, CO 71645',\n",
       " '046 Rodriguez Locks\\r\\nLake Deborah, AZ 22217',\n",
       " '4834 Kevin Ports\\r\\nPort Alexis, WY 43803',\n",
       " '660 Mathew Via Apt. 223\\r\\nWest Travis, WA 25312',\n",
       " '48507 Charles Ferry Suite 357\\r\\nEast Lauraport, UT 01457',\n",
       " '5011 Michael Street Suite 423\\r\\nChadfort, IL 94550',\n",
       " '08618 Bentley Union\\r\\nPort Monique, ID 98094',\n",
       " '51400 Montgomery Cape Apt. 356\\r\\nLake Chasefurt, LA 82797',\n",
       " '7974 Zachary Summit\\r\\nChavezton, MI 60414',\n",
       " 'Unit 9476 Box 8527\\r\\nDPO AA 85990',\n",
       " '14910 James Fields Suite 996\\r\\nPort Jeanettemouth, WA 86207',\n",
       " 'Unit 8205 Box 7782\\r\\nDPO AE 77530',\n",
       " '291 Matthew Course\\r\\nAlexandrabury, MD 51354',\n",
       " '5338 Hendrix Haven Suite 945\\r\\nNorth Jacob, AL 58368',\n",
       " '9262 Wallace Forges Suite 598\\r\\nThomasbury, MD 23580',\n",
       " 'USNV Ferguson\\r\\nFPO AA 10117',\n",
       " 'PSC 9384, Box 7091\\r\\nAPO AP 14660',\n",
       " 'Unit 6895 Box 3683\\r\\nDPO AA 16647',\n",
       " '9350 Anderson Landing\\r\\nSouth Robertmouth, NV 19789',\n",
       " 'USNS Castaneda\\r\\nFPO AE 49827',\n",
       " '4293 Amanda Drive\\r\\nHeathland, CT 67739',\n",
       " '097 Steven Heights\\r\\nNew Robert, UT 47823',\n",
       " '5185 Burton Viaduct Apt. 422\\r\\nAndrewberg, NY 45231',\n",
       " 'PSC 4610, Box 9409\\r\\nAPO AP 05068',\n",
       " '95474 Crosby Stravenue\\r\\nWalkershire, IA 26059',\n",
       " '3220 Steven Fall Apt. 315\\r\\nNew Robert, CO 11515',\n",
       " 'PSC 7870, Box 3524\\r\\nAPO AA 28290',\n",
       " '85005 Griffin Haven\\r\\nPort Josephville, FL 51987',\n",
       " '880 Adams Rapid\\r\\nNew Philipmouth, NY 79771',\n",
       " '65056 Steven Terrace Apt. 323\\r\\nMarychester, MS 55753',\n",
       " '350 Monica Forks Apt. 284\\r\\nVegamouth, AK 10810',\n",
       " '223 Sanders Points Suite 634\\r\\nScottburgh, OR 94011',\n",
       " '230 Scott Club\\r\\nSouth Williammouth, NH 84316',\n",
       " '127 Kyle Overpass\\r\\nSarahshire, OK 77274',\n",
       " '1863 Stephanie Fall\\r\\nSouth Charlotte, MT 01050',\n",
       " '99523 Ross Islands Suite 767\\r\\nThomasburgh, WA 97793',\n",
       " '2152 Lin Via Apt. 067\\r\\nJordanmouth, KY 18672',\n",
       " '0677 Morgan Terrace Apt. 848\\r\\nReynoldsland, SC 99379',\n",
       " '93602 Rodriguez Passage\\r\\nEast Deniseview, MO 42352',\n",
       " '33520 Li Lock Suite 660\\r\\nPort Richard, WI 98620',\n",
       " '5532 Madden Land\\r\\nChenmouth, OR 43547',\n",
       " '4439 Taylor Falls Apt. 371\\r\\nPort Nicolemouth, OH 78247',\n",
       " 'PSC 7116, Box 6344\\r\\nAPO AP 77725',\n",
       " '53955 Jesus Brook\\r\\nRobertberg, MA 01512',\n",
       " '39174 Hayley Mission Apt. 951\\r\\nRhodesmouth, KY 94572',\n",
       " '66958 Ingram Station Apt. 540\\r\\nMannside, IA 81254',\n",
       " '184 Jones Mountains Suite 489\\r\\nGonzalezfurt, MA 24487',\n",
       " '6327 Nelson Dale Suite 555\\r\\nSouth Christinaland, WV 72433',\n",
       " '193 Wood Isle Apt. 582\\r\\nMartinezstad, WY 04280',\n",
       " '082 Whitney Forks Suite 927\\r\\nMclaughlinhaven, WV 60552',\n",
       " '191 Dale Village Suite 371\\r\\nGloverfort, MD 47613',\n",
       " '672 Reynolds Port\\r\\nMitchelltown, MO 83382',\n",
       " '0698 Watts Mountains\\r\\nJonesfurt, NC 17963',\n",
       " '0768 Katherine Points\\r\\nPort Casey, IA 25495',\n",
       " '087 Alexa Plaza Suite 685\\r\\nStevenstad, IN 68672',\n",
       " '5797 Collins Locks Suite 645\\r\\nSouth Donna, WY 63866',\n",
       " '137 Pierce Roads Suite 562\\r\\nKevinborough, NV 27395',\n",
       " '79892 Todd Terrace Suite 335\\r\\nJodymouth, NH 62790',\n",
       " '43434 Lauren Drive Suite 349\\r\\nLake Michaelmouth, NY 13474',\n",
       " '29562 Harold Path\\r\\nEllisport, HI 21075',\n",
       " '9131 Jenkins Prairie Apt. 320\\r\\nBrittanymouth, KS 34570',\n",
       " 'PSC 0017, Box 4494\\r\\nAPO AA 46582',\n",
       " '75737 Sharon Inlet\\r\\nSouth Justin, WA 54684',\n",
       " '514 Wagner Drive Suite 501\\r\\nHicksview, MT 40833',\n",
       " '331 Kristi Cliff Suite 050\\r\\nLake Brenda, AL 13442',\n",
       " '996 Rush Locks\\r\\nNorth Jessica, DE 94049',\n",
       " 'Unit 2381 Box 6496\\r\\nDPO AP 27412',\n",
       " '036 Bullock Inlet Suite 665\\r\\nCatherineview, NJ 63604',\n",
       " '607 Nancy Crescent Suite 344\\r\\nNorth Kaitlynmouth, OH 45281',\n",
       " '407 Olson Garden\\r\\nLake Ambershire, OH 79585',\n",
       " '532 James Vista\\r\\nAdamsberg, CO 53469',\n",
       " '66104 Rhonda Fall Apt. 661\\r\\nSouth Cynthiastad, PA 33837',\n",
       " '5679 Williams Brooks Suite 681\\r\\nPhillipburgh, NJ 27759',\n",
       " '76768 Sarah Isle\\r\\nNorth Adam, UT 01592',\n",
       " '148 Ross River Suite 788\\r\\nNew Davidfurt, SC 01342',\n",
       " '9004 Suzanne Lane Suite 908\\r\\nMargaretville, KS 58925',\n",
       " '2304 Ho Hollow Suite 979\\r\\nCarlshire, DE 63767',\n",
       " '160 Clark Forest Apt. 459\\r\\nSpencestad, MN 73948',\n",
       " '73788 Grace Throughway Apt. 100\\r\\nLake Kimberly, VT 09065',\n",
       " '743 Pamela Motorway\\r\\nSouth Brian, HI 59897',\n",
       " '5461 Diana Islands\\r\\nNew Larrymouth, NY 98846',\n",
       " '7489 Jeremy Falls\\r\\nNew Darren, IA 13962',\n",
       " '648 Kaylee Parks\\r\\nCathyport, NE 32308',\n",
       " '7356 Frank Square\\r\\nSouth Nicoleshire, OR 33167',\n",
       " '512 Troy Knolls\\r\\nGilmoreside, WI 81698',\n",
       " '7115 Diana Heights\\r\\nVictorside, MT 47375',\n",
       " '0012 Debra Oval\\r\\nRyanside, FL 85387',\n",
       " '30683 Briggs Divide\\r\\nNew Nicholas, OH 78704',\n",
       " '35435 Munoz Circles\\r\\nSouth Denisehaven, AK 78249',\n",
       " '50687 Jessica Creek Apt. 562\\r\\nSouth Donaldtown, AZ 92995',\n",
       " '107 Chambers Pine\\r\\nNew Devinburgh, RI 50631',\n",
       " '187 Mary Mills\\r\\nKempside, KS 36442',\n",
       " '7572 Bell Lodge Suite 698\\r\\nEast Megan, HI 81677',\n",
       " '33635 Phillips Meadow\\r\\nSherrimouth, DC 74165',\n",
       " '3818 Cooper Forges Suite 774\\r\\nSimmonsland, DC 14896',\n",
       " '72400 White Shore Suite 441\\r\\nTranside, OR 53363',\n",
       " '39144 Joel Highway\\r\\nRodrigueztown, MI 72599',\n",
       " '4000 David Well\\r\\nLeeville, ME 61760',\n",
       " '890 Chaney Lake\\r\\nNorth Jonburgh, KY 25882',\n",
       " '52244 Morgan Freeway\\r\\nEmmaside, PA 96873',\n",
       " '231 Chang Parkways Suite 217\\r\\nAaronshire, NV 85740',\n",
       " '6618 Petty Drives\\r\\nHamiltonhaven, WI 12096',\n",
       " 'USS George\\r\\nFPO AP 84200',\n",
       " 'Unit 1394 Box 9311\\r\\nDPO AP 65632',\n",
       " '533 Lee Plains\\r\\nPittsberg, NV 72286',\n",
       " '462 Patel Corners\\r\\nSouth Danielville, NY 06238',\n",
       " '026 Robert Overpass Suite 362\\r\\nRyanburgh, ID 51438',\n",
       " '7722 Joseph Springs\\r\\nPort Kevin, PA 08172',\n",
       " '12717 Pamela Crossing Suite 075\\r\\nWest April, OH 11677',\n",
       " '0989 Allen Mill Suite 824\\r\\nHallview, MS 17382',\n",
       " '5506 Keith Fall Suite 988\\r\\nChristopherfurt, AK 57908',\n",
       " '153 Amber Meadows Suite 923\\r\\nNelsontown, OK 55376',\n",
       " '71969 Barnett Station Suite 996\\r\\nLake Rebeccatown, KY 96738',\n",
       " '312 Susan Court Apt. 029\\r\\nNew Robert, ME 63065',\n",
       " '2265 Aaron Hills\\r\\nLake Colleen, VA 26543',\n",
       " '765 Jessica Port\\r\\nBarbaraville, CT 87699',\n",
       " '45040 Lewis Shoals\\r\\nWhiteland, ND 74157',\n",
       " '4978 Lauren Isle Suite 271\\r\\nTaylorborough, ND 16729',\n",
       " '6470 Michael Shores\\r\\nDenisefurt, OR 35966',\n",
       " '97359 Bates Circle\\r\\nLake Jacob, AR 68329',\n",
       " '334 Monica Villages\\r\\nSouth Annetteton, HI 24266',\n",
       " 'USNS Hardy\\r\\nFPO AA 26526',\n",
       " '55104 Chris Mission Suite 468\\r\\nNew Joshuaborough, SD 38712',\n",
       " '3903 Matthew Parks\\r\\nPort Marcfort, ID 56663',\n",
       " 'PSC 0418, Box 6975\\r\\nAPO AE 40563',\n",
       " '83190 Franco Key Suite 175\\r\\nWyattside, ID 58208',\n",
       " '110 Jocelyn Oval\\r\\nJohnsonmouth, SC 44112',\n",
       " '318 Mark Views Apt. 483\\r\\nVillanuevahaven, TX 40241',\n",
       " '743 Morrison Ferry Apt. 921\\r\\nSouth Richard, NC 33924',\n",
       " '7824 Zamora Mountain Apt. 018\\r\\nLake Emilyport, IL 96164',\n",
       " 'Unit 8525 Box 0149\\r\\nDPO AA 90379',\n",
       " '184 Joseph Drive Suite 005\\r\\nJoemouth, NE 33839',\n",
       " 'PSC 4362, Box 1348\\r\\nAPO AP 46326',\n",
       " '02217 Amanda Locks Apt. 918\\r\\nLake Krista, OK 17329',\n",
       " '5380 Bryan Fort Suite 370\\r\\nJacksonton, NV 07248',\n",
       " '16804 Booker Road Suite 553\\r\\nDanielfurt, AR 31819',\n",
       " 'Unit 0256 Box 5694\\r\\nDPO AE 79820',\n",
       " '034 Hood Plains Suite 032\\r\\nJameshaven, AK 81505',\n",
       " '4123 Samuel Flat Apt. 168\\r\\nWilsonview, SD 42078',\n",
       " '0497 Craig Station Apt. 400\\r\\nNorth Julie, SC 59818',\n",
       " 'USNV Smith\\r\\nFPO AP 91163',\n",
       " '6791 Garcia Lock Suite 606\\r\\nFoxville, VA 62949',\n",
       " '06621 Zachary Courts\\r\\nNew Tinaberg, ID 21177',\n",
       " '320 Barry Island\\r\\nStephensontown, NH 31334',\n",
       " '51486 Lopez Canyon\\r\\nSouth Carlachester, NE 95102',\n",
       " '1183 Brown Common Suite 862\\r\\nParkerport, AL 29820',\n",
       " '131 Warren Lights\\r\\nNorth Sara, KS 60019',\n",
       " '24152 Henry Locks\\r\\nBurkebury, OR 80905',\n",
       " 'PSC 6445, Box 5765\\r\\nAPO AA 62565',\n",
       " '851 Burns Isle Suite 672\\r\\nLake Ericchester, GA 13704',\n",
       " 'PSC 1015, Box 0627\\r\\nAPO AP 55880',\n",
       " '5774 Heather Plaza Apt. 803\\r\\nStevenfurt, MS 54434',\n",
       " '1587 Brent Square Apt. 447\\r\\nEast Jill, FL 19651',\n",
       " '16005 Shannon Loaf\\r\\nReidport, ND 75101',\n",
       " '724 Bryant Lodge\\r\\nCarolineshire, TX 64242',\n",
       " '22452 Wagner Common\\r\\nNew Rileyland, MT 33938',\n",
       " '889 Ramos Dale Suite 491\\r\\nJosechester, NC 27528',\n",
       " '695 Baldwin Falls Apt. 527\\r\\nLake Maurice, AR 55708',\n",
       " '3316 Thompson Ridge Apt. 560\\r\\nStephenchester, MA 02621',\n",
       " '2671 Gonzalez Prairie\\r\\nAndrewborough, NH 57580',\n",
       " '32590 Sally Shoal\\r\\nPetersonville, HI 94752',\n",
       " '44886 Miguel Court Suite 936\\r\\nNew Dawn, NH 87172',\n",
       " '67487 Hopkins Wall Apt. 206\\r\\nEast Brandi, NM 52127',\n",
       " 'USNS Johnson\\r\\nFPO AA 19200',\n",
       " '432 James Divide Suite 967\\r\\nPittsmouth, TX 18596',\n",
       " 'Unit 0311 Box 2116\\r\\nDPO AP 22317',\n",
       " '767 Boyd Court Suite 455\\r\\nChelseaside, CT 29479',\n",
       " '57593 Erin Stream\\r\\nMorganstad, TX 50541',\n",
       " '9515 Jacob Mountains Apt. 971\\r\\nNew Shawna, AR 74737',\n",
       " '09025 Michael Bypass Apt. 092\\r\\nPort Charles, TN 36032',\n",
       " '45930 Nicole Estates\\r\\nNew Heather, MS 50758',\n",
       " '93999 Wiggins Radial\\r\\nWest Carolview, NH 70291',\n",
       " '7333 Lawson Stravenue\\r\\nWilliamstown, MN 08849',\n",
       " '8228 Christina Valleys\\r\\nLisamouth, NC 53046',\n",
       " '3718 Cline Mountains Suite 133\\r\\nPort Kevinshire, MI 24119',\n",
       " '05828 Mendez Pines\\r\\nNew Davidberg, AL 75353',\n",
       " '3947 Andrew Meadows\\r\\nStevenmouth, FL 24513',\n",
       " '951 Paul Mountains Apt. 915\\r\\nEast Kelsey, MD 62490',\n",
       " '487 Freeman Court Suite 558\\r\\nSouth Shaun, OH 33847',\n",
       " '14221 Olsen Canyon\\r\\nPort Brian, NC 48628',\n",
       " '916 Saunders Via Apt. 074\\r\\nPort Renee, IA 68482',\n",
       " 'Unit 9894 Box 7167\\r\\nDPO AP 17685',\n",
       " '4571 Samuel Fields Apt. 148\\r\\nWest Ryan, KS 01005',\n",
       " '60915 Jonathan Locks\\r\\nLake Samuelside, ID 97896',\n",
       " 'PSC 7923, Box 0499\\r\\nAPO AA 69784',\n",
       " '656 Marshall Knolls Apt. 161\\r\\nNorth Christopherberg, CT 28519',\n",
       " '9393 Arias Summit\\r\\nNew Rachel, WY 66460',\n",
       " '40341 Jonathan Trafficway Apt. 282\\r\\nPort Tom, CT 19441',\n",
       " '07722 Campos Circle Suite 233\\r\\nColinborough, MD 11773',\n",
       " 'PSC 2310, Box 5318\\r\\nAPO AA 52597',\n",
       " '779 John Walk Suite 738\\r\\nCarrieshire, NJ 87834',\n",
       " '9866 Larry Hill Suite 223\\r\\nJoshuaberg, VA 80427',\n",
       " '6868 Cooper Station\\r\\nPort Matthewfort, HI 40279',\n",
       " '948 Kent Spur\\r\\nSouth Hannahfurt, DC 08497',\n",
       " '2081 Natalie Centers Suite 279\\r\\nLake Jasonfurt, LA 51957',\n",
       " '6860 Mark Square\\r\\nNew Michealville, HI 42905',\n",
       " '24851 Williams Squares\\r\\nBrittanymouth, ME 69277',\n",
       " '22298 Smith Trail\\r\\nNew Catherinefurt, KS 85393',\n",
       " '015 Jeffrey Path\\r\\nNew Robinmouth, CA 48191',\n",
       " '59024 Tammy Rapid Suite 544\\r\\nJohnport, SD 14437',\n",
       " '64734 Sean Prairie\\r\\nFarmerside, WY 69377',\n",
       " '32820 Stephanie Knolls\\r\\nChristineshire, KY 40560',\n",
       " '3106 Robin Knolls\\r\\nBrookeborough, RI 89626',\n",
       " '7303 Clark Corner\\r\\nBenjaminland, OK 57432',\n",
       " '117 Bautista Garden Suite 951\\r\\nThomasside, MO 17297',\n",
       " '56110 Blake Point\\r\\nKatiefort, NY 02127',\n",
       " '4848 Clark Well Apt. 111\\r\\nNorth Michaelburgh, DC 40107',\n",
       " '36832 Brandon Mall Apt. 272\\r\\nNew Donna, MT 56622',\n",
       " '25584 Corey Common\\r\\nPort Kelseyfort, ME 00554',\n",
       " '9846 Jessica Street\\r\\nPort Kyleberg, AZ 94438',\n",
       " '0352 Gillespie Grove Suite 933\\r\\nEast Anthonyfurt, CT 74971',\n",
       " '7264 Justin Harbor\\r\\nNorth Jasmin, VT 83646',\n",
       " '4930 Lauren Center Apt. 345\\r\\nVargaston, DC 17326',\n",
       " '520 Holly Parkways\\r\\nCrystalview, TN 33085',\n",
       " '886 Diaz Point\\r\\nTimothymouth, RI 29219',\n",
       " '9198 Sara Trail\\r\\nDebbiemouth, DE 97515',\n",
       " '371 Steven Station Suite 485\\r\\nPaulchester, MN 49609',\n",
       " '98787 Wheeler Drive Suite 157\\r\\nSouth Larry, MD 53378',\n",
       " '46980 Morris Place\\r\\nWolfeton, IL 33188',\n",
       " '35073 Linda Islands\\r\\nLake Davidville, OR 53816',\n",
       " '82645 Peterson Radial Suite 957\\r\\nBethanybury, TX 68689',\n",
       " '14965 Brown Camp\\r\\nVancetown, DE 96634',\n",
       " '45173 Stephanie Shore\\r\\nFreemanchester, OR 02030',\n",
       " '704 Curtis Islands\\r\\nNorth Brian, LA 01574',\n",
       " '7085 Smith Branch Apt. 021\\r\\nNguyenview, HI 64533',\n",
       " '892 Pamela Way Suite 503\\r\\nTiffanychester, MD 88995',\n",
       " '352 Patrick Branch\\r\\nWarrenstad, WI 40459',\n",
       " '0540 Rivers Bypass\\r\\nPort Shannon, RI 24531',\n",
       " '0230 Douglas Shoals Suite 063\\r\\nPort Miranda, MI 89553',\n",
       " '1002 Blake Ports Suite 194\\r\\nEast Michaelshire, UT 04684',\n",
       " 'Unit 8818 Box 1233\\r\\nDPO AA 47299',\n",
       " '041 Bobby Station Suite 872\\r\\nKennethton, MN 75730',\n",
       " '80977 Bowman Run\\r\\nEast Gloria, NH 29552',\n",
       " '28422 Michael Underpass\\r\\nKevinstad, SC 30639',\n",
       " '13943 Susan Shoals Apt. 542\\r\\nMullenmouth, GA 30120',\n",
       " '9138 Bradley Loop Suite 228\\r\\nMillsbury, PA 58573',\n",
       " '646 Alexandra Parks Suite 554\\r\\nClarkside, CO 84281',\n",
       " '1133 Michael Gateway Apt. 067\\r\\nNoahland, IA 29675',\n",
       " '30409 Samantha Junctions\\r\\nTinaton, NH 45894',\n",
       " '2078 Ramos Points\\r\\nDawnstad, CO 58147',\n",
       " '3319 Jordan Skyway Apt. 704\\r\\nNorth Aaron, DE 79441',\n",
       " '335 Steven Loaf Suite 070\\r\\nNew Shawnbury, SC 43836',\n",
       " '73933 Kevin Coves Suite 868\\r\\nDouglasfurt, NJ 79644',\n",
       " '838 Melissa Dam Suite 147\\r\\nPort Rhonda, NC 77341',\n",
       " '652 Crystal Roads Apt. 929\\r\\nLake Margaret, MD 78848',\n",
       " '987 Darryl Island\\r\\nJacobview, ID 70800',\n",
       " '9788 Greg Port\\r\\nEast Richardburgh, MO 77774',\n",
       " 'Unit 2761 Box 1368\\r\\nDPO AP 88714',\n",
       " '915 David Dam Apt. 960\\r\\nLake Brian, ND 78766',\n",
       " '910 David Park Apt. 940\\r\\nMarshtown, VA 24560',\n",
       " '87996 Meghan Estate\\r\\nGrosschester, AR 75965',\n",
       " 'USNS Rogers\\r\\nFPO AA 04641',\n",
       " '136 Cooper Courts\\r\\nNew Rebecca, CO 32189',\n",
       " '4283 Acosta Club Suite 344\\r\\nNorth Adamville, TN 97575',\n",
       " '5279 Zachary Forges\\r\\nNorth Sonya, KY 55200',\n",
       " '222 Knight Loop\\r\\nPort Christina, NM 10958',\n",
       " '83506 Daisy Pike Suite 497\\r\\nWest Jacobberg, NJ 09999',\n",
       " '69450 Shannon Ridge Apt. 281\\r\\nJohnstad, ND 04122',\n",
       " '705 Michael Oval Suite 578\\r\\nAliciafurt, NV 65209',\n",
       " '33733 Savannah Green Apt. 467\\r\\nEast Daniel, CA 18527',\n",
       " '867 Barrett Dale Apt. 670\\r\\nDonaldchester, NH 07371',\n",
       " '3896 Stacey Prairie\\r\\nPort Anthonyfort, MO 86404',\n",
       " '569 Rivera Shores\\r\\nNorth Shane, KY 63052',\n",
       " '30043 Bruce Hills Apt. 402\\r\\nStacyhaven, WI 18951',\n",
       " '15673 Elizabeth Fork Suite 835\\r\\nJohnfort, WI 67288',\n",
       " '25641 Ford Green Apt. 015\\r\\nSteventon, OK 59715',\n",
       " '31413 Johnny Groves Suite 668\\r\\nHooverfort, VT 66119',\n",
       " '20506 Cooper Meadows\\r\\nCurtisberg, WA 72185',\n",
       " '46290 Ramirez Plain\\r\\nNew Michael, VT 96293',\n",
       " '5249 Deanna Gardens Suite 614\\r\\nSouth Breanna, NM 14463',\n",
       " '48011 Trevino Keys\\r\\nEast Natashaville, AK 66386',\n",
       " '7586 Kara Spring\\r\\nSuzanneside, IA 81790',\n",
       " '188 Williams Brook Apt. 963\\r\\nWest Morgan, FL 59210',\n",
       " '3083 Taylor Hollow Apt. 556\\r\\nAlyssamouth, AR 66616',\n",
       " '61363 Chelsea Freeway Apt. 845\\r\\nNew Lindaberg, NY 41462',\n",
       " '50506 Robert Shoal Suite 554\\r\\nNorth Lisa, OR 24199',\n",
       " '10871 Warner Shoals\\r\\nBradleyland, AR 94965',\n",
       " '3064 Dennis Pike\\r\\nSouth Sabrina, LA 29812',\n",
       " 'USCGC Richardson\\r\\nFPO AP 33944',\n",
       " '9504 Wong Rest\\r\\nParksport, TN 71782',\n",
       " '87885 Berry Union Apt. 321\\r\\nHarrisonland, NV 05908',\n",
       " '0013 Gonzalez Trail Suite 078\\r\\nWest Laura, LA 59978',\n",
       " '45762 Hayley Ramp Apt. 282\\r\\nNew Carrie, RI 61372',\n",
       " '1179 Mark Manor\\r\\nWest Amytown, HI 28812',\n",
       " '88894 Lewis Viaduct Apt. 623\\r\\nAprilfurt, LA 15837',\n",
       " '525 Samantha Dale Suite 490\\r\\nPort Sydneyfurt, NV 23692',\n",
       " '491 Oneill Highway Suite 183\\r\\nNew Deborahfort, NJ 70931',\n",
       " '02414 Ashley Trail Suite 399\\r\\nNorth Austin, MT 24385',\n",
       " '8754 Goodman Cliffs\\r\\nSouth Christopherland, NY 05227',\n",
       " '90558 Cindy Lodge\\r\\nJamesberg, NE 05383',\n",
       " '81111 Harris Place Apt. 942\\r\\nLake Mary, CA 04047',\n",
       " '9517 Lee Creek Suite 079\\r\\nSouth Stevenbury, NV 89317',\n",
       " '434 Wallace Divide\\r\\nLindamouth, ME 89842',\n",
       " '93563 Bonnie Springs\\r\\nWilsonside, CT 85294',\n",
       " 'Unit 4032 Box 0747\\r\\nDPO AA 59706',\n",
       " '60393 Pena Gardens\\r\\nEast Nancy, SD 64604',\n",
       " '937 Edwards Rapid Suite 847\\r\\nMatthewchester, CO 77047',\n",
       " '197 Ross Passage\\r\\nPort Jamesfort, NH 08829',\n",
       " 'Unit 8575 Box 6921\\r\\nDPO AE 94504',\n",
       " '41737 Pamela Highway\\r\\nEast Christine, CA 06075',\n",
       " '6166 Lisa Station Suite 305\\r\\nAyalaside, ME 25065',\n",
       " '603 Howard Mall\\r\\nPort Jeremiah, CT 64320',\n",
       " 'PSC 2153, Box 2576\\r\\nAPO AP 78353',\n",
       " 'USCGC Rivera\\r\\nFPO AE 57924',\n",
       " 'Unit 0201 Box 3609\\r\\nDPO AP 07170',\n",
       " '5889 Samantha Fork\\r\\nCollinsstad, NJ 75923',\n",
       " '29799 Walker Roads\\r\\nNew Jennifermouth, NM 25977',\n",
       " '70336 Fuller Hill Suite 775\\r\\nSherylchester, WI 69004',\n",
       " '90248 Nicole Streets\\r\\nJenningsborough, KY 31332',\n",
       " '82477 Houston Turnpike\\r\\nNorth Jacobstad, OK 04794',\n",
       " '1474 Harmon Lakes Apt. 733\\r\\nSouth Arthur, ME 01365',\n",
       " '1075 Nichols Views Suite 156\\r\\nThomasfurt, AL 49476',\n",
       " '16635 Moore Islands\\r\\nSouth Josephchester, MI 16888',\n",
       " 'Unit 9850 Box 6697\\r\\nDPO AA 36723',\n",
       " '1636 Kline Street Apt. 137\\r\\nHesterport, VT 97939',\n",
       " '271 Natasha Loop\\r\\nEast Stacy, CO 58748',\n",
       " '9319 Huang Summit Suite 564\\r\\nSouth Tammyfurt, MS 67574',\n",
       " '41962 Gregory Crescent Suite 736\\r\\nJonesmouth, TX 25836',\n",
       " '393 Lindsay Glen Suite 686\\r\\nJamesside, WA 47480',\n",
       " '5798 Cline Cliffs\\r\\nMillerside, IA 51788',\n",
       " '45116 Harris Islands\\r\\nOliviaburgh, VT 34956',\n",
       " '16123 Goodwin Crossing\\r\\nAmandahaven, WA 01551',\n",
       " '94391 Kline Tunnel\\r\\nNorth Angela, LA 13541',\n",
       " '173 Allen Circle Apt. 148\\r\\nReyesbury, WY 52203',\n",
       " '23204 Christopher Inlet Apt. 950\\r\\nKimberlyfort, ND 24338',\n",
       " '5262 Jackson Mews Suite 262\\r\\nEast Davidchester, OR 03278',\n",
       " '23264 Petersen Lodge\\r\\nUnderwoodborough, MA 40884',\n",
       " '8669 Erik Well\\r\\nNew Marilynshire, WV 79664',\n",
       " '076 Taylor Shoal Suite 233\\r\\nSouth Melindahaven, UT 79497',\n",
       " '05269 Gary Lane\\r\\nLake Nicole, TN 07724',\n",
       " '534 William Road Suite 795\\r\\nWest Joseph, VT 77544',\n",
       " '691 Wagner Stream Suite 297\\r\\nHinesmouth, MD 74856',\n",
       " '3140 Anderson Green\\r\\nWest Mauriceside, NM 51198',\n",
       " '52265 Hancock Light\\r\\nLake Rachel, TN 71666',\n",
       " '698 Megan Mills Suite 813\\r\\nBrianburgh, NV 60001',\n",
       " '7710 Mora Views Apt. 531\\r\\nEast Andreamouth, AR 15527',\n",
       " '676 Shaffer Path\\r\\nGrayland, VT 85798',\n",
       " '16346 Diaz Cliff\\r\\nNew Michael, NE 25033',\n",
       " '394 Villarreal Parkways Suite 236\\r\\nChangbury, IN 44222',\n",
       " '01572 Kristina Neck\\r\\nSimpsonchester, TN 35271',\n",
       " '1421 Bianca Divide\\r\\nEast Jeffrey, CO 21961',\n",
       " 'USCGC Cox\\r\\nFPO AA 39382',\n",
       " '6495 Davis Grove Apt. 043\\r\\nSouth Virginiafurt, MT 72166',\n",
       " '643 Amanda Trail Suite 104\\r\\nPort Richardview, IA 69136',\n",
       " '8231 Kathryn Hill\\r\\nHenryberg, ID 54156',\n",
       " '9105 Brent Valley\\r\\nSchmidthaven, NJ 27172',\n",
       " 'USS Griffin\\r\\nFPO AP 45433',\n",
       " '7554 Rich Plaza\\r\\nSouth Jamesstad, WY 67720',\n",
       " '72084 Lopez Green\\r\\nMooreborough, NC 80381',\n",
       " '28430 Timothy Forges Suite 958\\r\\nKiddmouth, NC 06877',\n",
       " 'USCGC Graham\\r\\nFPO AA 18074',\n",
       " '86249 Thomas Gateway\\r\\nIngramberg, WY 84601',\n",
       " '54797 Richards Creek Apt. 165\\r\\nNorth Omarmouth, LA 02568',\n",
       " '980 Heath Vista\\r\\nElizabethbury, ND 69070',\n",
       " '2414 Smith Turnpike\\r\\nNorth Jaime, MD 27786',\n",
       " '167 Kenneth Springs Apt. 814\\r\\nNew Phyllischester, LA 42120',\n",
       " '743 Barbara Walks\\r\\nSouth Mark, OK 31628',\n",
       " '37366 Thompson Ramp\\r\\nWest Terri, VT 37430',\n",
       " '58471 Curtis Lakes Apt. 706\\r\\nNew Gilbert, MA 54814',\n",
       " '816 Day Village\\r\\nWest Christopherbury, IN 22634',\n",
       " '2839 Herrera Streets Suite 247\\r\\nArellanomouth, KY 67457',\n",
       " '49072 Robinson Cliff\\r\\nPort Jessicaland, WV 97845',\n",
       " '915 Elliott Rapid\\r\\nNancyview, NV 09971',\n",
       " '859 Ellis Square\\r\\nJohnview, PA 78047',\n",
       " '7134 Seth Avenue\\r\\nMartinton, NJ 27716',\n",
       " '021 Frank Views\\r\\nSouth Shaun, AR 12256',\n",
       " '16950 Marshall Canyon\\r\\nTerryshire, AK 44007',\n",
       " '0411 Charles Ways\\r\\nStevenview, MI 42889',\n",
       " '3376 Mathew Flat Suite 791\\r\\nNew James, ID 92327',\n",
       " 'PSC 8359, Box 2623\\r\\nAPO AP 62111',\n",
       " '34682 Francisco Island Apt. 569\\r\\nNew Scott, OH 12224',\n",
       " '19211 Pamela Groves\\r\\nNew Markberg, GA 82179',\n",
       " 'Unit 3120 Box 0972\\r\\nDPO AP 45734',\n",
       " '66320 Ayers Fall Apt. 563\\r\\nConwaystad, AL 24146',\n",
       " '88371 Scott Oval Suite 207\\r\\nReginashire, AR 61133',\n",
       " '89702 Hannah Mission\\r\\nNew Heidi, IL 87709',\n",
       " '124 Decker Neck Suite 768\\r\\nNorth Stephanieburgh, MT 21198',\n",
       " '2096 Andre Locks\\r\\nHelenfurt, WI 13666',\n",
       " '2463 Bell Spurs\\r\\nSouth Kenneth, OH 57745',\n",
       " '77828 Johnson Field\\r\\nSouth Carlos, GA 58664',\n",
       " '6658 Leblanc Mount\\r\\nPort Deannaview, MI 39907',\n",
       " '12650 Johnson Via\\r\\nMaryburgh, LA 66486',\n",
       " '117 Michael Forge Suite 788\\r\\nHawkinsmouth, MS 36888',\n",
       " '3685 Cox Crossing Apt. 669\\r\\nJeanville, MD 02150',\n",
       " 'USNV Moran\\r\\nFPO AA 26262',\n",
       " '558 Gerald Throughway Apt. 704\\r\\nNorth Emilyshire, RI 99006',\n",
       " '030 Price Meadow\\r\\nNew Tami, WI 52765',\n",
       " '0624 Justin Neck\\r\\nDanielside, ME 88106',\n",
       " '996 Robinson Summit Apt. 617\\r\\nEast Briannamouth, IL 47357',\n",
       " '73756 Kathy Knolls\\r\\nWest Danielhaven, RI 67241',\n",
       " '07921 Kristin Inlet Suite 586\\r\\nRichardshire, LA 08518',\n",
       " '316 Danielle Forest Apt. 727\\r\\nToddmouth, FL 51861',\n",
       " 'Unit 8377 Box 7648\\r\\nDPO AA 95637',\n",
       " '353 Woods Avenue\\r\\nBarbaratown, NV 61647',\n",
       " '284 Jordan Views\\r\\nNortonfurt, WA 29471',\n",
       " '0179 Michelle Neck\\r\\nBrettport, IN 26556',\n",
       " '2508 Pacheco Fall\\r\\nEast William, MN 97730',\n",
       " '624 Jeremiah Inlet Suite 082\\r\\nEast Jerome, HI 19977',\n",
       " '88685 Blackwell View\\r\\nAndreamouth, NJ 63339',\n",
       " '003 Jordan Underpass Suite 211\\r\\nPort Travisland, NY 80004',\n",
       " '784 Lindsey Crossroad Apt. 375\\r\\nWest Ricky, VT 39764',\n",
       " '311 Rodriguez Freeway Apt. 146\\r\\nPort Pamelachester, NJ 28022',\n",
       " '4556 Fernandez Flat\\r\\nStephanietown, AK 70875',\n",
       " '408 Li Cliffs Suite 987\\r\\nThomaston, DC 74393',\n",
       " '584 Lopez Circles\\r\\nNorth Donna, VA 71311',\n",
       " '9219 Joshua Fork\\r\\nChristinefort, SC 91786',\n",
       " '9103 Reyes Bypass\\r\\nCarterborough, KY 56713',\n",
       " '88834 Wright Lodge Suite 860\\r\\nEast Cynthia, WV 81520',\n",
       " '39139 Amy Curve\\r\\nHillmouth, MT 08593',\n",
       " '337 Collins Forks Suite 461\\r\\nSouth Aprilburgh, GA 95907',\n",
       " '3575 Scott Union Suite 066\\r\\nPort Donnamouth, NV 42378',\n",
       " '05025 Dean Station Apt. 794\\r\\nSouth Brian, NE 40658',\n",
       " '204 Nguyen Greens\\r\\nMartinezfort, OR 71347',\n",
       " '64414 Eric Creek Apt. 433\\r\\nEast Joseph, CT 95272',\n",
       " 'USNV Parrish\\r\\nFPO AE 80421',\n",
       " '2708 Christopher Roads Suite 298\\r\\nWest Michelle, WY 10159',\n",
       " '9302 Julie Fort Apt. 947\\r\\nTimothyfort, MA 38232',\n",
       " '0629 Tyler Ways Suite 113\\r\\nNew Kaitlinburgh, WA 41196',\n",
       " '3361 Collins Centers Suite 883\\r\\nCarriestad, MI 25287',\n",
       " '703 Melissa Parkway Suite 280\\r\\nJaredmouth, TX 59283',\n",
       " '18968 Mitchell Meadows\\r\\nEast Jacobland, NC 11005',\n",
       " '26215 Rebecca Hill\\r\\nAndrewburgh, PA 09637',\n",
       " '472 David Spring\\r\\nNorth Elizabethton, IL 53678',\n",
       " '362 Moore Common Apt. 382\\r\\nPowellberg, OK 84075',\n",
       " '11591 Jonathan Glen\\r\\nLindamouth, WI 38002',\n",
       " '369 Williams Inlet Suite 339\\r\\nWest Bobby, TX 01181',\n",
       " 'PSC 9698, Box 8369\\r\\nAPO AE 52135',\n",
       " '00035 Mark Flat\\r\\nKellybury, MD 10047',\n",
       " '2043 Jacob Rapids\\r\\nCobbport, ID 83512',\n",
       " 'Unit 0984 Box 5751\\r\\nDPO AE 93050',\n",
       " '9989 Monica Viaduct Suite 069\\r\\nMollyfort, MN 68891',\n",
       " '41416 Ellis Island\\r\\nEdgarchester, OR 73214',\n",
       " '438 Hunt Ports Suite 702\\r\\nNorth Mario, NM 12150',\n",
       " '18592 Margaret Pine\\r\\nSouth Rachel, SD 46764',\n",
       " '372 Madeline Isle\\r\\nTimothyfort, RI 63293',\n",
       " '72204 Patton Plaza\\r\\nEast Ashley, NJ 58125',\n",
       " '1324 Rios Greens Apt. 315\\r\\nEricville, DE 46289',\n",
       " '46931 Laura Port\\r\\nNew Brittanyville, CA 67563',\n",
       " '4352 Harvey Mission\\r\\nJustinberg, CA 40574',\n",
       " '096 Ronald Course\\r\\nGarciafurt, DE 64603',\n",
       " '4558 Mary Views Apt. 428\\r\\nPort Jeffreyview, CA 24447',\n",
       " '484 Roger Harbor Apt. 430\\r\\nHeatherborough, PA 55009',\n",
       " '8719 Dorothy Turnpike\\r\\nSouth Gabriela, DC 03245',\n",
       " '289 Tanya Point Suite 972\\r\\nNew Danielfort, CO 89239',\n",
       " '31169 Roman Harbor\\r\\nRoseburgh, MS 70512',\n",
       " '516 Santiago Knolls Suite 817\\r\\nPort Justinhaven, NM 37086',\n",
       " '4463 Frederick Ridge Suite 390\\r\\nLeeview, IN 09049',\n",
       " '1625 Jonathan Village\\r\\nNorth Kevin, VA 82310',\n",
       " '175 Meyer Divide Suite 838\\r\\nTateberg, KS 53960',\n",
       " '505 Macdonald Throughway\\r\\nPowersmouth, ID 51054',\n",
       " '30034 Lee Wall\\r\\nEast Jessica, IA 11782',\n",
       " '88031 Wallace Grove Suite 580\\r\\nLake Tonyaton, MA 99513',\n",
       " '815 Burnett Lodge\\r\\nNorth Patrick, KS 77286',\n",
       " '000 David Drive Suite 808\\r\\nEast Christopher, GA 82071',\n",
       " '1589 Roy Freeway Suite 092\\r\\nEast Monicafurt, MT 47858',\n",
       " 'USNS Myers\\r\\nFPO AA 34795',\n",
       " '1831 Christina Village\\r\\nDuanemouth, KS 47890',\n",
       " '343 Andrew Circle\\r\\nHoffmanburgh, MI 44219',\n",
       " '532 Roth Mount Apt. 686\\r\\nFieldsmouth, FL 29446',\n",
       " '531 Carla Pines Apt. 349\\r\\nLake Ricardofurt, NJ 49631',\n",
       " '01582 Phillips Field\\r\\nNorth Carolyn, NH 02264',\n",
       " '2125 Joseph Vista Apt. 972\\r\\nRiverafort, VA 54673',\n",
       " '65146 Adam Brook\\r\\nEast Kevinfurt, PA 60575',\n",
       " 'Unit 3779 Box 5787\\r\\nDPO AE 02604',\n",
       " '147 Dana Terrace\\r\\nEast Christophermouth, IN 32890',\n",
       " '1183 French Overpass\\r\\nPrestonport, TX 51976',\n",
       " '81637 Cole Underpass Suite 520\\r\\nMeganmouth, KY 84850',\n",
       " 'USS Moore\\r\\nFPO AA 99740',\n",
       " '263 Randy Walk Suite 888\\r\\nEast Richard, SC 82294',\n",
       " '57772 Hicks Estate\\r\\nGeraldchester, ME 93206',\n",
       " '258 Harrison Alley Apt. 009\\r\\nRebeccastad, OH 65624',\n",
       " '8245 David Street\\r\\nNew Calvin, ND 02043',\n",
       " '198 Ivan Trail\\r\\nNorth Amandastad, MA 50355',\n",
       " 'USNS Austin\\r\\nFPO AA 22308',\n",
       " '9043 Clarke Gardens\\r\\nRichardsonstad, WV 63240',\n",
       " '692 Hodges Valley Suite 550\\r\\nPort Beth, IL 88120',\n",
       " '308 Tammy Village Apt. 989\\r\\nEast Timothybury, IA 86829',\n",
       " '86408 Katrina Route\\r\\nJohnsonstad, NV 45291',\n",
       " '186 Smith Glen Apt. 674\\r\\nMiaview, FL 92098',\n",
       " '7928 Garcia Bypass\\r\\nNew Andreaton, MO 45444',\n",
       " '97289 Cook Stravenue\\r\\nHernandezbury, KY 80609',\n",
       " '79309 Kristina Coves Apt. 516\\r\\nRodneyland, AR 04876',\n",
       " '8853 Dunn Squares Suite 296\\r\\nWest Walterside, IN 19712',\n",
       " '5204 Jeanne Pines\\r\\nNorth Laura, ND 24648',\n",
       " '51914 Norris Knoll Apt. 384\\r\\nValeriefurt, ND 12774',\n",
       " '25506 Jennifer Station Apt. 390\\r\\nNormanmouth, MO 83568',\n",
       " '52434 Carmen Cove Apt. 033\\r\\nBennettside, MT 87227',\n",
       " '830 Melinda Harbor\\r\\nFrosttown, NV 26060',\n",
       " '46703 Reilly Pines Suite 441\\r\\nBowmanhaven, WI 23562',\n",
       " '197 Rice Ports Suite 621\\r\\nDianaport, ME 55431',\n",
       " '473 Aguilar Inlet\\r\\nAprilchester, NM 92681',\n",
       " '32085 Jacob Curve\\r\\nLake Stevehaven, OK 41528',\n",
       " '2899 Taylor Mountains Suite 779\\r\\nChungburgh, NM 22662',\n",
       " '0028 Wilson Road Apt. 272\\r\\nKatherineport, CT 55353',\n",
       " '5481 Palmer Forks\\r\\nGregorystad, MO 12589',\n",
       " '0757 Robinson Turnpike\\r\\nNorth Daniel, MD 42950',\n",
       " '6244 Joshua Ridges\\r\\nMariafurt, NV 31553',\n",
       " '42057 Danny Inlet Apt. 490\\r\\nLopezville, MO 84838',\n",
       " '7623 Teresa Throughway Apt. 658\\r\\nLopezton, MA 61708',\n",
       " '5797 Watson Islands\\r\\nPort Steven, OH 33452',\n",
       " '9291 Suzanne Shores\\r\\nHarrischester, WA 62159',\n",
       " '82036 Kelly Union Apt. 258\\r\\nSouth Sue, WV 42876',\n",
       " '727 Steven Hills\\r\\nVanessamouth, SD 06391',\n",
       " '9786 Reynolds Coves Suite 518\\r\\nJoshuaberg, IN 45110',\n",
       " '163 Johnston Greens\\r\\nChristopherbury, FL 44498',\n",
       " 'USCGC Thomas\\r\\nFPO AA 47583',\n",
       " '56289 Russo Dam\\r\\nNew Davidberg, ID 27266',\n",
       " '4957 Kimberly Unions Apt. 335\\r\\nMargarettown, NY 59407',\n",
       " '8967 Flores Rapid Apt. 505\\r\\nSawyerfurt, IN 47919',\n",
       " '318 Anderson Prairie Apt. 298\\r\\nNew Robert, MO 00914',\n",
       " '0019 Grant Loaf Suite 757\\r\\nEast Christine, AR 35237',\n",
       " '1431 Eric Camp Apt. 401\\r\\nWest Yolandaborough, DC 88373',\n",
       " 'Unit 5408 Box 3546\\r\\nDPO AP 92093',\n",
       " '23611 Dominguez Walk Apt. 929\\r\\nMichaelfurt, VA 74886',\n",
       " '1036 Zachary Burg Suite 734\\r\\nWest James, TN 30865',\n",
       " 'Unit 8769 Box 5796\\r\\nDPO AE 97310',\n",
       " '277 Cannon Pike\\r\\nEast Raymond, NY 86597',\n",
       " 'USCGC Moore\\r\\nFPO AP 04342',\n",
       " 'Unit 1903 Box 8954\\r\\nDPO AP 89538',\n",
       " '35889 Avery Locks Apt. 787\\r\\nWest Josephbury, OH 82516',\n",
       " '3567 Singh Corner Suite 622\\r\\nPort Michael, CA 33066',\n",
       " '3629 Robert Rapid Suite 208\\r\\nJudithshire, NM 09515',\n",
       " '1593 Blake Mission Apt. 991\\r\\nNorth Evan, OK 02401',\n",
       " '546 Rose Flats Suite 901\\r\\nWest Shannon, KY 93756',\n",
       " 'USNV Combs\\r\\nFPO AA 43840',\n",
       " '4644 Sims Pines Suite 561\\r\\nBrandonport, MN 78993',\n",
       " 'PSC 7513, Box 5447\\r\\nAPO AE 99177',\n",
       " '964 John Burg\\r\\nEast Sonya, NV 96323',\n",
       " '297 Timothy Extension\\r\\nSouth Rachel, OR 02285',\n",
       " '7147 Rebecca Burgs\\r\\nChristychester, NJ 18697',\n",
       " '664 Dixon Isle\\r\\nSouth Cody, VA 27011',\n",
       " '6943 Weaver Turnpike\\r\\nWest Philip, ID 87091',\n",
       " '58911 Newton Terrace\\r\\nRodriguezborough, OH 15458',\n",
       " 'USNV Johnson\\r\\nFPO AA 82755',\n",
       " '9034 Maria Court Apt. 746\\r\\nNew Crystalbury, UT 85604',\n",
       " 'PSC 0304, Box 3636\\r\\nAPO AE 93257',\n",
       " '247 Landry Forge\\r\\nBrownborough, VT 68210',\n",
       " 'Unit 5740 Box 2482\\r\\nDPO AP 68916',\n",
       " 'Unit 3639 Box 6879\\r\\nDPO AE 55396',\n",
       " '00998 Salazar Expressway Apt. 553\\r\\nWest Kayla, GA 45223',\n",
       " '6444 George Curve Suite 906\\r\\nNew Mary, GA 22497',\n",
       " 'Unit 8226 Box 1758\\r\\nDPO AE 99003',\n",
       " '3807 Emily Turnpike Suite 914\\r\\nRodneymouth, CT 36575',\n",
       " '5016 Diaz Summit\\r\\nNorth Anthonyberg, TX 58770',\n",
       " '03501 Cox Terrace\\r\\nNew Kendra, ND 30347',\n",
       " '96822 Lane Mill Apt. 898\\r\\nPort Melissa, NJ 87289',\n",
       " '02796 Theodore Squares\\r\\nWest Amber, CA 82823',\n",
       " '8941 Kimberly Forge\\r\\nMarkport, NJ 14424',\n",
       " '61000 Cohen Drives Suite 312\\r\\nSherryshire, IL 66726',\n",
       " '527 Bradley Forks\\r\\nSnydermouth, LA 09035',\n",
       " '4186 Jones Walk\\r\\nJocelynland, ID 20940',\n",
       " '655 Cynthia Lane Apt. 206\\r\\nLake Austinhaven, VT 93279',\n",
       " '37401 Casey Corner\\r\\nBrownmouth, MD 21724',\n",
       " '56190 Perry Street Apt. 106\\r\\nEvanshaven, MD 71162',\n",
       " '84511 Montgomery Walks\\r\\nJennifermouth, KY 34249',\n",
       " 'Unit 6750 Box 0176\\r\\nDPO AE 17702',\n",
       " '99324 Harvey Loaf\\r\\nSouth Valerie, VA 42592',\n",
       " '1965 Thomas Drives Apt. 443\\r\\nEast Angela, ND 15911',\n",
       " '9523 Karen Rest\\r\\nNew Tony, HI 79465',\n",
       " 'USNS Torres\\r\\nFPO AE 85839',\n",
       " 'PSC 2737, Box 3405\\r\\nAPO AP 85733',\n",
       " '2230 Kimberly Grove\\r\\nBrandonberg, HI 28377',\n",
       " '936 Graham Isle Apt. 879\\r\\nPort Courtneyfort, NC 08451',\n",
       " '432 Martha Estate\\r\\nNew Joshua, MI 56599',\n",
       " 'USCGC Fischer\\r\\nFPO AA 41201',\n",
       " '83913 Clements Mills Suite 928\\r\\nEast Andrewborough, PA 62323',\n",
       " '199 James Fields\\r\\nAliview, VA 07794',\n",
       " '41891 Bass Expressway\\r\\nNorth Derek, MS 83876',\n",
       " '6698 Wu Hill Apt. 077\\r\\nMolinaberg, VA 59526',\n",
       " '87466 Luis Greens Suite 617\\r\\nLake Madelineberg, CT 87829',\n",
       " '690 Melissa Plains\\r\\nBaxterfort, IA 05107',\n",
       " '57502 Jonathan Drive\\r\\nWest Katherine, MS 27827',\n",
       " '14619 David Terrace\\r\\nWest Robert, IL 82465',\n",
       " '096 Jackson Drive Suite 404\\r\\nPort Elizabethview, AR 52946',\n",
       " '92656 Amy Plain\\r\\nNew Lauramouth, UT 38049',\n",
       " '41824 Lucas Street Suite 822\\r\\nGilbertberg, FL 83075',\n",
       " '685 Robert Track Suite 296\\r\\nEast Amyville, TN 44427',\n",
       " 'PSC 2356, Box 5114\\r\\nAPO AE 66273',\n",
       " '267 Ryan Turnpike\\r\\nWellsmouth, HI 05231',\n",
       " '9806 Alicia Mews\\r\\nFieldschester, SC 10676',\n",
       " '0899 Jessica Well Apt. 402\\r\\nWest Sharon, KY 49564',\n",
       " '1445 Cooper Forges Suite 048\\r\\nRonnieberg, AL 47634',\n",
       " '07318 Harrell Glen Suite 884\\r\\nEast Daniel, NY 67865',\n",
       " '570 Jessica Island\\r\\nLeonbury, MT 19345',\n",
       " '69419 Ward Squares Suite 386\\r\\nEast Daniel, MO 87412',\n",
       " '54374 Stefanie Heights\\r\\nLake Wesleyberg, SC 46369',\n",
       " 'Unit 9365 Box 1965\\r\\nDPO AE 70243',\n",
       " '08504 James Gateway Suite 285\\r\\nNorth Roberthaven, MA 65759',\n",
       " '7953 Stephenson Island Suite 518\\r\\nStevenschester, KS 73526',\n",
       " '722 Deanna Union Suite 378\\r\\nJenkinsbury, NE 26007',\n",
       " '5332 Singh Corner\\r\\nNorth Melissahaven, MN 93950',\n",
       " 'Unit 0791 Box 5979\\r\\nDPO AA 67929',\n",
       " '1495 Carr Curve\\r\\nAlexandershire, IL 76650',\n",
       " '66159 Turner Parks\\r\\nEast Shawn, NC 71800',\n",
       " '72588 Shepard Spring\\r\\nWest Samanthahaven, CT 07405',\n",
       " 'PSC 9254, Box 8270\\r\\nAPO AP 55006',\n",
       " '269 Lisa Fall\\r\\nWest David, VT 63798',\n",
       " 'PSC 4700, Box 8559\\r\\nAPO AP 96472',\n",
       " '9774 Frank Corners Suite 535\\r\\nPort Lanceberg, GA 66652',\n",
       " '9661 Jo Route\\r\\nLewistown, PA 64557',\n",
       " '75067 Mullen Creek\\r\\nDesireemouth, VA 10850',\n",
       " 'USCGC Snyder\\r\\nFPO AP 26449',\n",
       " 'PSC 9604, Box 9701\\r\\nAPO AP 82403',\n",
       " '66150 Chambers Throughway\\r\\nEast Stephanieton, OK 98157',\n",
       " '476 Gina Spring\\r\\nChelseachester, RI 33032',\n",
       " '790 Lorraine Dale\\r\\nNorth Anne, KY 87749',\n",
       " '16749 Robinson Canyon\\r\\nNorth Lisamouth, OK 30210',\n",
       " '406 Sandra Rapid Suite 839\\r\\nJoseburgh, WY 37743',\n",
       " '8196 Ballard Garden\\r\\nLake Wyatt, MD 03876',\n",
       " '54106 Benjamin Lodge Apt. 122\\r\\nSouth Michaeltown, IN 01714',\n",
       " '15139 Clay Creek Apt. 059\\r\\nMargaretborough, WA 81580',\n",
       " '940 Peterson Groves\\r\\nLake Michael, MS 39682',\n",
       " 'PSC 3841, Box 5935\\r\\nAPO AP 06149',\n",
       " '40975 Joseph Hill Suite 684\\r\\nBeckstad, CT 12385',\n",
       " '901 Carlos Drive\\r\\nEast Amyview, NC 46571',\n",
       " '6957 Fuller Junction Suite 423\\r\\nEast Noahmouth, MD 91481',\n",
       " '0431 Hinton Landing\\r\\nNorth Georgeside, NM 49291',\n",
       " '08234 Cindy Terrace Apt. 761\\r\\nEast Ashleyberg, FL 14379',\n",
       " 'USS Mays\\r\\nFPO AA 97880',\n",
       " '67767 Adam Port\\r\\nLewisburgh, AZ 67680',\n",
       " '16811 Werner Lake Suite 436\\r\\nSouth Nicole, IA 31879',\n",
       " '47145 Eric River Apt. 492\\r\\nNew Stevenview, UT 12318',\n",
       " '827 Edwin Falls Suite 418\\r\\nLake Dawn, AK 16797',\n",
       " '47985 Baker Terrace Apt. 813\\r\\nNew Samanthaville, MT 55134',\n",
       " '148 Carolyn Junction\\r\\nRogersbury, WA 83382',\n",
       " '1809 Lopez Glens\\r\\nLake Christopher, CO 75526',\n",
       " '8548 Ramirez Glens\\r\\nHillview, CO 99100',\n",
       " '412 Price Isle\\r\\nShelleyview, WA 62115',\n",
       " '91562 Kimberly Estate\\r\\nPort Maryland, NH 40542',\n",
       " '67806 Brown Forest Apt. 872\\r\\nNorth Stacybury, TX 23791',\n",
       " '9258 Chambers Roads\\r\\nWest Tony, VT 65669',\n",
       " '03745 Vazquez Centers Suite 928\\r\\nEast Kylemouth, CA 23454',\n",
       " '897 Davies Crescent Suite 652\\r\\nPort Ericberg, NJ 39774',\n",
       " '6810 Young Alley\\r\\nMichaelside, NY 29988',\n",
       " '0837 Martin River Suite 727\\r\\nGallegosport, VT 98785',\n",
       " '975 Long Creek\\r\\nJamesstad, FL 06692',\n",
       " 'Unit 4377 Box 7153\\r\\nDPO AA 21187',\n",
       " 'Unit 0067 Box 0452\\r\\nDPO AE 39683',\n",
       " '53821 Villarreal Viaduct Apt. 315\\r\\nPort Elizabethland, IN 46809',\n",
       " '04071 Brown Falls Suite 940\\r\\nWest Erinside, NJ 67847',\n",
       " '1838 Chavez Trail Suite 104\\r\\nNew Cathyborough, WI 51764',\n",
       " '11532 Walker Ford Suite 380\\r\\nSouth Brianborough, TN 32958',\n",
       " '418 Marc Ridges\\r\\nEast Victorstad, CO 39067',\n",
       " '4380 Jones Dam\\r\\nLake Carol, OR 18700',\n",
       " '1877 Durham Port\\r\\nSouth Sarahview, TX 85420',\n",
       " '38447 Rivera Harbor Suite 906\\r\\nLopezfort, NY 60708',\n",
       " '45524 Dunn Mission\\r\\nSmithville, AL 53431',\n",
       " 'Unit 1003 Box 0302\\r\\nDPO AE 73585',\n",
       " 'Unit 9676 Box 3557\\r\\nDPO AA 12445',\n",
       " '16882 Lindsey Way\\r\\nEast Deborah, MT 29624',\n",
       " '72175 Robert Court Suite 094\\r\\nAmandafort, OR 15063',\n",
       " 'Unit 0467 Box 5308\\r\\nDPO AA 87900',\n",
       " '76471 Darren View Suite 939\\r\\nLake Jasonview, CT 38390',\n",
       " '4773 Matthews Mountain Apt. 590\\r\\nWest Brian, NE 91719',\n",
       " '02450 Crystal Route\\r\\nNew Jeffrey, KS 50237',\n",
       " 'USNV Sanchez\\r\\nFPO AA 39214',\n",
       " 'PSC 2871, Box 0176\\r\\nAPO AE 91844',\n",
       " '3089 Angela Island Suite 596\\r\\nPort Victoria, LA 26869',\n",
       " '835 Karen Harbor\\r\\nJeremyfort, MD 62505',\n",
       " '818 Kelly Shoals\\r\\nGregoryville, LA 34546',\n",
       " '6940 Ashley Falls\\r\\nMorrischester, MN 50678',\n",
       " '377 Katelyn Viaduct Suite 260\\r\\nMartineztown, PA 27471',\n",
       " '53769 Alexander Mission\\r\\nLisaburgh, ME 62249',\n",
       " 'Unit 3814 Box 8581\\r\\nDPO AP 69687',\n",
       " '598 William Drive Suite 972\\r\\nHarringtontown, ME 60663',\n",
       " 'USCGC Lee\\r\\nFPO AP 61157',\n",
       " '67095 Brandon Forest Suite 183\\r\\nSuarezborough, CA 57175',\n",
       " '423 Randy Crescent\\r\\nCynthiaburgh, UT 72816',\n",
       " '28239 Pineda Causeway\\r\\nBaileyland, GA 10587',\n",
       " '99362 Cooper Cape\\r\\nPopeside, MS 12896',\n",
       " '364 Alyssa Mountain\\r\\nTimville, MT 26041',\n",
       " '488 Dale Summit Apt. 654\\r\\nNorth Stephanietown, NC 39960',\n",
       " '6574 Mcbride Lane\\r\\nNorth Dean, AL 30658',\n",
       " '0362 Stone Valley\\r\\nPort John, AK 35371',\n",
       " '81266 Jennifer Isle Suite 309\\r\\nSanchezton, OH 41976',\n",
       " 'Unit 7617 Box 4183\\r\\nDPO AA 24113',\n",
       " '3465 Gutierrez Bridge\\r\\nPort Ricardo, FL 86382',\n",
       " 'PSC 3426, Box 4890\\r\\nAPO AA 62246',\n",
       " '6999 Stephanie Plaza Suite 900\\r\\nElizabethburgh, SD 11347',\n",
       " '2554 Jose Stream\\r\\nSpearsmouth, ID 91247',\n",
       " '26044 Clark Park Suite 204\\r\\nWest Christopher, MN 40399',\n",
       " '0733 Lynn Gardens\\r\\nWest Nathanstad, MS 25831',\n",
       " '4086 Kelly Common\\r\\nEast Austin, TX 32136',\n",
       " 'Unit 1831 Box 8177\\r\\nDPO AA 96382',\n",
       " 'USS Joseph\\r\\nFPO AE 06805',\n",
       " '01953 Stewart Lights Suite 978\\r\\nLake Charles, MT 78985',\n",
       " '54351 Cristian Pike\\r\\nVanessastad, IL 23673',\n",
       " '317 Rodriguez Square Apt. 252\\r\\nEast Sarah, CA 09517',\n",
       " 'PSC 7278, Box 1901\\r\\nAPO AA 51047',\n",
       " 'USS Smith\\r\\nFPO AA 26602',\n",
       " '91689 Gordon Ramp Suite 276\\r\\nNew Samantha, ID 86396',\n",
       " 'PSC 1780, Box 2703\\r\\nAPO AA 02049',\n",
       " '314 Ramos Isle\\r\\nThompsonmouth, OR 74395',\n",
       " '88090 Gutierrez Burg Apt. 543\\r\\nEast Jennifertown, IN 30746',\n",
       " '0471 Mack Mountain\\r\\nKentport, AZ 84687',\n",
       " '14149 Andrew Drive\\r\\nWilliamsstad, WI 91187',\n",
       " '545 Anthony Mill\\r\\nEast Susan, CT 66632',\n",
       " '1759 Taylor Plaza Suite 265\\r\\nRamirezshire, DC 38832',\n",
       " '4154 Briana Loaf\\r\\nNew Teresa, PA 03995',\n",
       " '03287 Thomas Spring Suite 717\\r\\nTammyport, RI 97458',\n",
       " '29663 Ross Fields Suite 746\\r\\nKingchester, KY 80487',\n",
       " '6795 Koch Expressway\\r\\nNorth Erin, MA 46117',\n",
       " '55730 Barbara Hill\\r\\nWest Jeffreymouth, MD 66497',\n",
       " '1815 Erik Springs\\r\\nAndrewland, IL 83368',\n",
       " '6965 Walker Valleys\\r\\nHarrisview, MN 86791',\n",
       " '97834 Frazier Spurs\\r\\nNorth Robertport, VA 93785',\n",
       " '9394 Hunter Motorway Suite 689\\r\\nSouth Chasemouth, GA 89606',\n",
       " '8445 Walters Prairie\\r\\nJacobshire, WY 90144',\n",
       " '365 Owens Tunnel\\r\\nNew Jeffrey, MI 77146',\n",
       " '465 Hernandez Crossing Suite 792\\r\\nEast Randy, IA 31734',\n",
       " '740 Brooks Extensions Apt. 735\\r\\nNew Susanton, UT 55505',\n",
       " '0443 Mejia Drive\\r\\nEast Matthew, NJ 19018',\n",
       " '682 Jack Landing\\r\\nNew Rebecca, TN 26900',\n",
       " '221 William Hollow\\r\\nFosterside, SD 75363',\n",
       " '8219 Anthony Center Suite 465\\r\\nWest Albert, TX 13742',\n",
       " '358 Cowan Cliffs Suite 451\\r\\nNew Jamesstad, WY 37153',\n",
       " '0873 Moore Falls Apt. 439\\r\\nPort Joshuaborough, SC 57594',\n",
       " '8479 Sweeney Manors\\r\\nLake Elizabeth, RI 19571',\n",
       " '162 Eric Place Apt. 979\\r\\nNew Hollyside, WI 02799',\n",
       " '5093 Melissa Knolls\\r\\nSouth Carmen, KY 27318',\n",
       " '81334 Chelsey Springs Suite 243\\r\\nNew Kevinstad, DE 99313',\n",
       " '34545 Christopher Prairie Suite 796\\r\\nNorth Jason, VT 52502',\n",
       " '97697 Connie Burgs Suite 927\\r\\nKatherinemouth, KS 89603',\n",
       " '655 William Ranch\\r\\nRichardton, OK 48783',\n",
       " '139 Nicole Springs Apt. 587\\r\\nNorth John, VT 78213',\n",
       " '96450 Michael Brooks Apt. 152\\r\\nWest Richard, NY 67061',\n",
       " '4575 Lopez Spurs Apt. 645\\r\\nJessicachester, DE 45671',\n",
       " '7448 Phillips Isle\\r\\nWyattberg, ID 47265',\n",
       " '979 Edwards Trace Apt. 257\\r\\nEricland, WY 97424',\n",
       " '08594 Kelly Knolls\\r\\nPort Mary, CO 27012',\n",
       " '9596 Booker Pike\\r\\nNew William, CT 95469',\n",
       " '73218 Ryan Creek\\r\\nWilliamsport, OR 45751',\n",
       " '9458 Kirk Overpass\\r\\nAllenstad, AK 79577',\n",
       " '4826 Cruz Street\\r\\nPort Dorothyfurt, DE 23665',\n",
       " '60330 Holmes Forest Suite 267\\r\\nStewartside, KS 00946',\n",
       " '216 Dougherty Rue\\r\\nJerryberg, RI 71025',\n",
       " '66829 Martinez Shoals Apt. 236\\r\\nPort Sandra, TX 55162',\n",
       " '762 Jimenez Stream Suite 269\\r\\nWest Anitamouth, NM 84472',\n",
       " '5951 Stewart Landing\\r\\nNorth Charles, IN 59250',\n",
       " '24780 Davenport Squares\\r\\nPetersonstad, NY 27398',\n",
       " '89031 Combs Dale\\r\\nLewisview, MO 01527',\n",
       " 'USCGC Garza\\r\\nFPO AE 71367',\n",
       " '2555 James Mall Apt. 056\\r\\nJamesview, RI 87831',\n",
       " '100 Griffin Glen Suite 394\\r\\nBrownville, OR 48534',\n",
       " '87332 Ronald Walk Apt. 278\\r\\nNorth Sarahchester, IL 60036',\n",
       " '38567 Todd View\\r\\nLake Danahaven, VA 54585',\n",
       " '7047 Holly Via Suite 871\\r\\nSouth Dawnfurt, KY 94440',\n",
       " '038 Diaz Motorway Apt. 382\\r\\nGrayberg, OK 51763',\n",
       " '16048 Potter Lane Apt. 544\\r\\nBretttown, MS 67055',\n",
       " 'Unit 4863 Box 8358\\r\\nDPO AA 36940',\n",
       " '32905 Carl Prairie\\r\\nLake Jameschester, SC 31311',\n",
       " '5510 Ryan Parkway\\r\\nCharleschester, DE 94533',\n",
       " '3987 Sheri Greens\\r\\nSouth Samanthaport, CA 41534',\n",
       " '6210 Munoz Expressway Suite 834\\r\\nPort Kyleborough, CO 42548',\n",
       " '2627 Chapman Ways\\r\\nEast Tanyaborough, OK 70319',\n",
       " 'Unit 5030 Box 0444\\r\\nDPO AA 24406',\n",
       " '31640 Walker Camp\\r\\nJoannamouth, HI 06083',\n",
       " '86808 Daniel Drive Apt. 780\\r\\nReedtown, MT 61095',\n",
       " 'PSC 3034, Box 4023\\r\\nAPO AE 81834',\n",
       " '964 Davis Center\\r\\nNew Timothy, NC 78325',\n",
       " '861 Ronald Knoll Apt. 987\\r\\nAngelaborough, AZ 76014',\n",
       " 'Unit 2348 Box 0974\\r\\nDPO AP 18061',\n",
       " 'USCGC Owens\\r\\nFPO AA 28335',\n",
       " 'PSC 6708, Box 9342\\r\\nAPO AE 36443',\n",
       " '2612 John Forks\\r\\nPort Tinaborough, TX 08277',\n",
       " '70894 Stephanie Glens\\r\\nJennyborough, AL 56458',\n",
       " 'USNV Harmon\\r\\nFPO AA 09461',\n",
       " '288 Black Knoll\\r\\nNorth Michael, DC 07369',\n",
       " '79322 Brown Coves\\r\\nNew Chadbury, WA 28239',\n",
       " '359 Hampton Mountain\\r\\nStevenchester, NJ 93377',\n",
       " '345 David Centers\\r\\nMichaelport, AL 24077',\n",
       " 'Unit 4451 Box 5750\\r\\nDPO AE 36298',\n",
       " '5279 Williams Falls Suite 033\\r\\nTimburgh, UT 54120',\n",
       " '66311 Henry Knoll Suite 213\\r\\nWest Adamchester, DC 72875',\n",
       " '8185 Vang Union\\r\\nNew Fernandotown, KY 51892',\n",
       " '461 Edward Meadow\\r\\nNew Shannonport, NY 60520',\n",
       " '9850 Parks Mission Apt. 367\\r\\nJohnbury, MI 03853',\n",
       " '08579 Darrell Orchard Suite 478\\r\\nWest Mauricestad, IN 86756',\n",
       " 'PSC 4076, Box 0182\\r\\nAPO AE 73845',\n",
       " '4925 Emily Plains\\r\\nKirbyview, NC 56910',\n",
       " '035 Daniel Ville Apt. 282\\r\\nLake Kaylamouth, OR 58021',\n",
       " '627 Maureen Hollow Suite 115\\r\\nDianetown, TN 28384',\n",
       " '057 Robert Manors\\r\\nBrittneymouth, IA 22182',\n",
       " '975 Gonzalez Orchard Apt. 633\\r\\nMartinstad, TX 57447',\n",
       " '943 Daniel Alley\\r\\nEast Raymond, AZ 10279',\n",
       " '4126 Gutierrez Pine\\r\\nAlexanderchester, FL 11711',\n",
       " '062 Kelly Skyway Apt. 575\\r\\nNew Jessica, WV 52092',\n",
       " '9904 Lisa Cliffs Suite 512\\r\\nGabriellahaven, TN 23298',\n",
       " '636 Daniel Vista Suite 333\\r\\nJenniferview, UT 91365',\n",
       " '3944 Wendy Ferry Suite 221\\r\\nLake Gavin, DE 43621',\n",
       " '7977 Suzanne Hills Apt. 870\\r\\nAustinville, NH 40631',\n",
       " '72206 Humphrey Ramp\\r\\nNorth Donald, VT 83423',\n",
       " 'Unit 2634 Box 9112\\r\\nDPO AA 64774',\n",
       " '871 Bryan Fork\\r\\nHansonville, NE 59463',\n",
       " '35798 Patricia Port Apt. 963\\r\\nNorth Katie, RI 61276',\n",
       " '36358 Mcgrath Terrace Suite 948\\r\\nWest Gregoryport, KS 27731',\n",
       " '913 Williams Land Suite 703\\r\\nSouth Thomasbury, NV 34842',\n",
       " '3485 Kristina Field Apt. 232\\r\\nNorth Jonathanborough, MO 44843',\n",
       " '1761 French Manor\\r\\nJameschester, NJ 41338',\n",
       " '35240 Elizabeth Oval Apt. 335\\r\\nJamiemouth, MD 52823',\n",
       " '165 Mcdonald Stream Apt. 134\\r\\nEast Elizabethtown, ME 05638',\n",
       " '78454 Jennifer Burg Suite 366\\r\\nNguyenton, CA 95008',\n",
       " '6987 Cherry Place\\r\\nVirginiamouth, OH 54651',\n",
       " '9079 Sandra Tunnel\\r\\nStephentown, NJ 11846',\n",
       " '975 Matthew Plains Apt. 194\\r\\nBrettfort, MT 93319',\n",
       " '26748 Christian Island Apt. 975\\r\\nEast Ashleyview, FL 23475',\n",
       " '0511 Lindsey Roads\\r\\nSouth Drewmouth, TN 09472',\n",
       " '853 Tate Drive\\r\\nLake Julia, KY 50338',\n",
       " '69540 Johnson Square\\r\\nNorth Cherylchester, WI 86053',\n",
       " 'Unit 9136 Box 7789\\r\\nDPO AA 30052',\n",
       " '492 Michael Port Apt. 850\\r\\nWest Tiffany, TN 31582',\n",
       " '340 Tiffany Neck\\r\\nNorth Russellberg, AL 01499',\n",
       " '133 Davis Corner Apt. 872\\r\\nAlvarezbury, RI 38489',\n",
       " '125 Jordan Station Apt. 389\\r\\nMichaelmouth, FL 21960',\n",
       " '27786 Clark Well Suite 988\\r\\nJeffreyside, MO 86320',\n",
       " '183 Elizabeth Plaza Apt. 098\\r\\nWest Shawn, DC 88825',\n",
       " '8837 Priscilla Cape\\r\\nAnnaborough, AK 28527',\n",
       " '8172 Davis Falls\\r\\nJoyceport, NJ 18868',\n",
       " '8859 Christian Meadow Apt. 781\\r\\nPort Rebecca, IA 15575',\n",
       " '2255 Hopkins Garden\\r\\nSouth Alexandra, MD 39636',\n",
       " '688 Cortez Ridge Suite 469\\r\\nNew Steven, CT 21120',\n",
       " '63347 John Ports\\r\\nBallberg, TN 54158',\n",
       " '32252 Singleton Harbors Suite 754\\r\\nGeraldfort, DC 05929',\n",
       " '1690 Pamela Gateway Suite 737\\r\\nMossborough, RI 68184',\n",
       " '63561 Thomas Cliffs Apt. 158\\r\\nRodgersmouth, CA 99738',\n",
       " '177 Barber Groves Suite 890\\r\\nSouth Anitaton, IN 35068',\n",
       " '14937 Erin Estate\\r\\nEast Jacob, NJ 07299',\n",
       " '6582 Laurie Plains Suite 955\\r\\nPort Beth, NE 63274',\n",
       " 'USS Salazar\\r\\nFPO AA 29465',\n",
       " '61938 Williams Extensions Apt. 586\\r\\nLisaberg, MI 17685',\n",
       " '475 Ferguson Circles\\r\\nConnorhaven, AZ 98956',\n",
       " '5000 Katrina Club Apt. 223\\r\\nSabrinachester, NE 35949',\n",
       " 'USNS Wallace\\r\\nFPO AA 38429',\n",
       " '58101 Phillips Glen Suite 247\\r\\nBradleymouth, NV 59635',\n",
       " '467 Daniel Lodge\\r\\nErinbury, RI 97491',\n",
       " '12863 Burns Avenue Suite 339\\r\\nMartinfurt, GA 19514',\n",
       " '32860 Brian Haven Suite 121\\r\\nKrausefort, HI 67507',\n",
       " '1716 Richardson Turnpike\\r\\nEast Melody, GA 45734',\n",
       " '0700 Cervantes Views\\r\\nSouth David, AL 81414',\n",
       " '99113 Stephanie Club Apt. 444\\r\\nButlermouth, OR 39918',\n",
       " '1961 Simpson Green\\r\\nNorth Darren, KY 19875',\n",
       " '3725 Dawn Motorway Suite 367\\r\\nMartinezside, MO 21856',\n",
       " '6477 Lamb Vista\\r\\nTatefort, MA 73706',\n",
       " '90304 Andrea Via Suite 571\\r\\nNew Jessica, DC 04126',\n",
       " 'Unit 5043 Box 6096\\r\\nDPO AP 71914',\n",
       " '67992 Austin Meadow Suite 719\\r\\nGregorymouth, ND 52028',\n",
       " 'Unit 2692 Box 4570\\r\\nDPO AP 93525',\n",
       " '14140 Teresa Valleys Apt. 432\\r\\nAndrewsmouth, OK 49791',\n",
       " '1347 Henry Bypass\\r\\nNorth Ronald, VA 69380',\n",
       " '410 Williams Village\\r\\nJustinland, AK 63056',\n",
       " '0431 Gardner Cape\\r\\nRachelchester, TX 85471',\n",
       " 'USS Sullivan\\r\\nFPO AP 94771',\n",
       " '46153 Quinn Corners\\r\\nSullivanshire, VT 05327',\n",
       " '11729 George Via Apt. 230\\r\\nLake Michael, MA 80100',\n",
       " '07825 Garcia Walks\\r\\nNew James, LA 01517',\n",
       " '32946 Jeffrey Pines\\r\\nCurtisberg, MI 57275',\n",
       " 'Unit 8196 Box 2562\\r\\nDPO AE 66595',\n",
       " '1972 Sarah Station\\r\\nCochranbury, OH 21662',\n",
       " '702 Merritt Ranch Suite 250\\r\\nRobertfort, AK 02525',\n",
       " '8524 Snyder Street\\r\\nNorth Caroline, OH 51014',\n",
       " '47759 Burns Creek Apt. 902\\r\\nLake Tammyview, DE 04287',\n",
       " '57500 Frazier Islands Suite 954\\r\\nPort Melissa, DC 28259',\n",
       " 'PSC 1663, Box 6632\\r\\nAPO AP 02148',\n",
       " '642 Elizabeth Parkways Apt. 655\\r\\nAmyhaven, DC 15452',\n",
       " '35904 Robinson Ways Apt. 736\\r\\nLake Jasminestad, DE 57483',\n",
       " '02944 Connie Camp Apt. 968\\r\\nNorth Christopher, DC 66514',\n",
       " '162 Freeman Crossroad\\r\\nMelissamouth, IL 90642',\n",
       " '5486 Morales Station Suite 228\\r\\nNew Eric, OH 59701',\n",
       " '822 Reed Views\\r\\nSouth Kelly, NC 25356',\n",
       " 'Unit 6075 Box 1935\\r\\nDPO AA 41959',\n",
       " 'USNS Mcdonald\\r\\nFPO AE 98314',\n",
       " '6164 Hernandez Burgs Suite 002\\r\\nLake Susanchester, NC 46845',\n",
       " 'USNV Mcconnell\\r\\nFPO AP 59864',\n",
       " 'PSC 0013, Box 5054\\r\\nAPO AP 64956',\n",
       " '98210 Nicole Plaza\\r\\nLake Josephshire, SD 44190',\n",
       " '9525 Anderson Turnpike\\r\\nColeview, LA 79130',\n",
       " '42574 Michelle Island Apt. 713\\r\\nSmithberg, IA 60848',\n",
       " '66922 Cameron Street\\r\\nDebrabury, DE 56925',\n",
       " '91728 Thomas Vista\\r\\nPort Cynthia, RI 64168',\n",
       " '887 Brown Glens\\r\\nNew Brittany, AZ 33877',\n",
       " '5272 Lisa Lights Apt. 116\\r\\nPort Jonathan, WA 05655',\n",
       " 'PSC 1382, Box 5191\\r\\nAPO AE 37034',\n",
       " 'PSC 6351, Box 8570\\r\\nAPO AE 74521',\n",
       " '21448 Veronica Neck Suite 346\\r\\nMitchellmouth, NJ 23394',\n",
       " '142 Anita Mills Suite 410\\r\\nNorth Tracymouth, TX 55520',\n",
       " '16662 Jacob Course\\r\\nBellshire, AR 41341',\n",
       " '4811 Perez Circles\\r\\nWest Austin, UT 25131',\n",
       " '5603 Gillespie Falls Apt. 334\\r\\nEast Angelaberg, HI 16525',\n",
       " '93509 Oscar Mountains Suite 631\\r\\nWest Chad, IN 69917',\n",
       " '157 Julie Wells Suite 904\\r\\nPort Alexmouth, OR 62761',\n",
       " '5797 Johnson Drive\\r\\nSouth Crystal, WV 54956',\n",
       " '764 Daniel Square Apt. 361\\r\\nScottmouth, AK 82764',\n",
       " '91697 Christopher Trail Suite 761\\r\\nJuliehaven, WV 26211',\n",
       " '03857 Mcguire Spurs\\r\\nRonaldfurt, NC 67062',\n",
       " ...]"
      ]
     },
     "execution_count": 221,
     "metadata": {},
     "output_type": "execute_result"
    }
   ],
   "source": [
    "df['address'].describe()\n",
    "list(df['address'].unique())"
   ]
  },
  {
   "cell_type": "markdown",
   "metadata": {},
   "source": [
    "**Age**  \n",
    "Kedze min je 14 a max 98 tak nevyzera ze v tomto stlpci su vychylene hodnoty. Taktiez vidime ze priemerny vek je 52r."
   ]
  },
  {
   "cell_type": "code",
   "execution_count": 222,
   "metadata": {},
   "outputs": [
    {
     "data": {
      "text/plain": [
       "count    1311.000000\n",
       "mean       51.900839\n",
       "std        11.860033\n",
       "min        14.000000\n",
       "25%        44.000000\n",
       "50%        52.000000\n",
       "75%        59.000000\n",
       "max        98.000000\n",
       "Name: age, dtype: float64"
      ]
     },
     "execution_count": 222,
     "metadata": {},
     "output_type": "execute_result"
    }
   ],
   "source": [
    "df['age'].describe()"
   ]
  },
  {
   "cell_type": "markdown",
   "metadata": {},
   "source": [
    "Na tomto grafe vidime distribuciu veku. Na prvy pohlad vyzera ako normalne no na zaklade Shapiro-Wilk testu vidime, ze nie je."
   ]
  },
  {
   "cell_type": "code",
   "execution_count": 223,
   "metadata": {},
   "outputs": [
    {
     "name": "stdout",
     "output_type": "stream",
     "text": [
      "Normality:  False\n"
     ]
    },
    {
     "data": {
      "text/plain": [
       "<seaborn.axisgrid.FacetGrid at 0x7f1119641b00>"
      ]
     },
     "execution_count": 223,
     "metadata": {},
     "output_type": "execute_result"
    },
    {
     "data": {
      "image/png": "[encoded data removed]",
      "text/plain": [
       "<Figure size 360x360 with 1 Axes>"
      ]
     },
     "metadata": {
      "needs_background": "light"
     },
     "output_type": "display_data"
    }
   ],
   "source": [
    "print(\"Normality: \", stats.shapiro(df['age'].dropna())[1] > 0.05)\n",
    "sns.displot(df['age'], kde=True)"
   ]
  },
  {
   "cell_type": "markdown",
   "metadata": {},
   "source": [
    "**Sex**  \n",
    "Kazdy zaznam ma vyplneny stlpec sex, jedine hodnoty ktore sa tam vyskytuju su Male a Female. Jediny problem ktory vidime je, ze zacinaju s ' '.  \n",
    "Na grafe dalej vidime, ze podiel muzov a zien je priblizne 2:1.  \n",
    "Celkovy pocet muzov je 877 a zien 434. "
   ]
  },
  {
   "cell_type": "code",
   "execution_count": 224,
   "metadata": {},
   "outputs": [
    {
     "data": {
      "text/plain": [
       "count      1311\n",
       "unique        2\n",
       "top        Male\n",
       "freq        877\n",
       "Name: sex, dtype: object"
      ]
     },
     "execution_count": 224,
     "metadata": {},
     "output_type": "execute_result"
    },
    {
     "data": {
      "text/plain": [
       "[' Male', ' Female']"
      ]
     },
     "execution_count": 224,
     "metadata": {},
     "output_type": "execute_result"
    },
    {
     "name": "stdout",
     "output_type": "stream",
     "text": [
      "Males:  877\n",
      "Females:  434\n"
     ]
    }
   ],
   "source": [
    "df['sex'].describe()\n",
    "list(df['sex'].unique())\n",
    "print('Males: ',(df['sex'] == ' Male').sum())\n",
    "print('Females: ',(df['sex'] == ' Female').sum())"
   ]
  },
  {
   "cell_type": "code",
   "execution_count": 225,
   "metadata": {},
   "outputs": [
    {
     "data": {
      "text/plain": [
       "<AxesSubplot:xlabel='sex', ylabel='count'>"
      ]
     },
     "execution_count": 225,
     "metadata": {},
     "output_type": "execute_result"
    },
    {
     "data": {
      "image/png": "[encoded data removed]",
      "text/plain": [
       "<Figure size 432x288 with 1 Axes>"
      ]
     },
     "metadata": {
      "needs_background": "light"
     },
     "output_type": "display_data"
    }
   ],
   "source": [
    "sns.countplot(x=df['sex'])\n"
   ]
  },
  {
   "cell_type": "markdown",
   "metadata": {},
   "source": [
    "**Date of birth**  \n",
    "Datumy narodenia mame v roznych formatoch."
   ]
  },
  {
   "cell_type": "code",
   "execution_count": 226,
   "metadata": {},
   "outputs": [
    {
     "data": {
      "text/plain": [
       "count           1311\n",
       "unique          1278\n",
       "top       1964-12-27\n",
       "freq               3\n",
       "Name: date_of_birth, dtype: object"
      ]
     },
     "execution_count": 226,
     "metadata": {},
     "output_type": "execute_result"
    },
    {
     "data": {
      "text/plain": [
       "['1971-07-10 00 00 00',\n",
       " '1965-08-09',\n",
       " '1971-01-20 00:00:00',\n",
       " '1959-11-02',\n",
       " '1983-08-13',\n",
       " '1958-07-13',\n",
       " '1990-10-09',\n",
       " '1972-11-05',\n",
       " '1974-05-06',\n",
       " '1974-12-31',\n",
       " '1973-08-31 00:00:00',\n",
       " '1968-04-16',\n",
       " '1969-05-02',\n",
       " '1975-11-14',\n",
       " '1969-06-22',\n",
       " '44-06-28',\n",
       " '1968-02-28',\n",
       " '1969-07-10',\n",
       " '1983-07-07',\n",
       " '1935-11-17',\n",
       " '1974-01-11',\n",
       " '1947-12-19',\n",
       " '1969-06-21',\n",
       " '1971-04-15',\n",
       " '1950-11-25 00:00:00',\n",
       " '1952-04-21',\n",
       " '1964-08-09 00:00:00',\n",
       " '1970-04-05',\n",
       " '1952-07-15',\n",
       " '1980-12-12',\n",
       " '1975-10-20',\n",
       " '1938-06-25',\n",
       " '2005-04-17',\n",
       " '1970-05-16',\n",
       " '1970-02-22',\n",
       " '1948-10-10',\n",
       " '06/06/1988',\n",
       " '1960-04-20',\n",
       " '75-03-09',\n",
       " '1980-08-17 00:00:00',\n",
       " '1975-04-11',\n",
       " '1969-01-18 00 00 00',\n",
       " '76-04-27',\n",
       " '79-09-12',\n",
       " '1974-08-09',\n",
       " '1960-11-30',\n",
       " '1963-03-22 00:00:00',\n",
       " '1965-05-04',\n",
       " '1964-12-08',\n",
       " '1966-01-26',\n",
       " '1987-11-10',\n",
       " '1960-09-22',\n",
       " '1994-11-06',\n",
       " '1960-12-02',\n",
       " '1957-03-21 00 00 00',\n",
       " '1984-04-04',\n",
       " '1966-06-18',\n",
       " '1986-12-08',\n",
       " '1956-09-12',\n",
       " '1955-09-26',\n",
       " '1962-04-05',\n",
       " '1967-12-17',\n",
       " '1971-06-23',\n",
       " '1956-04-12',\n",
       " '1964-01-05',\n",
       " '1966-05-16',\n",
       " '1971-04-14',\n",
       " '1960-06-12',\n",
       " '1976-12-30',\n",
       " '1985-05-18',\n",
       " '1967-12-14',\n",
       " '01/03/1958',\n",
       " '1949-10-11',\n",
       " '1956-07-05',\n",
       " '1969-09-07',\n",
       " '1987-09-18',\n",
       " '1978-03-30',\n",
       " '1989-09-24',\n",
       " '1970-04-18',\n",
       " '1961-09-11',\n",
       " '1966/08/31',\n",
       " '1994-01-03',\n",
       " '1979-07-11',\n",
       " '1963-12-28',\n",
       " '1961-05-18 00 00 00',\n",
       " '1979/11/11',\n",
       " '1990-05-15 00 00 00',\n",
       " '1965-06-05',\n",
       " '2002-05-30',\n",
       " '1975-07-04',\n",
       " '1955-02-09',\n",
       " '1970-08-14',\n",
       " '1956-03-30',\n",
       " '1937-11-12',\n",
       " '26/01/1985',\n",
       " '28/10/1966',\n",
       " '54-11-20',\n",
       " '1952/04/12',\n",
       " '1979-01-09',\n",
       " '1963-09-22',\n",
       " '1975-04-05',\n",
       " '79-05-27',\n",
       " '1974-07-08',\n",
       " '76-04-18',\n",
       " '1952-12-22',\n",
       " '1985-10-21',\n",
       " '1969-11-08',\n",
       " '1968-04-13',\n",
       " '1973-02-20',\n",
       " '30/11/1961',\n",
       " '1963-01-17',\n",
       " '1959-12-07',\n",
       " '1963-10-20',\n",
       " '1971-10-03',\n",
       " '1969-09-18',\n",
       " '14/01/1962',\n",
       " '1978-06-02',\n",
       " '1952-09-01',\n",
       " '1965-08-15 00:00:00',\n",
       " '1980-04-27',\n",
       " '1988-12-27',\n",
       " '1945-03-10 00 00 00',\n",
       " '1954-03-28',\n",
       " '1973-07-17',\n",
       " '1979-12-15',\n",
       " '1959-11-03',\n",
       " '1978-05-14 00 00 00',\n",
       " '1972-11-21',\n",
       " '1966-04-23',\n",
       " '1961-03-15',\n",
       " '1984-06-03',\n",
       " '64-11-29',\n",
       " '1972-01-22',\n",
       " '1968-01-29',\n",
       " '75-07-28',\n",
       " '1983-09-01',\n",
       " '08/08/1961',\n",
       " '1969/06/25',\n",
       " '1965-04-06 00 00 00',\n",
       " '2003-06-28',\n",
       " '07/10/1955',\n",
       " '1961-09-14',\n",
       " '1964-10-06',\n",
       " '1981-05-30 00:00:00',\n",
       " '1957-01-27',\n",
       " '02/11/1967',\n",
       " '1964-11-04',\n",
       " '1984-02-01',\n",
       " '64-12-21',\n",
       " '1970-09-20',\n",
       " '1986-11-03',\n",
       " '19/10/1943',\n",
       " '1954-11-29',\n",
       " '1973-10-08',\n",
       " '75-11-04',\n",
       " '1967/04/05',\n",
       " '1969/08/22',\n",
       " '1972-10-03',\n",
       " '1973-04-28',\n",
       " '1961-05-18',\n",
       " '1969-08-21',\n",
       " '1958-09-23',\n",
       " '1940-11-11',\n",
       " '1974-05-08',\n",
       " '1964/07/07',\n",
       " '1967-10-27',\n",
       " '1975-10-07',\n",
       " '1978-02-14',\n",
       " '67-02-23',\n",
       " '1972-05-23',\n",
       " '64-10-03',\n",
       " '10/06/1978',\n",
       " '1992-01-06',\n",
       " '1966-08-15',\n",
       " '1966-12-21 00 00 00',\n",
       " '07/05/1969',\n",
       " '1965-09-01 00:00:00',\n",
       " '12/12/1964',\n",
       " '1965-05-18',\n",
       " '1962-12-25 00 00 00',\n",
       " '1959-06-01',\n",
       " '1963-04-07',\n",
       " '1970-12-09',\n",
       " '1961-10-31',\n",
       " '1988-06-28',\n",
       " '1974-01-18',\n",
       " '1975-09-08',\n",
       " '1961-12-23',\n",
       " '1953-01-27',\n",
       " '1993-02-24',\n",
       " '1966-01-11',\n",
       " '1978-12-12',\n",
       " '10/05/1971',\n",
       " '2001-08-23',\n",
       " '1962/01/16',\n",
       " '1965-02-01',\n",
       " '1955-03-07',\n",
       " '1955-06-25',\n",
       " '11/10/1992',\n",
       " '1982-08-19',\n",
       " '64-02-28',\n",
       " '18/08/1980',\n",
       " '1950-05-26',\n",
       " '1963-10-01',\n",
       " '1970-02-10',\n",
       " '1958-10-07',\n",
       " '1952-08-11',\n",
       " '1966-12-08 00 00 00',\n",
       " '1944-10-11',\n",
       " '1977-06-08',\n",
       " '1960-10-08 00:00:00',\n",
       " '30/05/1969',\n",
       " '1973-02-05',\n",
       " '1958-05-31 00 00 00',\n",
       " '1965-11-13 00 00 00',\n",
       " '1966/05/03',\n",
       " '16/04/1954',\n",
       " '21/04/1970',\n",
       " '1981/09/22',\n",
       " '1967-10-04',\n",
       " '1964-07-10',\n",
       " '1974-05-04',\n",
       " '1961-02-04 00 00 00',\n",
       " '1962-03-18',\n",
       " '1966-10-19',\n",
       " '1966-10-02',\n",
       " '1970/11/05',\n",
       " '1971-06-01',\n",
       " '1964-12-20 00 00 00',\n",
       " '1955-08-19',\n",
       " '1948/03/12',\n",
       " '1977-01-29',\n",
       " '60-12-07',\n",
       " '1999-05-10',\n",
       " '1962-06-22 00:00:00',\n",
       " '1965-04-05 00 00 00',\n",
       " '1987-09-29 00 00 00',\n",
       " '1967-04-14',\n",
       " '1968-11-13',\n",
       " '1950-10-03',\n",
       " '1960-04-29',\n",
       " '1962/05/28',\n",
       " '1958-08-28',\n",
       " '1975-01-12',\n",
       " '1974-02-03',\n",
       " '1962-12-16',\n",
       " '1957-02-06',\n",
       " '01/07/1982',\n",
       " '1962-07-28',\n",
       " '1967-08-20',\n",
       " '05/07/1977',\n",
       " '1964-12-01',\n",
       " '1985-09-22',\n",
       " '1960-11-16',\n",
       " '1963/03/25',\n",
       " '29/11/1979',\n",
       " '1961-07-30',\n",
       " '1957-08-17',\n",
       " '1984-04-09',\n",
       " '1936-09-29',\n",
       " '1960-01-31 00 00 00',\n",
       " '1958-12-22 00 00 00',\n",
       " '1963/01/19',\n",
       " '1957-09-02',\n",
       " '1962-07-14 00 00 00',\n",
       " '1943-01-02 00:00:00',\n",
       " '1964-10-05',\n",
       " '1963-12-22 00:00:00',\n",
       " '1976-11-28',\n",
       " '1972-06-29 00 00 00',\n",
       " '1955-05-27',\n",
       " '1962-06-17',\n",
       " '1967-12-20',\n",
       " '1963-11-01',\n",
       " '1981/10/13',\n",
       " '1985-07-12',\n",
       " '68-01-06',\n",
       " '1950-01-01',\n",
       " '1987-07-02',\n",
       " '1974-07-22',\n",
       " '1982-11-01 00 00 00',\n",
       " '1974-03-21',\n",
       " '1955-04-17',\n",
       " '1965/11/18',\n",
       " '1965-08-13',\n",
       " '1969-11-01 00 00 00',\n",
       " '1969-03-31',\n",
       " '1957-10-01',\n",
       " '87-06-01',\n",
       " '1962-09-05 00 00 00',\n",
       " '1969-03-25',\n",
       " '1972-07-15',\n",
       " '1957-10-23',\n",
       " '1968-05-25',\n",
       " '1959-04-25',\n",
       " '1971-12-12',\n",
       " '21/08/1962',\n",
       " '1980-10-03',\n",
       " '1967-04-12 00:00:00',\n",
       " '1972-01-27',\n",
       " '1977-11-23',\n",
       " '1963-03-20',\n",
       " '1976-05-18',\n",
       " '1960-11-03',\n",
       " '1959-03-05',\n",
       " '1966-10-10 00:00:00',\n",
       " '12/06/1994',\n",
       " '77-05-21',\n",
       " '1970/04/23',\n",
       " '47-09-25',\n",
       " '1969-08-13 00 00 00',\n",
       " '1972-02-27',\n",
       " '1933-12-02',\n",
       " '1981-05-22',\n",
       " '1971-01-20',\n",
       " '1969-10-10',\n",
       " '1981-10-25',\n",
       " '1992/09/09',\n",
       " '1948-10-28 00:00:00',\n",
       " '1968-02-08',\n",
       " '1974-02-17',\n",
       " '1963-02-28 00 00 00',\n",
       " '1963-08-04',\n",
       " '1963-04-09',\n",
       " '1932-11-02 00:00:00',\n",
       " '1963-03-22',\n",
       " '1946-05-04',\n",
       " '77-09-25',\n",
       " '1981-08-17',\n",
       " '1960-09-29',\n",
       " '1954-10-02',\n",
       " '1967-08-03',\n",
       " '68-01-20',\n",
       " '1983-04-21',\n",
       " '1946-12-27 00 00 00',\n",
       " '1976-06-16',\n",
       " '82-05-22',\n",
       " '1959-04-03 00 00 00',\n",
       " '1981-11-27',\n",
       " '1965-07-26 00:00:00',\n",
       " '64-12-23',\n",
       " '1970-09-22',\n",
       " '1983-03-07',\n",
       " '1959-01-30',\n",
       " '1958-11-07 00 00 00',\n",
       " '1964-08-16',\n",
       " '1956-08-15',\n",
       " '60-04-10',\n",
       " '1965-09-06',\n",
       " '1968-09-26',\n",
       " '1991-07-20',\n",
       " '1967-05-17',\n",
       " '1968-09-02',\n",
       " '1983-03-30',\n",
       " '1929-02-14',\n",
       " '1976-11-25',\n",
       " '1972-06-15',\n",
       " '1961-02-15',\n",
       " '1980-01-29',\n",
       " '1962-08-29',\n",
       " '1962-08-11',\n",
       " '71-08-03',\n",
       " '1993-04-10',\n",
       " '1975-12-19 00:00:00',\n",
       " '1956/08/04',\n",
       " '1973-08-25',\n",
       " '1959-12-17',\n",
       " '1982-09-29',\n",
       " '1959-12-15',\n",
       " '59-11-25',\n",
       " '1958-06-10',\n",
       " '1977-04-23',\n",
       " '1972-06-29',\n",
       " '1959-05-19 00 00 00',\n",
       " '1971-07-02',\n",
       " '1968/04/28',\n",
       " '11/02/1966',\n",
       " '1972-10-16',\n",
       " '1952-07-18',\n",
       " '1968-10-01',\n",
       " '1964-08-30',\n",
       " '1981-05-16',\n",
       " '1980-08-24',\n",
       " '1964-11-03',\n",
       " '1960-05-08',\n",
       " '1964-03-18',\n",
       " '1968-07-26',\n",
       " '1967-07-03 00:00:00',\n",
       " '1970-12-30',\n",
       " '1944-11-13',\n",
       " '1959-01-17',\n",
       " '1970-04-20 00 00 00',\n",
       " '1970-02-04',\n",
       " '1979-06-13 00 00 00',\n",
       " '1978-11-20',\n",
       " '1971-12-20',\n",
       " '1957-05-23',\n",
       " '27/02/1970',\n",
       " '1972-01-30',\n",
       " '1971-12-24',\n",
       " '1948-07-26',\n",
       " '1993/02/17',\n",
       " '1961-08-25',\n",
       " '1969-03-24',\n",
       " '1974/01/19',\n",
       " '1981-09-03 00 00 00',\n",
       " '20/10/1974',\n",
       " '1965-08-10',\n",
       " '1981-02-09',\n",
       " '1958-04-16',\n",
       " '18/06/1971',\n",
       " '1975-01-18',\n",
       " '1961-11-17',\n",
       " '1986-06-01',\n",
       " '1977-12-25 00:00:00',\n",
       " '1982-12-03 00:00:00',\n",
       " '1964-09-04',\n",
       " '1969-11-16',\n",
       " '1973-05-17',\n",
       " '1975-12-12',\n",
       " '1992-01-20',\n",
       " '1970-09-07',\n",
       " '1970-08-21',\n",
       " '1960-05-10',\n",
       " '25/10/1957',\n",
       " '1964-11-28',\n",
       " '1979-03-14',\n",
       " '1968-12-28 00:00:00',\n",
       " '17/12/1957',\n",
       " '1976-11-11',\n",
       " '1971-08-01',\n",
       " '1951-10-25',\n",
       " '1945-08-08',\n",
       " '11/07/1983',\n",
       " '1971-04-10',\n",
       " '1951/01/03',\n",
       " '1985-01-30',\n",
       " '1958-02-28 00:00:00',\n",
       " '1974-11-28',\n",
       " '1966-04-03',\n",
       " '1951-05-31',\n",
       " '1973-09-16',\n",
       " '1981-12-17',\n",
       " '1950-06-05',\n",
       " '1980-12-18',\n",
       " '1952-06-15',\n",
       " '1976-07-22',\n",
       " '1974-02-25',\n",
       " '59-08-25',\n",
       " '1989-06-15',\n",
       " '17/05/1968',\n",
       " '77-01-24',\n",
       " '1964-06-13',\n",
       " '1967-12-08 00 00 00',\n",
       " '1963-02-20',\n",
       " '28/05/1956',\n",
       " '11/09/1962',\n",
       " '1976-01-29',\n",
       " '1977-01-12 00:00:00',\n",
       " '1982-09-07',\n",
       " '1950-03-16',\n",
       " '1959-12-01',\n",
       " '1970-11-08',\n",
       " '1963-06-04 00 00 00',\n",
       " '1957/12/09',\n",
       " '1983-06-14 00:00:00',\n",
       " '1976-08-05',\n",
       " '1953-09-06',\n",
       " '1970-11-27',\n",
       " '1946-06-23',\n",
       " '1981-06-14',\n",
       " '1975-11-22',\n",
       " '15/11/1954',\n",
       " '1956-02-01 00:00:00',\n",
       " '69-11-20',\n",
       " '1962-08-24',\n",
       " '1969-09-04',\n",
       " '1975-05-27',\n",
       " '1954/06/11',\n",
       " '1955-01-24',\n",
       " '21/01/1967',\n",
       " '1971-10-18',\n",
       " '57-01-16',\n",
       " '1989-12-19',\n",
       " '1975-04-08',\n",
       " '1958-01-10',\n",
       " '19/12/1967',\n",
       " '1983-09-20',\n",
       " '1963-07-03',\n",
       " '76-11-20',\n",
       " '1960/03/23',\n",
       " '1962-12-25',\n",
       " '1965-08-06',\n",
       " '1965-03-20 00 00 00',\n",
       " '1980-04-04',\n",
       " '1954-03-17',\n",
       " '1978-03-07 00:00:00',\n",
       " '1963-03-19',\n",
       " '1976-10-02',\n",
       " '1978-10-17',\n",
       " '1981-10-29',\n",
       " '72-09-05',\n",
       " '62-11-17',\n",
       " '1966-08-16',\n",
       " '1964/03/15',\n",
       " '1949-11-08',\n",
       " '01/11/1971',\n",
       " '1978-09-13 00 00 00',\n",
       " '1966-01-14',\n",
       " '10/03/1956',\n",
       " '1959-07-21',\n",
       " '1956-02-28',\n",
       " '1982-03-19 00:00:00',\n",
       " '1962-04-07',\n",
       " '09/08/1967',\n",
       " '1958-07-30 00:00:00',\n",
       " '1957-10-18',\n",
       " '1959-09-03',\n",
       " '1962-01-17',\n",
       " '1964-12-27',\n",
       " '1967/01/10',\n",
       " '1949/10/10',\n",
       " '1948-01-14',\n",
       " '1988-06-24',\n",
       " '07/11/1978',\n",
       " '1976-12-13',\n",
       " '1961/07/11',\n",
       " '1967-03-17',\n",
       " '1972-10-28',\n",
       " '2004-10-06 00:00:00',\n",
       " '1952-09-12',\n",
       " '1953-06-19',\n",
       " '1979-08-30',\n",
       " '1952-01-18',\n",
       " '1981-03-27',\n",
       " '1947-12-03',\n",
       " '1968-08-02',\n",
       " '1954-02-26',\n",
       " '1958-11-08',\n",
       " '1998-09-07',\n",
       " '1949-10-21',\n",
       " '1957-08-13',\n",
       " '1955-11-27',\n",
       " '1940-11-04',\n",
       " '47-09-20',\n",
       " '85-05-20',\n",
       " '1972-11-08',\n",
       " '24/04/1968',\n",
       " '1986-08-13',\n",
       " '1982-03-04',\n",
       " '1959-10-30',\n",
       " '1972-12-30',\n",
       " '1978-01-21 00 00 00',\n",
       " '1959-11-05',\n",
       " '1969-11-11',\n",
       " '1972-03-27',\n",
       " '1967-06-18',\n",
       " '1949-01-02',\n",
       " '1968-03-16',\n",
       " '1957-11-30',\n",
       " '1967-12-14 00:00:00',\n",
       " '1957-04-26',\n",
       " '1965-10-17 00:00:00',\n",
       " '1982/01/26',\n",
       " '1970-08-16',\n",
       " '1969-10-05',\n",
       " '1953-11-24 00:00:00',\n",
       " '1975-05-21',\n",
       " '1969-10-30 00:00:00',\n",
       " '1965-03-29',\n",
       " '1992-01-04 00:00:00',\n",
       " '14/02/1960',\n",
       " '1974/03/24',\n",
       " '23/01/1988',\n",
       " '1965-08-20',\n",
       " '1943-01-02',\n",
       " '1970-04-27',\n",
       " '1957/03/04',\n",
       " '1975-12-03',\n",
       " '1961-09-04 00 00 00',\n",
       " '1964-10-24',\n",
       " '1952-09-06 00 00 00',\n",
       " '1958-05-21',\n",
       " '1993-10-29',\n",
       " '1968-02-01',\n",
       " '1962-05-11',\n",
       " '1952-03-17',\n",
       " '1970-04-14',\n",
       " '10/12/1973',\n",
       " '1953-02-09',\n",
       " '1969-05-14',\n",
       " '1962-11-18',\n",
       " '1950-08-06',\n",
       " '1957-04-29 00:00:00',\n",
       " '1962-10-14',\n",
       " '1952-06-27',\n",
       " '1957-11-23',\n",
       " '1958-05-14',\n",
       " '01/07/1970',\n",
       " '1964-12-12',\n",
       " '1949-01-16 00 00 00',\n",
       " '1975-03-12 00 00 00',\n",
       " '16/10/1968',\n",
       " '1966-01-30 00 00 00',\n",
       " '1948-07-23',\n",
       " '1957-04-03',\n",
       " '1974-08-06 00 00 00',\n",
       " '01/12/1977',\n",
       " '61-08-08',\n",
       " '1963-06-12',\n",
       " '1953-03-07',\n",
       " '1956-03-01',\n",
       " '63-02-25',\n",
       " '1968-11-01 00 00 00',\n",
       " '1950-01-27',\n",
       " '1969-07-04',\n",
       " '1949-05-23',\n",
       " '89-12-01',\n",
       " '1980-05-27 00:00:00',\n",
       " '1964-07-10 00:00:00',\n",
       " '1954-11-27',\n",
       " '64-01-30',\n",
       " '1955-09-29',\n",
       " '1961-04-17',\n",
       " '17/11/1974',\n",
       " '1967-10-28',\n",
       " '1940/02/09',\n",
       " '1959-07-24',\n",
       " '1956-01-29',\n",
       " '1958-01-23 00:00:00',\n",
       " '1975-03-29',\n",
       " '09/01/1978',\n",
       " '1952-06-20',\n",
       " '1953-12-28',\n",
       " '1952-09-09 00:00:00',\n",
       " '1957-02-03',\n",
       " '1988-02-16',\n",
       " '1985-08-11',\n",
       " '1961-08-06 00 00 00',\n",
       " '1972-12-29',\n",
       " '03/02/1967',\n",
       " '28/11/1981',\n",
       " '1973-09-19 00 00 00',\n",
       " '1956-02-20',\n",
       " '1979-09-26',\n",
       " '1945-10-09',\n",
       " '1967-01-13',\n",
       " '1950-01-04',\n",
       " '06/02/1954',\n",
       " '1968-07-30',\n",
       " '1973-03-17',\n",
       " '1963-05-04',\n",
       " '1968-02-18',\n",
       " '87-12-30',\n",
       " '1985-08-30 00 00 00',\n",
       " '1961-04-13 00 00 00',\n",
       " '1971-01-01',\n",
       " '1975-10-05 00:00:00',\n",
       " '13/08/1977',\n",
       " '1947/06/13',\n",
       " '1984-05-15 00:00:00',\n",
       " '1966-01-18',\n",
       " '1967-04-19',\n",
       " '1978/02/12',\n",
       " '1999-01-26',\n",
       " '1961-02-19',\n",
       " '1936-03-27',\n",
       " '1968-09-14',\n",
       " '1972-07-26',\n",
       " '1983-08-21 00 00 00',\n",
       " '1945-12-25 00 00 00',\n",
       " '02/11/1996',\n",
       " '1951-08-06 00:00:00',\n",
       " '1966-12-02',\n",
       " '1963-05-26',\n",
       " '1972-08-06',\n",
       " '1954-10-01',\n",
       " '58-07-28',\n",
       " '1967-05-31 00:00:00',\n",
       " '1954-02-06 00:00:00',\n",
       " '1972-04-25 00 00 00',\n",
       " '1962-11-29 00 00 00',\n",
       " '1973/10/25',\n",
       " '1971-01-21',\n",
       " '1966-04-27',\n",
       " '1973-05-18 00:00:00',\n",
       " '1970-03-19 00:00:00',\n",
       " '1957-10-08',\n",
       " '1959-03-24 00:00:00',\n",
       " '1967-02-16',\n",
       " '1961-10-02',\n",
       " '28/10/1973',\n",
       " '1970-10-09',\n",
       " '1978-09-03',\n",
       " '1969-05-20',\n",
       " '1972-03-01 00:00:00',\n",
       " '1959-04-24',\n",
       " '20/11/1983',\n",
       " '1963-10-25',\n",
       " '1975-12-14 00 00 00',\n",
       " '1960-04-04',\n",
       " '1947-11-12',\n",
       " '1982-07-22',\n",
       " '15/10/1962',\n",
       " '1968-08-22 00:00:00',\n",
       " '1958-01-29 00 00 00',\n",
       " '1955-05-11',\n",
       " '1974/10/21',\n",
       " '1956/04/13',\n",
       " '1933-01-15',\n",
       " '1948-10-20',\n",
       " '1963-11-18',\n",
       " '1961-07-02 00:00:00',\n",
       " '1989-07-12 00:00:00',\n",
       " '1963-07-20',\n",
       " '1968-06-15',\n",
       " '1960-08-04',\n",
       " '1956-12-25',\n",
       " '1976-05-11',\n",
       " '70-04-14',\n",
       " '1969-01-20',\n",
       " '1986-10-25',\n",
       " '1973-09-08',\n",
       " '1983-05-23 00 00 00',\n",
       " '1954-04-16',\n",
       " '1976-07-15',\n",
       " '1986-08-29',\n",
       " '1966-12-26',\n",
       " '1966-12-27',\n",
       " '06/02/1958',\n",
       " '54-01-24',\n",
       " '1978-07-10',\n",
       " '1969-04-02',\n",
       " '1974-04-24',\n",
       " '1981-09-22 00:00:00',\n",
       " '1968-04-26',\n",
       " '1981-11-03',\n",
       " '1960-10-15',\n",
       " '1984-08-04',\n",
       " '1966-07-03',\n",
       " '1969-11-22 00:00:00',\n",
       " '1965-05-07 00 00 00',\n",
       " '1959-09-15',\n",
       " '1965-03-27',\n",
       " '1959-08-28',\n",
       " '1942-10-01',\n",
       " '03/11/1976',\n",
       " '1957-12-15',\n",
       " '1970-05-22',\n",
       " '15/11/1965',\n",
       " '1946-03-17',\n",
       " '1934-12-18 00:00:00',\n",
       " '1972-07-22',\n",
       " '1958-09-06',\n",
       " '1957-09-21',\n",
       " '1957-07-21',\n",
       " '1985-05-25',\n",
       " '1971-02-05',\n",
       " '1970-08-20',\n",
       " '73-10-28',\n",
       " '1986-07-03',\n",
       " '1968/11/25',\n",
       " '1973-07-12',\n",
       " '1965-01-28',\n",
       " '1964-02-15',\n",
       " '02/02/1974',\n",
       " '1959-05-29',\n",
       " '1954-01-25',\n",
       " '1953-07-30',\n",
       " '1967-12-01',\n",
       " '1979-01-02',\n",
       " '1968-11-04',\n",
       " '1973-09-22',\n",
       " '1970-04-12 00 00 00',\n",
       " '1972-05-11',\n",
       " '07/07/1968',\n",
       " '1987-07-03 00 00 00',\n",
       " '06/04/1956',\n",
       " '1960-10-26 00 00 00',\n",
       " '10/07/1969',\n",
       " '1953-12-26',\n",
       " '1964-08-30 00:00:00',\n",
       " '1956-08-07',\n",
       " '1957-05-04',\n",
       " '1968-07-11',\n",
       " '1966-07-16',\n",
       " '1968-01-09',\n",
       " '1965-05-02',\n",
       " '1980-11-30',\n",
       " '1969-05-21',\n",
       " '1967-06-21 00 00 00',\n",
       " '1988-01-22',\n",
       " '1968-05-19',\n",
       " '1966-01-10',\n",
       " '1972-03-20',\n",
       " '1972-12-13',\n",
       " '1986-08-10',\n",
       " '1963-03-12',\n",
       " '1950-09-19',\n",
       " '06/10/1961',\n",
       " '1944/11/15',\n",
       " '1965-10-22',\n",
       " '1973-03-08',\n",
       " '1941-04-10',\n",
       " '1955-04-01 00 00 00',\n",
       " '1984-12-09',\n",
       " '1979-07-13',\n",
       " '1954-11-22',\n",
       " '1965-04-20',\n",
       " '1978-02-15',\n",
       " '1966-03-13',\n",
       " '1958-12-22',\n",
       " '1955-09-25',\n",
       " '1959-06-25',\n",
       " '1961/02/08',\n",
       " '1977-01-10 00:00:00',\n",
       " '1969/03/27',\n",
       " '1964-07-23',\n",
       " '1969/08/07',\n",
       " '1977/08/26',\n",
       " '1954-05-20',\n",
       " '1975-01-10',\n",
       " '1946-01-07 00:00:00',\n",
       " '1963-10-31',\n",
       " '10/06/1960',\n",
       " '1968-11-30',\n",
       " '1960-10-18',\n",
       " '1963-05-12',\n",
       " '1968-05-10',\n",
       " '1964-09-01 00:00:00',\n",
       " '1921-08-08',\n",
       " '1961-10-22',\n",
       " '61-09-22',\n",
       " '1960-09-03',\n",
       " '1972/06/10',\n",
       " '1957-12-25',\n",
       " '1986-10-07 00 00 00',\n",
       " '1982-11-24',\n",
       " '24/12/1957',\n",
       " '1955-09-19',\n",
       " '1986-02-07',\n",
       " '1956-03-14',\n",
       " '30/03/2004',\n",
       " '1967-06-21',\n",
       " '1964-12-07',\n",
       " '57-07-28',\n",
       " '1982/01/13',\n",
       " '1964-09-08',\n",
       " '1978-08-22',\n",
       " '1959-08-23 00:00:00',\n",
       " '1951-09-18 00:00:00',\n",
       " '1955-04-26',\n",
       " '1977-04-01',\n",
       " '1966-08-26',\n",
       " '1996/06/09',\n",
       " '1966-05-08',\n",
       " '2004-01-29',\n",
       " '1960-09-02',\n",
       " '78-05-19',\n",
       " '1964-09-03',\n",
       " '1966-06-05',\n",
       " '1970-10-10',\n",
       " '1993-04-14',\n",
       " '77-12-20',\n",
       " '1961-05-08 00:00:00',\n",
       " '75-07-18',\n",
       " '1959-03-07',\n",
       " '19/03/1964',\n",
       " '1957-12-23',\n",
       " '1962-12-08 00:00:00',\n",
       " '1964/07/18',\n",
       " '1983-12-17',\n",
       " '1966-10-21',\n",
       " '1954-05-10 00 00 00',\n",
       " '1972-09-06',\n",
       " '1971-06-12',\n",
       " '58-11-07',\n",
       " '1952/08/08',\n",
       " '1976-07-14',\n",
       " '1954-12-14',\n",
       " '1963-05-15',\n",
       " '1975-11-26',\n",
       " '1976-02-05',\n",
       " '1926-11-17',\n",
       " '1971-08-26',\n",
       " '1977/07/22',\n",
       " '1976-04-24',\n",
       " '1968/03/05',\n",
       " '1979-01-16 00 00 00',\n",
       " '1972-09-19',\n",
       " '1976-09-06',\n",
       " '64-05-05',\n",
       " '1976-03-17',\n",
       " '63-04-29',\n",
       " '1957-12-17',\n",
       " '38-02-13',\n",
       " '1962-09-28',\n",
       " '1991-04-09 00 00 00',\n",
       " '56-03-02',\n",
       " '1987-08-20 00 00 00',\n",
       " '66-05-01',\n",
       " '1952-03-12',\n",
       " '1961-08-02',\n",
       " '1973-05-18',\n",
       " '18/12/1958',\n",
       " '01/06/1969',\n",
       " '1965/02/15',\n",
       " '1978-03-20',\n",
       " '1958-06-07',\n",
       " '1982-10-08',\n",
       " '1981-06-23',\n",
       " '74-12-18',\n",
       " '1954-11-25',\n",
       " '1961-04-24',\n",
       " '1945-10-14 00 00 00',\n",
       " '1967-11-02',\n",
       " '1972-05-03',\n",
       " '60-07-23',\n",
       " '1949-11-11',\n",
       " '1951-12-31',\n",
       " '1987-06-28',\n",
       " '72-01-28',\n",
       " '1953-01-25',\n",
       " '1959-10-18 00 00 00',\n",
       " '1978/06/17',\n",
       " '1970-01-30',\n",
       " '1962-03-09',\n",
       " '04/05/1965',\n",
       " '1972-11-24 00 00 00',\n",
       " '1967-01-12 00:00:00',\n",
       " '1977-05-07',\n",
       " '1988-11-24',\n",
       " '1973-03-11',\n",
       " '67-07-19',\n",
       " '1949-10-31',\n",
       " '1952-12-07',\n",
       " '59-12-08',\n",
       " '1977-06-10',\n",
       " '1972-01-14',\n",
       " '75-10-07',\n",
       " '1983-10-29',\n",
       " '1968-01-19 00:00:00',\n",
       " '1970-06-12',\n",
       " '1947-08-20',\n",
       " '1993/09/19',\n",
       " '1951-12-29',\n",
       " '1964/10/26',\n",
       " '1973-01-15',\n",
       " '1968-09-17',\n",
       " '1959-11-20 00:00:00',\n",
       " '42-09-13',\n",
       " '1964-03-04 00:00:00',\n",
       " '1973-06-18',\n",
       " '1979-11-12',\n",
       " '1979-08-17',\n",
       " '1931-04-06',\n",
       " '1962-08-06',\n",
       " '1958-11-03',\n",
       " '1957-10-29',\n",
       " '76-08-01',\n",
       " '1972-04-23 00:00:00',\n",
       " '59-08-22',\n",
       " '1964-08-02',\n",
       " '1957-11-12',\n",
       " '1975-10-19',\n",
       " '1966-06-16',\n",
       " '1968-11-05',\n",
       " '1974-09-04',\n",
       " '1965-07-05',\n",
       " '1988-02-27',\n",
       " '1968-04-23',\n",
       " '1968-05-24',\n",
       " '1982-01-27',\n",
       " '1991-04-24',\n",
       " '1987/05/17',\n",
       " '06/04/1975',\n",
       " '1965-11-06',\n",
       " '1960-09-30',\n",
       " '1969-11-28 00:00:00',\n",
       " '1985-07-22 00 00 00',\n",
       " '1950-02-27',\n",
       " '1959-09-13',\n",
       " '1985-01-23',\n",
       " '1968-09-09 00 00 00',\n",
       " '1943-11-30',\n",
       " '1949-07-16',\n",
       " '1975-06-02',\n",
       " '1950-08-05 00:00:00',\n",
       " '1981-02-07',\n",
       " '1949-04-01',\n",
       " '30/08/1967',\n",
       " '03/11/1964',\n",
       " '1981-02-22',\n",
       " '1971-08-03',\n",
       " '1975-01-05',\n",
       " '72-10-20',\n",
       " '1981-06-12',\n",
       " '1957-09-01',\n",
       " '78-05-12',\n",
       " '1957-06-14',\n",
       " ...]"
      ]
     },
     "execution_count": 226,
     "metadata": {},
     "output_type": "execute_result"
    }
   ],
   "source": [
    "df['date_of_birth'].describe()\n",
    "list(df['date_of_birth'].unique())"
   ]
  },
  {
   "cell_type": "markdown",
   "metadata": {},
   "source": [
    "**Race**  \n",
    "Pri rase sa nam vyskytuju aj NaN. Problem taky isty ako pri pohlavy, a to ze zacinaju s ' '.  \n",
    "Z grafu vidime ze vacsinu tvori biela rasa."
   ]
  },
  {
   "cell_type": "code",
   "execution_count": 227,
   "metadata": {},
   "outputs": [
    {
     "data": {
      "text/plain": [
       "count       1309\n",
       "unique         5\n",
       "top        White\n",
       "freq        1118\n",
       "Name: race, dtype: object"
      ]
     },
     "execution_count": 227,
     "metadata": {},
     "output_type": "execute_result"
    },
    {
     "data": {
      "text/plain": [
       "[' White',\n",
       " ' Black',\n",
       " ' Asian-Pac-Islander',\n",
       " ' Other',\n",
       " ' Amer-Indian-Eskimo',\n",
       " nan]"
      ]
     },
     "execution_count": 227,
     "metadata": {},
     "output_type": "execute_result"
    }
   ],
   "source": [
    "df['race'].describe()\n",
    "list(df['race'].unique())"
   ]
  },
  {
   "cell_type": "code",
   "execution_count": 228,
   "metadata": {},
   "outputs": [
    {
     "data": {
      "text/plain": [
       "<AxesSubplot:xlabel='race', ylabel='count'>"
      ]
     },
     "execution_count": 228,
     "metadata": {},
     "output_type": "execute_result"
    },
    {
     "data": {
      "image/png": "[encoded data removed]",
      "text/plain": [
       "<Figure size 432x288 with 1 Axes>"
      ]
     },
     "metadata": {
      "needs_background": "light"
     },
     "output_type": "display_data"
    }
   ],
   "source": [
    "sns.countplot(x=df['race'].dropna())"
   ]
  },
  {
   "cell_type": "markdown",
   "metadata": {},
   "source": [
    "**Marital status**  \n",
    "Nevidime nejake vacsie problemy. Vyskytuje sa tu NaN ale aj ?? - bude potreba spojit to dokopy. Ak mame znamy status tak zacina s ' '."
   ]
  },
  {
   "cell_type": "code",
   "execution_count": 229,
   "metadata": {},
   "outputs": [
    {
     "data": {
      "text/plain": [
       "count                    1226\n",
       "unique                      8\n",
       "top        Married-civ-spouse\n",
       "freq                      530\n",
       "Name: marital-status, dtype: object"
      ]
     },
     "execution_count": 229,
     "metadata": {},
     "output_type": "execute_result"
    },
    {
     "data": {
      "text/plain": [
       "[' Married-civ-spouse',\n",
       " ' Divorced',\n",
       " ' Widowed',\n",
       " ' Never-married',\n",
       " ' Separated',\n",
       " nan,\n",
       " '??',\n",
       " ' Married-spouse-absent',\n",
       " ' Married-AF-spouse']"
      ]
     },
     "execution_count": 229,
     "metadata": {},
     "output_type": "execute_result"
    }
   ],
   "source": [
    "df['marital-status'].describe()\n",
    "list(df['marital-status'].unique())"
   ]
  },
  {
   "cell_type": "markdown",
   "metadata": {},
   "source": [
    "**Occupation**  \n",
    "Vidime ze v tomto pripade sa nam NaN nevyskytuje, no mame ?. Vsetky zaznamy vratane ? zacinaju s ' '."
   ]
  },
  {
   "cell_type": "code",
   "execution_count": 230,
   "metadata": {},
   "outputs": [
    {
     "data": {
      "text/plain": [
       "count                1311\n",
       "unique                 14\n",
       "top        Prof-specialty\n",
       "freq                  183\n",
       "Name: occupation, dtype: object"
      ]
     },
     "execution_count": 230,
     "metadata": {},
     "output_type": "execute_result"
    },
    {
     "data": {
      "text/plain": [
       "[' Other-service',\n",
       " ' Machine-op-inspct',\n",
       " ' Prof-specialty',\n",
       " ' Handlers-cleaners',\n",
       " ' Sales',\n",
       " ' ?',\n",
       " ' Craft-repair',\n",
       " ' Adm-clerical',\n",
       " ' Exec-managerial',\n",
       " ' Tech-support',\n",
       " ' Farming-fishing',\n",
       " ' Transport-moving',\n",
       " ' Priv-house-serv',\n",
       " ' Protective-serv']"
      ]
     },
     "execution_count": 230,
     "metadata": {},
     "output_type": "execute_result"
    }
   ],
   "source": [
    "df['occupation'].describe()\n",
    "list(df['occupation'].unique())"
   ]
  },
  {
   "cell_type": "markdown",
   "metadata": {},
   "source": [
    "Na grafe vidime distribuciu occupations."
   ]
  },
  {
   "cell_type": "code",
   "execution_count": 231,
   "metadata": {},
   "outputs": [
    {
     "data": {
      "text/plain": [
       "[Text(0, 0, ' Other-service'),\n",
       " Text(1, 0, ' Machine-op-inspct'),\n",
       " Text(2, 0, ' Prof-specialty'),\n",
       " Text(3, 0, ' Handlers-cleaners'),\n",
       " Text(4, 0, ' Sales'),\n",
       " Text(5, 0, ' ?'),\n",
       " Text(6, 0, ' Craft-repair'),\n",
       " Text(7, 0, ' Adm-clerical'),\n",
       " Text(8, 0, ' Exec-managerial'),\n",
       " Text(9, 0, ' Tech-support'),\n",
       " Text(10, 0, ' Farming-fishing'),\n",
       " Text(11, 0, ' Transport-moving'),\n",
       " Text(12, 0, ' Priv-house-serv'),\n",
       " Text(13, 0, ' Protective-serv')]"
      ]
     },
     "execution_count": 231,
     "metadata": {},
     "output_type": "execute_result"
    },
    {
     "data": {
      "image/png": "[encoded data removed]",
      "text/plain": [
       "<Figure size 432x288 with 1 Axes>"
      ]
     },
     "metadata": {
      "needs_background": "light"
     },
     "output_type": "display_data"
    }
   ],
   "source": [
    "sns.countplot(x=df['occupation'].dropna()).set_xticklabels(sns.countplot(x=df['occupation'].dropna()).get_xticklabels(), rotation=40, ha=\"right\")"
   ]
  },
  {
   "cell_type": "markdown",
   "metadata": {},
   "source": [
    "**Pregnant**  \n",
    "Pregnant moze nadobudat hodnoty true false, v datasete vsak mame rozne pomenovania tychto stavov (false - f, F, FALSE)(true - t, T)."
   ]
  },
  {
   "cell_type": "code",
   "execution_count": 232,
   "metadata": {},
   "outputs": [
    {
     "data": {
      "text/plain": [
       "count     1311\n",
       "unique       5\n",
       "top          f\n",
       "freq      1157\n",
       "Name: pregnant, dtype: object"
      ]
     },
     "execution_count": 232,
     "metadata": {},
     "output_type": "execute_result"
    },
    {
     "data": {
      "text/plain": [
       "['f', 'F', 'FALSE', 't', 'T']"
      ]
     },
     "execution_count": 232,
     "metadata": {},
     "output_type": "execute_result"
    }
   ],
   "source": [
    "df['pregnant'].describe()\n",
    "list(df['pregnant'].unique())"
   ]
  },
  {
   "cell_type": "markdown",
   "metadata": {},
   "source": [
    "**Education-num**  \n",
    "V eucation num vidime cisla zaporne, kladne ale aj NaN."
   ]
  },
  {
   "cell_type": "code",
   "execution_count": 233,
   "metadata": {},
   "outputs": [
    {
     "data": {
      "text/plain": [
       "count    1180.000000\n",
       "mean       31.762712\n",
       "std       315.969198\n",
       "min     -1600.000000\n",
       "25%         9.000000\n",
       "50%        10.000000\n",
       "75%        13.000000\n",
       "max      1400.000000\n",
       "Name: education-num, dtype: float64"
      ]
     },
     "execution_count": 233,
     "metadata": {},
     "output_type": "execute_result"
    },
    {
     "data": {
      "text/plain": [
       "[1100.0,\n",
       " 10.0,\n",
       " 11.0,\n",
       " 9.0,\n",
       " 13.0,\n",
       " nan,\n",
       " 12.0,\n",
       " 16.0,\n",
       " -1300.0,\n",
       " 900.0,\n",
       " 1300.0,\n",
       " 6.0,\n",
       " 4.0,\n",
       " 14.0,\n",
       " 7.0,\n",
       " -1200.0,\n",
       " 800.0,\n",
       " 15.0,\n",
       " 2.0,\n",
       " -900.0,\n",
       " 1000.0,\n",
       " -1600.0,\n",
       " 3.0,\n",
       " 5.0,\n",
       " -1000.0,\n",
       " -1400.0,\n",
       " -1100.0,\n",
       " 600.0,\n",
       " 8.0,\n",
       " 300.0,\n",
       " 1200.0,\n",
       " 1400.0,\n",
       " 700.0,\n",
       " -700.0,\n",
       " -600.0,\n",
       " 1.0,\n",
       " -400.0,\n",
       " 400.0]"
      ]
     },
     "execution_count": 233,
     "metadata": {},
     "output_type": "execute_result"
    }
   ],
   "source": [
    "df['education-num'].describe()\n",
    "list(df['education-num'].unique())"
   ]
  },
  {
   "cell_type": "markdown",
   "metadata": {},
   "source": [
    "**Relationship**  \n",
    "Hodnoty vyzeraju v poriadku no vyskytuju sa aj NaN."
   ]
  },
  {
   "cell_type": "code",
   "execution_count": 234,
   "metadata": {},
   "outputs": [
    {
     "data": {
      "text/plain": [
       "count         1310\n",
       "unique           6\n",
       "top        Husband\n",
       "freq           519\n",
       "Name: relationship, dtype: object"
      ]
     },
     "execution_count": 234,
     "metadata": {},
     "output_type": "execute_result"
    },
    {
     "data": {
      "text/plain": [
       "[' Husband',\n",
       " ' Own-child',\n",
       " ' Unmarried',\n",
       " ' Not-in-family',\n",
       " ' Other-relative',\n",
       " ' Wife',\n",
       " nan]"
      ]
     },
     "execution_count": 234,
     "metadata": {},
     "output_type": "execute_result"
    }
   ],
   "source": [
    "df['relationship'].describe()\n",
    "list(df['relationship'].unique())"
   ]
  },
  {
   "cell_type": "markdown",
   "metadata": {},
   "source": [
    "**Skewness glucose**  \n",
    "Vidime ze max je ovela vacsia ako mean. Dovod vidime na grafe, a to ze vacina hodnot sa pohybuje okolo 0."
   ]
  },
  {
   "cell_type": "code",
   "execution_count": 235,
   "metadata": {},
   "outputs": [
    {
     "data": {
      "text/plain": [
       "count    1310.000000\n",
       "mean        4.488281\n",
       "std         9.896741\n",
       "min        -1.791886\n",
       "25%        -0.128644\n",
       "50%         0.403469\n",
       "75%         2.682085\n",
       "max        63.466388\n",
       "Name: skewness_glucose, dtype: float64"
      ]
     },
     "execution_count": 235,
     "metadata": {},
     "output_type": "execute_result"
    }
   ],
   "source": [
    "df['skewness_glucose'].describe()"
   ]
  },
  {
   "cell_type": "code",
   "execution_count": 236,
   "metadata": {},
   "outputs": [
    {
     "data": {
      "text/plain": [
       "<seaborn.axisgrid.FacetGrid at 0x7f1118285128>"
      ]
     },
     "execution_count": 236,
     "metadata": {},
     "output_type": "execute_result"
    },
    {
     "data": {
      "image/png": "[encoded data removed]",
      "text/plain": [
       "<Figure size 360x360 with 1 Axes>"
      ]
     },
     "metadata": {
      "needs_background": "light"
     },
     "output_type": "display_data"
    }
   ],
   "source": [
    "sns.displot(df['skewness_glucose'], bins=10)"
   ]
  },
  {
   "cell_type": "markdown",
   "metadata": {},
   "source": [
    "**Mean glucose**  \n",
    "Mean glucose hodnoty vyzeraju byt v poriadku. Z grafu mame predstavu ake hodnoty a v akych poctoch sa vyskytuju - vidime distribuciu."
   ]
  },
  {
   "cell_type": "code",
   "execution_count": 237,
   "metadata": {
    "scrolled": true
   },
   "outputs": [
    {
     "data": {
      "text/plain": [
       "count    1311.000000\n",
       "mean      100.639576\n",
       "std        34.270089\n",
       "min         7.632812\n",
       "25%        84.355469\n",
       "50%       110.054688\n",
       "75%       125.589844\n",
       "max       174.445312\n",
       "Name: mean_glucose, dtype: float64"
      ]
     },
     "execution_count": 237,
     "metadata": {},
     "output_type": "execute_result"
    }
   ],
   "source": [
    "df['mean_glucose'].describe()"
   ]
  },
  {
   "cell_type": "code",
   "execution_count": 238,
   "metadata": {},
   "outputs": [
    {
     "data": {
      "text/plain": [
       "<seaborn.axisgrid.FacetGrid at 0x7f111827c978>"
      ]
     },
     "execution_count": 238,
     "metadata": {},
     "output_type": "execute_result"
    },
    {
     "data": {
      "image/png": "[encoded data removed]",
      "text/plain": [
       "<Figure size 360x360 with 1 Axes>"
      ]
     },
     "metadata": {
      "needs_background": "light"
     },
     "output_type": "display_data"
    }
   ],
   "source": [
    "sns.displot(df['mean_glucose'])"
   ]
  },
  {
   "cell_type": "markdown",
   "metadata": {},
   "source": [
    "**Kurtosis glucose**  \n",
    "Pri tomto vidime podobnost so skewness glucose, presnejsie s tym ze max je od mean vzdialeny viac ako min. Dovod je taktiez to, ze vacsina hodnot sa pohybuje okolo 0."
   ]
  },
  {
   "cell_type": "code",
   "execution_count": 239,
   "metadata": {},
   "outputs": [
    {
     "data": {
      "text/plain": [
       "count    1311.000000\n",
       "mean        0.994300\n",
       "std         1.635105\n",
       "min        -0.967856\n",
       "25%         0.055843\n",
       "50%         0.306144\n",
       "75%         0.999702\n",
       "max         7.879628\n",
       "Name: kurtosis_glucose, dtype: float64"
      ]
     },
     "execution_count": 239,
     "metadata": {},
     "output_type": "execute_result"
    }
   ],
   "source": [
    "df['kurtosis_glucose'].describe()"
   ]
  },
  {
   "cell_type": "code",
   "execution_count": 240,
   "metadata": {},
   "outputs": [
    {
     "data": {
      "text/plain": [
       "<seaborn.axisgrid.FacetGrid at 0x7f1118285208>"
      ]
     },
     "execution_count": 240,
     "metadata": {},
     "output_type": "execute_result"
    },
    {
     "data": {
      "image/png": "[encoded data removed]",
      "text/plain": [
       "<Figure size 360x360 with 1 Axes>"
      ]
     },
     "metadata": {
      "needs_background": "light"
     },
     "output_type": "display_data"
    }
   ],
   "source": [
    "sns.displot(df['kurtosis_glucose'], bins=15)"
   ]
  },
  {
   "cell_type": "markdown",
   "metadata": {},
   "source": [
    "**Std glucose**  \n",
    "Udaje vyzeraju byt v poriadku, na grafe vidime distribuciu tychto hodnot."
   ]
  },
  {
   "cell_type": "code",
   "execution_count": 241,
   "metadata": {},
   "outputs": [
    {
     "data": {
      "text/plain": [
       "count    1310.000000\n",
       "mean       44.769086\n",
       "std         7.617468\n",
       "min        24.898211\n",
       "25%        39.591300\n",
       "50%        45.706875\n",
       "75%        50.134986\n",
       "max        81.503042\n",
       "Name: std_glucose, dtype: float64"
      ]
     },
     "execution_count": 241,
     "metadata": {},
     "output_type": "execute_result"
    }
   ],
   "source": [
    "df['std_glucose'].describe()"
   ]
  },
  {
   "cell_type": "code",
   "execution_count": 242,
   "metadata": {},
   "outputs": [
    {
     "data": {
      "text/plain": [
       "<seaborn.axisgrid.FacetGrid at 0x7f11181cb9e8>"
      ]
     },
     "execution_count": 242,
     "metadata": {},
     "output_type": "execute_result"
    },
    {
     "data": {
      "image/png": "[encoded data removed]",
      "text/plain": [
       "<Figure size 360x360 with 1 Axes>"
      ]
     },
     "metadata": {
      "needs_background": "light"
     },
     "output_type": "display_data"
    }
   ],
   "source": [
    "sns.displot(df['std_glucose'])"
   ]
  },
  {
   "cell_type": "markdown",
   "metadata": {},
   "source": [
    "**Capital gain**  \n",
    "Vidime ze mean je 911 no max je 99 999. Vacsina hodnot su totizto 0. "
   ]
  },
  {
   "cell_type": "code",
   "execution_count": 243,
   "metadata": {},
   "outputs": [
    {
     "data": {
      "text/plain": [
       "count     1308.000000\n",
       "mean       911.953364\n",
       "std       5534.558098\n",
       "min          0.000000\n",
       "25%          0.000000\n",
       "50%          0.000000\n",
       "75%          0.000000\n",
       "max      99999.000000\n",
       "Name: capital-gain, dtype: float64"
      ]
     },
     "execution_count": 243,
     "metadata": {},
     "output_type": "execute_result"
    }
   ],
   "source": [
    "df['capital-gain'].describe()"
   ]
  },
  {
   "cell_type": "markdown",
   "metadata": {},
   "source": [
    "**Capital loss**  \n",
    "Podobne ako pri capital gain"
   ]
  },
  {
   "cell_type": "code",
   "execution_count": 244,
   "metadata": {},
   "outputs": [
    {
     "data": {
      "text/plain": [
       "count    1311.000000\n",
       "mean      104.503432\n",
       "std       445.375332\n",
       "min         0.000000\n",
       "25%         0.000000\n",
       "50%         0.000000\n",
       "75%         0.000000\n",
       "max      3770.000000\n",
       "Name: capital-loss, dtype: float64"
      ]
     },
     "execution_count": 244,
     "metadata": {},
     "output_type": "execute_result"
    }
   ],
   "source": [
    "df['capital-loss'].describe()"
   ]
  },
  {
   "cell_type": "markdown",
   "metadata": {},
   "source": [
    "**Education**  \n",
    "Hodnoty zacinaju s ' '."
   ]
  },
  {
   "cell_type": "code",
   "execution_count": 245,
   "metadata": {},
   "outputs": [
    {
     "data": {
      "text/plain": [
       "count         1311\n",
       "unique          24\n",
       "top        HS-grad\n",
       "freq           381\n",
       "Name: education, dtype: object"
      ]
     },
     "execution_count": 245,
     "metadata": {},
     "output_type": "execute_result"
    },
    {
     "data": {
      "text/plain": [
       "[' Assoc-voc',\n",
       " ' Some-college',\n",
       " ' Assoc_voc',\n",
       " ' HS_grad',\n",
       " ' HS-grad',\n",
       " ' Bachelors',\n",
       " ' Assoc-acdm',\n",
       " ' Doctorate',\n",
       " ' Some_college',\n",
       " ' 10th',\n",
       " ' 7th-8th',\n",
       " ' Masters',\n",
       " ' 11th',\n",
       " ' 12th',\n",
       " ' Prof-school',\n",
       " ' 1st-4th',\n",
       " ' 5th-6th',\n",
       " ' 9th',\n",
       " ' 1st_4th',\n",
       " ' 7th_8th',\n",
       " ' Assoc_acdm',\n",
       " ' Prof_school',\n",
       " ' 5th_6th',\n",
       " ' Preschool']"
      ]
     },
     "execution_count": 245,
     "metadata": {},
     "output_type": "execute_result"
    }
   ],
   "source": [
    "df['education'].describe()\n",
    "list(df['education'].unique())"
   ]
  },
  {
   "cell_type": "markdown",
   "metadata": {},
   "source": [
    "**fnlwgt**"
   ]
  },
  {
   "cell_type": "code",
   "execution_count": 246,
   "metadata": {},
   "outputs": [
    {
     "data": {
      "text/plain": [
       "count    1.310000e+03\n",
       "mean     1.929120e+05\n",
       "std      1.087439e+05\n",
       "min      1.930200e+04\n",
       "25%      1.208240e+05\n",
       "50%      1.803175e+05\n",
       "75%      2.442378e+05\n",
       "max      1.455435e+06\n",
       "Name: fnlwgt, dtype: float64"
      ]
     },
     "execution_count": 246,
     "metadata": {},
     "output_type": "execute_result"
    }
   ],
   "source": [
    "df['fnlwgt'].describe()"
   ]
  },
  {
   "cell_type": "code",
   "execution_count": 247,
   "metadata": {},
   "outputs": [
    {
     "data": {
      "text/plain": [
       "<seaborn.axisgrid.FacetGrid at 0x7f1113f07c50>"
      ]
     },
     "execution_count": 247,
     "metadata": {},
     "output_type": "execute_result"
    },
    {
     "data": {
      "image/png": "[encoded data removed]",
      "text/plain": [
       "<Figure size 360x360 with 1 Axes>"
      ]
     },
     "metadata": {
      "needs_background": "light"
     },
     "output_type": "display_data"
    }
   ],
   "source": [
    "sns.displot(df['fnlwgt'])"
   ]
  },
  {
   "cell_type": "markdown",
   "metadata": {},
   "source": [
    "**Class**  \n",
    "Class hodnoty mame len 0, 1, a NaN. Tieto udaje su teda v poriadku. Na grafe vidime, ze ludi bez cukrovky mame vyse 2x viac. Tento udaj nam chyba pri 1 zazname."
   ]
  },
  {
   "cell_type": "code",
   "execution_count": 248,
   "metadata": {},
   "outputs": [
    {
     "data": {
      "text/plain": [
       "count    1310.000000\n",
       "mean        0.264122\n",
       "std         0.441033\n",
       "min         0.000000\n",
       "25%         0.000000\n",
       "50%         0.000000\n",
       "75%         1.000000\n",
       "max         1.000000\n",
       "Name: class, dtype: float64"
      ]
     },
     "execution_count": 248,
     "metadata": {},
     "output_type": "execute_result"
    },
    {
     "data": {
      "text/plain": [
       "[0.0, 1.0, nan]"
      ]
     },
     "execution_count": 248,
     "metadata": {},
     "output_type": "execute_result"
    }
   ],
   "source": [
    "df['class'].describe()\n",
    "list(df['class'].unique())"
   ]
  },
  {
   "cell_type": "code",
   "execution_count": 249,
   "metadata": {},
   "outputs": [
    {
     "data": {
      "text/plain": [
       "<AxesSubplot:xlabel='class', ylabel='count'>"
      ]
     },
     "execution_count": 249,
     "metadata": {},
     "output_type": "execute_result"
    },
    {
     "data": {
      "image/png": "[encoded data removed]",
      "text/plain": [
       "<Figure size 432x288 with 1 Axes>"
      ]
     },
     "metadata": {
      "needs_background": "light"
     },
     "output_type": "display_data"
    }
   ],
   "source": [
    "sns.countplot(x=df['class'].dropna())"
   ]
  },
  {
   "cell_type": "markdown",
   "metadata": {},
   "source": [
    "**Income**  \n",
    "Income hdnoty mame len <=50K, >50K a NaN. Zacinaju vsak s ' '."
   ]
  },
  {
   "cell_type": "code",
   "execution_count": 250,
   "metadata": {},
   "outputs": [
    {
     "data": {
      "text/plain": [
       "count       1310\n",
       "unique         2\n",
       "top        <=50K\n",
       "freq         988\n",
       "Name: income, dtype: object"
      ]
     },
     "execution_count": 250,
     "metadata": {},
     "output_type": "execute_result"
    },
    {
     "data": {
      "text/plain": [
       "[' <=50K', ' >50K', nan]"
      ]
     },
     "execution_count": 250,
     "metadata": {},
     "output_type": "execute_result"
    }
   ],
   "source": [
    "df['income'].describe()\n",
    "list(df['income'].unique())"
   ]
  },
  {
   "cell_type": "markdown",
   "metadata": {},
   "source": [
    "**Medical info**  \n",
    "Nie kazdy ma medical info. Chyba pri jednom zazname. Z freq vidime, ze kazdy zaznam ma unikatne medical info.  \n",
    "V medical info sa nachadzaju udaje: mean_oxygen, std_oxygen, kurtosis_oxygen a skewness_oxygen. Tieto udaje budeme musiet vlozit medzi nase zvysne atributy."
   ]
  },
  {
   "cell_type": "code",
   "execution_count": 251,
   "metadata": {},
   "outputs": [
    {
     "data": {
      "text/plain": [
       "count                                                  1310\n",
       "unique                                                 1310\n",
       "top       {'mean_oxygen':'1.428093645','std_oxygen':'14....\n",
       "freq                                                      1\n",
       "Name: medical_info, dtype: object"
      ]
     },
     "execution_count": 251,
     "metadata": {},
     "output_type": "execute_result"
    },
    {
     "data": {
      "text/plain": [
       "\"{'mean_oxygen':'7.227424749','std_oxygen':'31.43028784','kurtosis_oxygen':'4.642781783999999','skewness_oxygen':'21.80403398'}\""
      ]
     },
     "execution_count": 251,
     "metadata": {},
     "output_type": "execute_result"
    }
   ],
   "source": [
    "df['medical_info'].describe()\n",
    "df['medical_info'][0]"
   ]
  },
  {
   "cell_type": "markdown",
   "metadata": {},
   "source": [
    "**Native country**  \n",
    "Nemame sice NaN ale mame ?. Taktiez tieto zaznamy zacinaju s ' '. Drvivu vacsinu zaznamov mame z United-States."
   ]
  },
  {
   "cell_type": "code",
   "execution_count": 252,
   "metadata": {},
   "outputs": [
    {
     "data": {
      "text/plain": [
       "count               1311\n",
       "unique                31\n",
       "top        United-States\n",
       "freq                1193\n",
       "Name: native-country, dtype: object"
      ]
     },
     "execution_count": 252,
     "metadata": {},
     "output_type": "execute_result"
    },
    {
     "data": {
      "text/plain": [
       "[' United-States',\n",
       " ' Canada',\n",
       " ' Poland',\n",
       " ' Yugoslavia',\n",
       " ' Iran',\n",
       " ' ?',\n",
       " ' India',\n",
       " ' Japan',\n",
       " ' Puerto-Rico',\n",
       " ' Mexico',\n",
       " ' El-Salvador',\n",
       " ' Dominican-Republic',\n",
       " ' Germany',\n",
       " ' Cuba',\n",
       " ' Guatemala',\n",
       " ' Philippines',\n",
       " ' Taiwan',\n",
       " ' England',\n",
       " ' Trinadad&Tobago',\n",
       " ' Hungary',\n",
       " ' China',\n",
       " ' Jamaica',\n",
       " ' Peru',\n",
       " ' Cambodia',\n",
       " ' Italy',\n",
       " ' Outlying-US(Guam-USVI-etc)',\n",
       " ' Columbia',\n",
       " ' Thailand',\n",
       " ' Vietnam',\n",
       " ' Ireland',\n",
       " ' Portugal']"
      ]
     },
     "execution_count": 252,
     "metadata": {},
     "output_type": "execute_result"
    }
   ],
   "source": [
    "df['native-country'].describe()\n",
    "list(df['native-country'].unique())"
   ]
  },
  {
   "cell_type": "markdown",
   "metadata": {},
   "source": [
    "**Hours per week**  \n",
    "Hodnoty vyzeraju byt v poriadku."
   ]
  },
  {
   "cell_type": "code",
   "execution_count": 253,
   "metadata": {},
   "outputs": [
    {
     "data": {
      "text/plain": [
       "count    1311.000000\n",
       "mean       39.798627\n",
       "std        12.311009\n",
       "min         1.000000\n",
       "25%        40.000000\n",
       "50%        40.000000\n",
       "75%        43.000000\n",
       "max        99.000000\n",
       "Name: hours-per-week, dtype: float64"
      ]
     },
     "execution_count": 253,
     "metadata": {},
     "output_type": "execute_result"
    }
   ],
   "source": [
    "df['hours-per-week'].describe()"
   ]
  },
  {
   "cell_type": "code",
   "execution_count": 254,
   "metadata": {},
   "outputs": [
    {
     "data": {
      "text/plain": [
       "<seaborn.axisgrid.FacetGrid at 0x7f1113d85c18>"
      ]
     },
     "execution_count": 254,
     "metadata": {},
     "output_type": "execute_result"
    },
    {
     "data": {
      "image/png": "[encoded data removed]",
      "text/plain": [
       "<Figure size 360x360 with 1 Axes>"
      ]
     },
     "metadata": {
      "needs_background": "light"
     },
     "output_type": "display_data"
    }
   ],
   "source": [
    "sns.displot(df['hours-per-week'], bins=15)"
   ]
  },
  {
   "cell_type": "markdown",
   "metadata": {},
   "source": [
    "**Workclass**  \n",
    "Mame hodnoty NaN, ? aj ? zacinajuci s ' '. Taktiez vidime ze mame rovnake hodnoty no inak zapisane (Private, private) a niektore zacinaju s ' '."
   ]
  },
  {
   "cell_type": "code",
   "execution_count": 255,
   "metadata": {},
   "outputs": [
    {
     "data": {
      "text/plain": [
       "count         1309\n",
       "unique          14\n",
       "top        Private\n",
       "freq           819\n",
       "Name: workclass, dtype: object"
      ]
     },
     "execution_count": 255,
     "metadata": {},
     "output_type": "execute_result"
    },
    {
     "data": {
      "text/plain": [
       "[' Private',\n",
       " 'private',\n",
       " ' Local-gov',\n",
       " ' ?',\n",
       " ' Self-emp-not-inc',\n",
       " ' State-gov',\n",
       " ' Federal-gov',\n",
       " 'self-emp-inc',\n",
       " '?',\n",
       " 'self-emp-not-inc',\n",
       " ' Self-emp-inc',\n",
       " 'state-gov',\n",
       " nan,\n",
       " 'local-gov',\n",
       " 'federal-gov']"
      ]
     },
     "execution_count": 255,
     "metadata": {},
     "output_type": "execute_result"
    }
   ],
   "source": [
    "df['workclass'].describe()\n",
    "list(df['workclass'].unique())"
   ]
  },
  {
   "cell_type": "markdown",
   "metadata": {},
   "source": [
    "# Vyhodnotenie problémov v dátach\n",
    "Nevhodna struktura dat sa ukazala pri adrese, ktora je napisana v dvoch riadkoch. Preto ju budeme musiet zmenit na jeden riadok.\n",
    "\n",
    "Mali sme problem duplicitnych zaznamov v dataframe other. Nakolko nenastal problem, ze by malo jedno meno viacero moznych zvysnych atributov (vzdy to bol jeden atribut alebo nan), mohli sme duplicitne zaznamy spojit do jedneho.  \n",
    "\n",
    "Formaty dat nemame vzdy jednotne. Viac krat sa nam vyskytuje v datach ? aj ??, no nikdy nie v jednom zazname oba. Preto vzhladom na zaznamy kde sa vyskytuju zamenime ? za NaN.\n",
    "Nejednotnost formatov sa ukazala pri datumoch narodenia, kde datumy su napisane bud s celym rokom (1988) alebo len so skratenym (88), poradie d-m-e nieje vzdy dodrzane, niektore datumy maju aj cas.  \n",
    "Nejednotnost je aj pri pregnant, kde su hodnoty true a false zapisane v inom formate (false - F, f, FALSE. true - T, t).  \n",
    "Dalsia nejednotnost je pri workclass, kde su rovnake hodnoty zapisane inak (napr. Private - private, Local-gov - local-gov...). <br/>V niektorych stlpcoch (napr. sex) data zacinaju ' '. Mame vsak aj take stlpce, kde nie vsetky data zacinaju s ' '.  \n",
    "Tieto nejednotnosti budeme musiet zjednotit.\n",
    "\n",
    "Chybajuce hodnoty sa nachadzaju pri viacerych atributoch. Bud su nevyplnene alebo zapisane ? popripade ??. Budeme musiet vyhodnotit, pri ktorych atributoch to nevadi a naopak pri ktorych je tato informacia nevyhnutna. Zaznamy ktore nevyhnutny atribut nemaju potom vylucime.\n"
   ]
  },
  {
   "cell_type": "markdown",
   "metadata": {},
   "source": [
    "# Parova analyza dat"
   ]
  },
  {
   "cell_type": "markdown",
   "metadata": {},
   "source": [
    "### Vek a pritomnost cukrovky\n",
    "Z grafu vidime, ze existuje nejake spojenie medzi vekom a pritomnostou cukrovky. Podla grafu to vyzera tak ze zatial co u ludi mladsich ako 35 nie su skoro ziadne pripady, u ludi starsich ako 80 je vyskyt cukrovky ovela pravdepodobnejsi."
   ]
  },
  {
   "cell_type": "code",
   "execution_count": 323,
   "metadata": {},
   "outputs": [
    {
     "data": {
      "text/plain": [
       "<AxesSubplot:xlabel='age', ylabel='class'>"
      ]
     },
     "execution_count": 323,
     "metadata": {},
     "output_type": "execute_result"
    },
    {
     "data": {
      "image/png": "[encoded data removed]",
      "text/plain": [
       "<Figure size 432x288 with 1 Axes>"
      ]
     },
     "metadata": {
      "needs_background": "light"
     },
     "output_type": "display_data"
    }
   ],
   "source": [
    "sns.regplot(data=df, x='age', y='class')"
   ]
  },
  {
   "cell_type": "code",
   "execution_count": 257,
   "metadata": {
    "scrolled": true
   },
   "outputs": [
    {
     "data": {
      "text/plain": [
       "0.40090306053596975"
      ]
     },
     "execution_count": 257,
     "metadata": {},
     "output_type": "execute_result"
    }
   ],
   "source": [
    "df['age'].corr(df['class'])"
   ]
  },
  {
   "cell_type": "markdown",
   "metadata": {},
   "source": [
    "Na tomto grafe vidime vek a pocet ludi s cukrovkou (cierna) a bez cukrovky (cervena). Aj tu sa ukazuje to co v predchadzajucom: Ludia mladsi ako 35 cukrovku nemaju a starsi ako 80 maju.  \n",
    "Dalsia vec ktoru vidime na tomto grafe je, ze najviac ludi je vo veku okolo 60 ked maju cukrovku. Najviac ludi je vo veku okolo 50 ked nemaju cukrovku."
   ]
  },
  {
   "cell_type": "code",
   "execution_count": 258,
   "metadata": {
    "scrolled": true
   },
   "outputs": [
    {
     "data": {
      "text/plain": [
       "<AxesSubplot:xlabel='age', ylabel='Count'>"
      ]
     },
     "execution_count": 258,
     "metadata": {},
     "output_type": "execute_result"
    },
    {
     "data": {
      "text/plain": [
       "<AxesSubplot:xlabel='age', ylabel='Count'>"
      ]
     },
     "execution_count": 258,
     "metadata": {},
     "output_type": "execute_result"
    },
    {
     "data": {
      "image/png": "[encoded data removed]",
      "text/plain": [
       "<Figure size 432x288 with 1 Axes>"
      ]
     },
     "metadata": {
      "needs_background": "light"
     },
     "output_type": "display_data"
    }
   ],
   "source": [
    "pos = df['class'] == 1.0\n",
    "sns.histplot(df[pos].age, kde=True, color=\"Black\")\n",
    "neg = df['class'] == 0.0\n",
    "sns.histplot(df[neg].age, kde=True, color=\"Red\")"
   ]
  },
  {
   "cell_type": "markdown",
   "metadata": {},
   "source": [
    "### skewness_glucose, kurtosis_glucose spolu a class\n",
    "Podla tychto grafov to vyzera tak, ze pri vyssich koeficientoch asymetrie a spicatosti je viac pripadov cukrovky. Naopak pri malych koeficientoch je malo vyskytov cukrovky."
   ]
  },
  {
   "cell_type": "code",
   "execution_count": 259,
   "metadata": {},
   "outputs": [
    {
     "data": {
      "text/plain": [
       "<seaborn.axisgrid.PairGrid at 0x7f1113c943c8>"
      ]
     },
     "execution_count": 259,
     "metadata": {},
     "output_type": "execute_result"
    },
    {
     "data": {
      "image/png": "[encoded data removed]",
      "text/plain": [
       "<Figure size 411.875x360 with 6 Axes>"
      ]
     },
     "metadata": {
      "needs_background": "light"
     },
     "output_type": "display_data"
    }
   ],
   "source": [
    "sns.pairplot(data=df, vars=['skewness_glucose', 'kurtosis_glucose'], hue = \"class\")"
   ]
  },
  {
   "cell_type": "markdown",
   "metadata": {},
   "source": [
    "Aby sme videli, ze v predchadzajucich grafoch sa nenachadzaju \"gulicky pod gulickami\" (class 1 a 0) spravili sme dalsie 2 grafy. 1. zobrazuje skewness_glucose a ludi co maju/nemaju cukrovku, 2. zas kurtosis_glucose a ludi co maju/nemaju cukrovku.  \n",
    "Vidime ze sme prvy graf vycitali dobre."
   ]
  },
  {
   "cell_type": "code",
   "execution_count": 318,
   "metadata": {},
   "outputs": [
    {
     "data": {
      "text/plain": [
       "<seaborn.axisgrid.FacetGrid at 0x7f1111f54ba8>"
      ]
     },
     "execution_count": 318,
     "metadata": {},
     "output_type": "execute_result"
    },
    {
     "data": {
      "image/png": "[encoded data removed]",
      "text/plain": [
       "<Figure size 411.875x360 with 1 Axes>"
      ]
     },
     "metadata": {
      "needs_background": "light"
     },
     "output_type": "display_data"
    }
   ],
   "source": [
    "sns.displot(df, x='skewness_glucose', hue='class', bins = 15)"
   ]
  },
  {
   "cell_type": "code",
   "execution_count": 317,
   "metadata": {},
   "outputs": [
    {
     "data": {
      "text/plain": [
       "<seaborn.axisgrid.FacetGrid at 0x7f111215e400>"
      ]
     },
     "execution_count": 317,
     "metadata": {},
     "output_type": "execute_result"
    },
    {
     "data": {
      "image/png": "[encoded data removed]",
      "text/plain": [
       "<Figure size 411.875x360 with 1 Axes>"
      ]
     },
     "metadata": {
      "needs_background": "light"
     },
     "output_type": "display_data"
    }
   ],
   "source": [
    "sns.displot(df, x='kurtosis_glucose', hue='class', bins = 15)"
   ]
  },
  {
   "cell_type": "markdown",
   "metadata": {},
   "source": [
    "### Vek a mean_glucose  \n",
    "Snazili sme sa zistit ci existuje korelacia medzi vekom a mean glucose. Z grafu to vyzera ze nie. Najviac ludi s vyssou mean glucose je okolo veku 40-60 no v tychto vekoch mame najviac zaznamov."
   ]
  },
  {
   "cell_type": "code",
   "execution_count": 262,
   "metadata": {},
   "outputs": [
    {
     "data": {
      "text/plain": [
       "<AxesSubplot:xlabel='mean_glucose', ylabel='age'>"
      ]
     },
     "execution_count": 262,
     "metadata": {},
     "output_type": "execute_result"
    },
    {
     "data": {
      "image/png": "[encoded data removed]",
      "text/plain": [
       "<Figure size 432x288 with 1 Axes>"
      ]
     },
     "metadata": {
      "needs_background": "light"
     },
     "output_type": "display_data"
    }
   ],
   "source": [
    "sns.scatterplot(data=df, x='mean_glucose', y='age')"
   ]
  },
  {
   "cell_type": "markdown",
   "metadata": {},
   "source": [
    "K veku a mean glucose sme pridali aj class, aby sme zistili ci tieto udaje mozu mat nejaky vztah s pritomnostou cukrovky.  \n",
    "Vyzera to tak, ze medzi pritomnostoou cukrovky a mean glucose je vztah."
   ]
  },
  {
   "cell_type": "code",
   "execution_count": 263,
   "metadata": {},
   "outputs": [
    {
     "data": {
      "text/plain": [
       "<seaborn.axisgrid.PairGrid at 0x7f1113908f60>"
      ]
     },
     "execution_count": 263,
     "metadata": {},
     "output_type": "execute_result"
    },
    {
     "data": {
      "image/png": "[encoded data removed]",
      "text/plain": [
       "<Figure size 411.875x360 with 6 Axes>"
      ]
     },
     "metadata": {
      "needs_background": "light"
     },
     "output_type": "display_data"
    }
   ],
   "source": [
    "sns.pairplot(data=df, vars=['mean_glucose', 'age'], hue = \"class\")"
   ]
  },
  {
   "cell_type": "markdown",
   "metadata": {},
   "source": [
    "### Vek a std glucose\n",
    "Vyzera to tak, ze ani vek a std glucose nemaju medzi sebou vztah."
   ]
  },
  {
   "cell_type": "code",
   "execution_count": null,
   "metadata": {},
   "outputs": [],
   "source": [
    "sns.scatterplot(data=df, x='age', y='std_glucose')\n",
    "#sns.displot(df, x='age', hue='std_glucose', bins = 15)"
   ]
  },
  {
   "cell_type": "markdown",
   "metadata": {},
   "source": [
    "Vek a std glucose s class. Skusali sme to iste ako pri mean glucose - age. Aj tu to vyzera, ze vztah je skor medzi std glucose a class."
   ]
  },
  {
   "cell_type": "code",
   "execution_count": null,
   "metadata": {},
   "outputs": [],
   "source": [
    "sns.pairplot(data=df, vars=['age', 'std_glucose'], hue = \"class\")"
   ]
  },
  {
   "cell_type": "markdown",
   "metadata": {},
   "source": [
    "### Mean glucose a std glucose\n",
    "Z tohto grafu vidime ze existuje korelacia medzi mean glucose a std glucose."
   ]
  },
  {
   "cell_type": "code",
   "execution_count": 266,
   "metadata": {},
   "outputs": [
    {
     "data": {
      "text/plain": [
       "<AxesSubplot:xlabel='mean_glucose', ylabel='std_glucose'>"
      ]
     },
     "execution_count": 266,
     "metadata": {},
     "output_type": "execute_result"
    },
    {
     "data": {
      "text/plain": [
       "0.6548327998606365"
      ]
     },
     "execution_count": 266,
     "metadata": {},
     "output_type": "execute_result"
    },
    {
     "data": {
      "image/png": "[encoded data removed]",
      "text/plain": [
       "<Figure size 432x288 with 1 Axes>"
      ]
     },
     "metadata": {
      "needs_background": "light"
     },
     "output_type": "display_data"
    }
   ],
   "source": [
    "sns.scatterplot(data=df, x='mean_glucose', y='std_glucose')\n",
    "df['mean_glucose'].corr(df['std_glucose'])"
   ]
  },
  {
   "cell_type": "markdown",
   "metadata": {},
   "source": [
    "### Pohlavie a pritomnost cukrovky\n",
    "Snazili sme sa zistit ci pohlavie a pritomnost cukrovky maju nejaky vztah. Pomer muzov s cukrovkou a zien s cukrovkou je priblizne 2:1. Taky isty aj bez cukrovky. Nakolko je ale pomer muzov a zien 2:1, vidime ze pohlavie a pritomnost cukrovky nemaju medzi sebou vztah."
   ]
  },
  {
   "cell_type": "code",
   "execution_count": 267,
   "metadata": {},
   "outputs": [
    {
     "data": {
      "text/plain": [
       "<AxesSubplot:xlabel='Count', ylabel='class'>"
      ]
     },
     "execution_count": 267,
     "metadata": {},
     "output_type": "execute_result"
    },
    {
     "data": {
      "text/plain": [
       "<AxesSubplot:xlabel='Count', ylabel='class'>"
      ]
     },
     "execution_count": 267,
     "metadata": {},
     "output_type": "execute_result"
    },
    {
     "data": {
      "image/png": "[encoded data removed]",
      "text/plain": [
       "<Figure size 432x288 with 1 Axes>"
      ]
     },
     "metadata": {
      "needs_background": "light"
     },
     "output_type": "display_data"
    }
   ],
   "source": [
    "m = df.loc[df['sex'] == ' Male']\n",
    "f = df.loc[df['sex'] == ' Female']\n",
    "sns.histplot(data=m, y='class', color='Blue')\n",
    "sns.histplot(data=f, y='class', color='Orange')"
   ]
  },
  {
   "cell_type": "markdown",
   "metadata": {},
   "source": [
    "### Hours-per-week a mean glucose\n",
    "Z tohto grafu nevidime, ze by medzi tymito dvoma hodnotami bol nejaky vztah."
   ]
  },
  {
   "cell_type": "code",
   "execution_count": 268,
   "metadata": {},
   "outputs": [
    {
     "data": {
      "text/plain": [
       "<AxesSubplot:xlabel='hours-per-week', ylabel='mean_glucose'>"
      ]
     },
     "execution_count": 268,
     "metadata": {},
     "output_type": "execute_result"
    },
    {
     "data": {
      "image/png": "[encoded data removed]",
      "text/plain": [
       "<Figure size 432x288 with 1 Axes>"
      ]
     },
     "metadata": {
      "needs_background": "light"
     },
     "output_type": "display_data"
    }
   ],
   "source": [
    "sns.scatterplot(data=df, x='hours-per-week', y='mean_glucose')"
   ]
  },
  {
   "cell_type": "markdown",
   "metadata": {},
   "source": [
    "Pridali sme k nim aj class. Vyzera to tak ze medzi class a hours per week taktiez nieje vztah."
   ]
  },
  {
   "cell_type": "code",
   "execution_count": 269,
   "metadata": {},
   "outputs": [
    {
     "data": {
      "text/plain": [
       "<seaborn.axisgrid.PairGrid at 0x7f11133c26a0>"
      ]
     },
     "execution_count": 269,
     "metadata": {},
     "output_type": "execute_result"
    },
    {
     "data": {
      "image/png": "[encoded data removed]",
      "text/plain": [
       "<Figure size 411.875x360 with 6 Axes>"
      ]
     },
     "metadata": {
      "needs_background": "light"
     },
     "output_type": "display_data"
    }
   ],
   "source": [
    "sns.pairplot(data=df, vars=['hours-per-week', 'mean_glucose'], hue = \"class\")"
   ]
  },
  {
   "cell_type": "markdown",
   "metadata": {},
   "source": [
    "### Hours-per-week a std glucose\n",
    "Zistovali sme to iste co pri hours per week a mean glucose. Ani tu nevidime ziaden vztah"
   ]
  },
  {
   "cell_type": "code",
   "execution_count": 270,
   "metadata": {},
   "outputs": [
    {
     "data": {
      "text/plain": [
       "<AxesSubplot:xlabel='hours-per-week', ylabel='std_glucose'>"
      ]
     },
     "execution_count": 270,
     "metadata": {},
     "output_type": "execute_result"
    },
    {
     "data": {
      "image/png": "[encoded data removed]",
      "text/plain": [
       "<Figure size 432x288 with 1 Axes>"
      ]
     },
     "metadata": {
      "needs_background": "light"
     },
     "output_type": "display_data"
    }
   ],
   "source": [
    "sns.scatterplot(data=df, x='hours-per-week', y='std_glucose')"
   ]
  },
  {
   "cell_type": "code",
   "execution_count": 271,
   "metadata": {},
   "outputs": [
    {
     "data": {
      "text/plain": [
       "<seaborn.axisgrid.PairGrid at 0x7f11133c2a90>"
      ]
     },
     "execution_count": 271,
     "metadata": {},
     "output_type": "execute_result"
    },
    {
     "data": {
      "image/png": "[encoded data removed]",
      "text/plain": [
       "<Figure size 411.875x360 with 6 Axes>"
      ]
     },
     "metadata": {
      "needs_background": "light"
     },
     "output_type": "display_data"
    }
   ],
   "source": [
    "sns.pairplot(data=df, vars=['hours-per-week', 'std_glucose'], hue = \"class\")"
   ]
  },
  {
   "cell_type": "markdown",
   "metadata": {},
   "source": [
    "# Hypotezy\n"
   ]
  },
  {
   "cell_type": "code",
   "execution_count": 302,
   "metadata": {},
   "outputs": [],
   "source": [
    "# nastavenie premennych ----------------------------------------------------------------\n",
    "alpha = 0.05    # set significance level to 0.05\n",
    "\n",
    "\n",
    "# Testovanie variancie ------------------------------------------------------------------\n",
    "# ak je p < 0.05 tak nemaju rovnake variancie -> return False. Inak return True\n",
    "def variance_check_3(a, b, c):\n",
    "    s, p = stats.levene(a, b, c)\n",
    "    if p > alpha:\n",
    "        return True\n",
    "    else:\n",
    "        return False\n",
    "def variance_check_2(a, b):\n",
    "    s, p = stats.levene(a, b)\n",
    "    if p > alpha:\n",
    "        return True\n",
    "    else:\n",
    "        return False\n",
    "\n",
    "# Testovanie Normality -------------------------------------------------------------------\n",
    "# Pomocou Shapiro test\n",
    "# ak je p < 0.05, nieje normalny -> return False. Inak return True\n",
    "def normality_check(x):\n",
    "    s, p = stats.shapiro(x)\n",
    "    #print(p)\n",
    "    \n",
    "    if p > alpha:\n",
    "        return True\n",
    "    else:\n",
    "        return False\n",
    "\n",
    "# Student's T-test\n",
    "def t_test(a, b):\n",
    "    # compare samples\n",
    "    stat, p = stats.ttest_ind(a, b)\n",
    "\n",
    "    # interpret\n",
    "    if p > alpha:\n",
    "        print('Same distributions (fail to reject H0)')\n",
    "    else:\n",
    "        print('Different distributions (reject H0)')\n",
    "\n",
    "# Mann-Whitney U Test\n",
    "def m_test(a, b):\n",
    "    # compare samples\n",
    "    stat, p = stats.mannwhitneyu(a, b) \n",
    "\n",
    "    # interpret\n",
    "    if p > alpha:\n",
    "        print('Same distribution (fail to reject H0)') \n",
    "    else:\n",
    "        print('Different distribution (reject H0)')\n"
   ]
  },
  {
   "cell_type": "markdown",
   "metadata": {},
   "source": [
    "## 1. hypoteza  \n",
    "**H<sub>0</sub>**: Skewness glucose je rovnaka u ludi s cukrovkou ako u ludi bez cukrovky  \n",
    "**H<sub>1</sub>**: Skewness glucose je vyssia u ludi s cukrovkou ako u ludi bez cukrovky.  "
   ]
  },
  {
   "cell_type": "code",
   "execution_count": 275,
   "metadata": {},
   "outputs": [
    {
     "name": "stdout",
     "output_type": "stream",
     "text": [
      "skewness_glucose normality: \n"
     ]
    },
    {
     "data": {
      "text/plain": [
       "False"
      ]
     },
     "execution_count": 275,
     "metadata": {},
     "output_type": "execute_result"
    },
    {
     "data": {
      "text/plain": [
       "<AxesSubplot:xlabel='skewness_glucose', ylabel='Density'>"
      ]
     },
     "execution_count": 275,
     "metadata": {},
     "output_type": "execute_result"
    },
    {
     "data": {
      "image/png": "[encoded data removed]",
      "text/plain": [
       "<Figure size 432x288 with 1 Axes>"
      ]
     },
     "metadata": {
      "needs_background": "light"
     },
     "output_type": "display_data"
    }
   ],
   "source": [
    "# Zistime normalnost distribucie skewness glucose\n",
    "print(\"skewness_glucose normality: \")\n",
    "normality_check(df['skewness_glucose'].dropna())\n",
    "sns.kdeplot(df['skewness_glucose'])"
   ]
  },
  {
   "cell_type": "markdown",
   "metadata": {},
   "source": [
    "Z vysledkov vidime, ze skewness_glucose nema normalnu distribuciu, a teda nemozeme robit parametricky test.  \n",
    "Preto budeme robit Mann-Whitney U Test."
   ]
  },
  {
   "cell_type": "code",
   "execution_count": 313,
   "metadata": {},
   "outputs": [
    {
     "name": "stdout",
     "output_type": "stream",
     "text": [
      "Different distribution (reject H0)\n"
     ]
    },
    {
     "data": {
      "text/plain": [
       "<seaborn.axisgrid.FacetGrid at 0x7f1112e53c50>"
      ]
     },
     "execution_count": 313,
     "metadata": {},
     "output_type": "execute_result"
    },
    {
     "data": {
      "image/png": "[encoded data removed]",
      "text/plain": [
       "<Figure size 411.875x360 with 1 Axes>"
      ]
     },
     "metadata": {
      "needs_background": "light"
     },
     "output_type": "display_data"
    }
   ],
   "source": [
    "# we cant have null rows\n",
    "df_hyp_1 = df.dropna(subset=['skewness_glucose', 'class'], how='any')\n",
    "# we put positive cases into df_1_pos and negative to df_1_neg\n",
    "df_h1_pos = df_hyp_1.loc[df_hyp_1['class'] == 1.0]\n",
    "df_h1_neg = df_hyp_1.loc[df_hyp_1['class'] == 0.0]\n",
    "\n",
    "# we will perform Mann-Whitney U Test to know wether to reject or accept H0\n",
    "m_test(df_h1_pos['skewness_glucose'], df_h1_neg['skewness_glucose'])\n",
    "\n",
    "sns.displot(df_hyp_1, x='skewness_glucose', hue='class', bins = 15)"
   ]
  },
  {
   "cell_type": "markdown",
   "metadata": {},
   "source": [
    "Z vysledkov vidime ze nasa hypoteza **H<sub>0</sub> bola odmietnuta**. <br/> \n",
    "**Prijmame teda hypotezu H<sub>1</sub>**"
   ]
  },
  {
   "cell_type": "markdown",
   "metadata": {},
   "source": [
    "## 2. hypoteza  \n",
    "V tejto hypoteze sme sa chceli pozriet na to ci je pritomnost cukrovky ovplyvnena stresom. Pri rozmyslani nad tym, ktore subjekty su vystavovane vacsiemu stresu sme zistili, ze vplyvov na stres je ale vela a s datami ktore mame nevieme urcit ci su dane subjekty vystavovane stresu alebo nie.  \n",
    "Rozhodli sme sa teda zistit ci ma na pritomnost cukrovky vplyv aspon pocet odpracovanych hodin v tyzdni, ako jeden z moznych faktorov pre vznik stresu.  \n",
    "\n",
    "**H<sub>0</sub>**: Hours per week u ludi s cukrovkou je rovnaka ako u ludi bez cukrovky.  \n",
    "**H<sub>1</sub>**: Hours per week u ludi s cukrovkou je ina ako u ludi bez cukrovky.  "
   ]
  },
  {
   "cell_type": "code",
   "execution_count": 295,
   "metadata": {},
   "outputs": [
    {
     "name": "stdout",
     "output_type": "stream",
     "text": [
      "hours-per-week normality: \n"
     ]
    },
    {
     "data": {
      "text/plain": [
       "False"
      ]
     },
     "execution_count": 295,
     "metadata": {},
     "output_type": "execute_result"
    },
    {
     "data": {
      "text/plain": [
       "<AxesSubplot:xlabel='hours-per-week', ylabel='Density'>"
      ]
     },
     "execution_count": 295,
     "metadata": {},
     "output_type": "execute_result"
    },
    {
     "data": {
      "image/png": "[encoded data removed]",
      "text/plain": [
       "<Figure size 432x288 with 1 Axes>"
      ]
     },
     "metadata": {
      "needs_background": "light"
     },
     "output_type": "display_data"
    }
   ],
   "source": [
    "# Zistime normalnost distribucie hours per week\n",
    "print(\"hours-per-week normality: \")\n",
    "normality_check(df['hours-per-week'].dropna())\n",
    "sns.kdeplot(df['hours-per-week'])"
   ]
  },
  {
   "cell_type": "markdown",
   "metadata": {},
   "source": [
    "Z vysledkov vidime, ze hours-per-week nema normalnu distribuciu, a teda nemozeme robit parametricky test.  \n",
    "Preto budeme robit Mann-Whitney U Test."
   ]
  },
  {
   "cell_type": "code",
   "execution_count": 307,
   "metadata": {},
   "outputs": [
    {
     "name": "stdout",
     "output_type": "stream",
     "text": [
      "Same distribution (fail to reject H0)\n"
     ]
    }
   ],
   "source": [
    "# we cant have null rows\n",
    "df_hyp_2 = df.dropna(subset=['hours-per-week', 'class'], how='any')\n",
    "# we put positive cases into df_h2_pos and negative to df_h2_neg\n",
    "df_h2_pos = df_hyp_2.loc[df_hyp_2['class'] == 1.0]\n",
    "df_h2_neg = df_hyp_2.loc[df_hyp_2['class'] == 0.0]\n",
    "\n",
    "# we will perform Mann-Whitney U Test to know wether to reject or accept H0\n",
    "m_test(df_h2_pos['hours-per-week'], df_h2_neg['hours-per-week'])"
   ]
  },
  {
   "cell_type": "markdown",
   "metadata": {},
   "source": [
    "Z vysledku vidime, ze H<sub>0</sub> sa nam nerejectla.  \n",
    "**Preto v tomto pripade prijmame H<sub>0</sub>**. Vysledok tejto hypotezy je, ze pocet odpracovanych hodin nema vplyv na pritomnost cukrovy. Ako sme ale spominali na zaciatku tejto hypotezy, nevieme naisto urcit ci ani stres nema vplyv."
   ]
  },
  {
   "cell_type": "markdown",
   "metadata": {},
   "source": [
    "## 3. hypoteza  \n",
    "**H<sub>0</sub>**: Vek je u ludi s cukrovkou rovnaky ako u ludi bez cukrovky.  \n",
    "**H<sub>1</sub>**: Vek u ludi s cukrovkou nie je rovnaky ako u ludi bez cukrovky. "
   ]
  },
  {
   "cell_type": "code",
   "execution_count": 297,
   "metadata": {},
   "outputs": [
    {
     "name": "stdout",
     "output_type": "stream",
     "text": [
      "age normality: \n"
     ]
    },
    {
     "data": {
      "text/plain": [
       "False"
      ]
     },
     "execution_count": 297,
     "metadata": {},
     "output_type": "execute_result"
    },
    {
     "data": {
      "text/plain": [
       "<AxesSubplot:xlabel='age', ylabel='Density'>"
      ]
     },
     "execution_count": 297,
     "metadata": {},
     "output_type": "execute_result"
    },
    {
     "data": {
      "image/png": "[encoded data removed]",
      "text/plain": [
       "<Figure size 432x288 with 1 Axes>"
      ]
     },
     "metadata": {
      "needs_background": "light"
     },
     "output_type": "display_data"
    }
   ],
   "source": [
    "# Zistime normalnost distribucie age\n",
    "print(\"age normality: \")\n",
    "normality_check(df['age'].dropna())\n",
    "sns.kdeplot(df['age'])"
   ]
  },
  {
   "cell_type": "markdown",
   "metadata": {},
   "source": [
    "Z vysledkov vidime, ze vek nema normalnu distribuciu, a teda nemozeme robit parametricky test.  \n",
    "Preto budeme robit Mann-Whitney U Test."
   ]
  },
  {
   "cell_type": "code",
   "execution_count": 306,
   "metadata": {},
   "outputs": [
    {
     "name": "stdout",
     "output_type": "stream",
     "text": [
      "Different distribution (reject H0)\n"
     ]
    }
   ],
   "source": [
    "# we cant have null rows\n",
    "df_hyp_3 = df.dropna(subset=['age', 'class'], how='any')\n",
    "# we put positive cases into df_h3_pos and negative to df_h3_neg\n",
    "df_h3_pos = df_hyp_3.loc[df_hyp_3['class'] == 1.0]\n",
    "df_h3_neg = df_hyp_3.loc[df_hyp_3['class'] == 0.0]\n",
    "\n",
    "# we will perform Mann-Whitney U Test to know wether to reject or accept H0\n",
    "m_test(df_h2_pos['age'], df_h2_neg['age'])"
   ]
  },
  {
   "cell_type": "markdown",
   "metadata": {},
   "source": [
    "Z vysledku vidime, ze H<sub>0</sub> bol rejectnuty.  \n",
    "**Preto v tomto pripade prijmame H<sub>1</sub>**. Vek podla tohto testu ma vplyv na pritomnost cukrovky -> nie je rovnaky u ludi s cukrovkou a u ludi bez cukrovky."
   ]
  }
 ],
 "metadata": {
  "kernelspec": {
   "display_name": "Python 3",
   "language": "python",
   "name": "python3"
  },
  "language_info": {
   "codemirror_mode": {
    "name": "ipython",
    "version": 3
   },
   "file_extension": ".py",
   "mimetype": "text/x-python",
   "name": "python",
   "nbconvert_exporter": "python",
   "pygments_lexer": "ipython3",
   "version": "3.7.3"
  }
 },
 "nbformat": 4,
 "nbformat_minor": 4
}
