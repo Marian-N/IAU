{
 "cells": [
  {
   "cell_type": "code",
   "execution_count": 1531,
   "metadata": {},
   "outputs": [],
   "source": [
    "import pandas as pd\n",
    "import numpy as np\n",
    "import seaborn as sns\n",
    "import matplotlib.pyplot as plt\n",
    "import scipy.stats as stats\n",
    "import json\n",
    "import re\n",
    "from sklearn.preprocessing import StandardScaler\n",
    "from sklearn.impute import SimpleImputer, KNNImputer\n",
    "from IPython.core.interactiveshell import InteractiveShell\n",
    "from sklearn.pipeline import Pipeline\n",
    "from sklearn.preprocessing import FunctionTransformer\n",
    "InteractiveShell.ast_node_interactivity = \"all\""
   ]
  },
  {
   "cell_type": "code",
   "execution_count": 1456,
   "metadata": {},
   "outputs": [],
   "source": [
    "dfp = pd.read_csv('data-set/personal_valid.csv')\n",
    "dfo = pd.read_csv('data-set/other_valid.csv')\n",
    "dfp = dfp.rename(columns={'Unnamed: 0': 'ID'})\n",
    "dfo = dfo.rename(columns={'Unnamed: 0': 'ID'})\n",
    "pd.set_option('display.max_columns', 30)"
   ]
  },
  {
   "cell_type": "markdown",
   "metadata": {},
   "source": [
    "## Integrácia dát a deduplikácia záznamov"
   ]
  },
  {
   "cell_type": "markdown",
   "metadata": {},
   "source": [
    "Táto časť je skopírovaná z predchadzajúceho notebooku 'Prieskumná_analýza.ipynb'. Spojí dataset other a personal do jedného a následne odstráni duplikatne záznamy. "
   ]
  },
  {
   "cell_type": "code",
   "execution_count": 1457,
   "metadata": {},
   "outputs": [],
   "source": [
    "# merges duplicates\n",
    "def merge(name):\n",
    "    df = dfo_duplicates.loc[dfo_duplicates['name'] == name]\n",
    "    return df.groupby(['name'], as_index=False).first()\n",
    "\n",
    "def merge_other_personal(df):\n",
    "    dfo_duplicates = dfo[dfo.duplicated(['name'], keep=False)]\n",
    "    dfo_unique = dfo.drop_duplicates(subset=[\"name\"], keep=False)\n",
    "    merged = []\n",
    "\n",
    "    for name in dfo_duplicates['name'].unique():\n",
    "        merged.append(merge(name))\n",
    "\n",
    "    dfo_unique = dfo_unique.append(merged)\n",
    "\n",
    "    x = pd.merge(dfp, dfo_unique, on='name')\n",
    "    x = x.drop(columns=['address_y', 'ID_y'])\n",
    "    x = x.rename(columns={\"ID_x\": \"ID\", \"address_x\": \"address\"})\n",
    "    return x\n",
    "    \n",
    "df = merge_other_personal(df)"
   ]
  },
  {
   "cell_type": "markdown",
   "metadata": {},
   "source": [
    "Dalsia vec ktoru musime spravit, je rozbalenie medical info. Nachadza sa tu: kurtosis_oxygen, mean_oxygen, skewness_oxygen a std_oxygen. Tieto hodnoty su ulozene ako object (string), pre to ich budeme musiet previest na cislo."
   ]
  },
  {
   "cell_type": "code",
   "execution_count": 1458,
   "metadata": {},
   "outputs": [],
   "source": [
    "def unpack_medical(df):\n",
    "    x = df.copy()\n",
    "    for i, row in x.iterrows():\n",
    "        if not pd.isnull(x.at[i, 'medical_info']):\n",
    "            x.at[i, 'medical_info'] = json.loads(x[\"medical_info\"][i].replace(\"\\'\", \"\\\"\"))\n",
    "    # vytvorenie stlpcov z medical_info a ich spojenie so zvyskom dataframe\n",
    "    df_med_info = x[\"medical_info\"].apply(pd.Series)\n",
    "    df_med_info = df_med_info.drop(0, 1)\n",
    "    x = pd.concat([x, df_med_info], axis = 1).drop(\"medical_info\", axis = 1)\n",
    "    return x\n",
    "\n",
    "df = unpack_medical(df)"
   ]
  },
  {
   "cell_type": "markdown",
   "metadata": {},
   "source": [
    "Zmena kurtosis_oxygen, mean_oxygen, skewness_oxygen, std_oxygen z object na float"
   ]
  },
  {
   "cell_type": "code",
   "execution_count": 1459,
   "metadata": {},
   "outputs": [],
   "source": [
    "def obj_to_float(df):\n",
    "    x = df.copy()\n",
    "    # kurtosis_oxygen\n",
    "    x['kurtosis_oxygen'] = x['kurtosis_oxygen'].astype(np.float)\n",
    "    # mean_oxygen\n",
    "    x['mean_oxygen'] = x['mean_oxygen'].astype(np.float)\n",
    "    # skewness_oxygen\n",
    "    x['skewness_oxygen'] = x['skewness_oxygen'].astype(np.float)\n",
    "    # std_oxygen\n",
    "    x['std_oxygen'] = x['std_oxygen'].astype(np.float)\n",
    "    return x\n",
    "df = obj_to_float(df)"
   ]
  },
  {
   "cell_type": "markdown",
   "metadata": {},
   "source": [
    "Rozhodli sme sa dropnut niektore stlpce. Meno, ID, fnlwgt. Dovodom je, ze kazda z tychto hodnot je rozna a na vyskyt cukrovky nema vplyv.  \n",
    "Mame 2 udaje ktore nam ukazuju vek cloveka - age a date_of_birth. Kedze nemame ziadne nullove hodnoty pri age, nemusime podla datumu narodenia vek urcovat. Datum narodenia teda mozeme vyhodit"
   ]
  },
  {
   "cell_type": "code",
   "execution_count": 1460,
   "metadata": {},
   "outputs": [],
   "source": [
    "def remove_unimportant_columns(df):\n",
    "    x = df.copy()\n",
    "    x = x.drop(['ID', 'name', 'fnlwgt', 'date_of_birth'], axis=1)\n",
    "    return x\n",
    "df = remove_unimportant_columns(df)"
   ]
  },
  {
   "cell_type": "markdown",
   "metadata": {},
   "source": [
    "Odstranenie space-ov z nazvov atributov"
   ]
  },
  {
   "cell_type": "code",
   "execution_count": 1461,
   "metadata": {},
   "outputs": [],
   "source": [
    "def remove_space (df):\n",
    "    x = df.copy()\n",
    "    x = df.apply(lambda y: y.str.strip() if y.dtype == \"object\" else y)\n",
    "    return x\n",
    "\n",
    "df = remove_space(df)"
   ]
  },
  {
   "cell_type": "markdown",
   "metadata": {},
   "source": [
    "Nahradenie hodnot, ktore mozu nadobudat len 2 stavy"
   ]
  },
  {
   "cell_type": "code",
   "execution_count": 1462,
   "metadata": {},
   "outputs": [],
   "source": [
    "def put_0_1_values(df):\n",
    "    x = df.copy()\n",
    "    \n",
    "    # pohlavia: Male -> 1; Female -> 0\n",
    "    x['sex'] = x['sex'].replace('Male', 1)\n",
    "    x['sex'] = x['sex'].replace('Female', 0)\n",
    "    \n",
    "    # tehotnost: T -> 1; F -> 0\n",
    "    x['pregnant'] = x['pregnant'].replace(regex='(?i)f.*', value=0)\n",
    "    x['pregnant'] = x['pregnant'].replace(regex='(?i)t.*', value=1)\n",
    "    \n",
    "    # muzi oznaceni ako tehotny su prepisani na 0\n",
    "    x.loc[(x['pregnant'] == 1) & (x['sex'] == 1), 'pregnant'] = 0\n",
    "    \n",
    "    # zmena income hodnot: <=50K -> 0; >50K -> 1\n",
    "    x['income'] = x['income'].replace('<=50K', 0)\n",
    "    x['income'] = x['income'].replace('>50K', 1)\n",
    "    \n",
    "    # zmena nazvov stlpcov na presnejsie\n",
    "    x = x.rename(columns={\"pregnant\": \"is_pregnant\", \"income\": \"income_>50K\"})\n",
    "    \n",
    "    return x\n",
    "\n",
    "df = put_0_1_values(df)"
   ]
  },
  {
   "cell_type": "markdown",
   "metadata": {},
   "source": [
    "**Education a education-num**  \n",
    "Zistujeme, co znamena education a education num. Predpoklad je, ze education-num je numericka reprezentacia education"
   ]
  },
  {
   "cell_type": "code",
   "execution_count": 1463,
   "metadata": {},
   "outputs": [
    {
     "name": "stdout",
     "output_type": "stream",
     "text": [
      "Pred zjednotenim:\n",
      " ['Assoc-voc' 'Some-college' 'Assoc_voc' 'HS_grad' 'HS-grad' 'Bachelors'\n",
      " 'Assoc-acdm' 'Doctorate' 'Some_college' '10th' '7th-8th' 'Masters' '11th'\n",
      " '12th' 'Prof-school' '1st-4th' '5th-6th' '9th' '1st_4th' '7th_8th'\n",
      " 'Assoc_acdm' 'Prof_school' '5th_6th' 'Preschool']\n",
      "\n",
      "Po zjednoteni:\n",
      " ['Assoc-voc' 'Some-college' 'HS-grad' 'Bachelors' 'Assoc-acdm' 'Doctorate'\n",
      " '10th' '7th-8th' 'Masters' '11th' '12th' 'Prof-school' '1st-4th'\n",
      " '5th-6th' '9th' 'Preschool']\n",
      "\n",
      "Hodnoty v jednotlivych education:\n",
      "Assoc-voc [ 1100.    11.    nan -1100.]\n",
      "Some-college [   10.    nan  1000. -1000.]\n",
      "HS-grad [   9.   nan  900. -900.]\n",
      "Bachelors [   13. -1300.  1300.    nan]\n",
      "Assoc-acdm [   12. -1200.    nan  1200.]\n",
      "Doctorate [   16. -1600.    nan]\n",
      "10th [   6.  600.   nan -600.]\n",
      "7th-8th [   4.   nan -400.  400.]\n",
      "Masters [   14.    nan -1400.  1400.]\n",
      "11th [   7.  700. -700.   nan]\n",
      "12th [800.  nan   8.]\n",
      "Prof-school [15.]\n",
      "1st-4th [ 2. nan]\n",
      "5th-6th [  3. 300.]\n",
      "9th [5.]\n",
      "Preschool [1.]\n"
     ]
    }
   ],
   "source": [
    "def education_analysis(df):\n",
    "    # prints unique values in education\n",
    "    x = df.copy()\n",
    "    unique_edu = pd.unique(x['education'])\n",
    "    print(\"Pred zjednotenim:\\n\", unique_edu)\n",
    "    \n",
    "    # Zjednotenie reprezentacii\n",
    "    x['education'] = x['education'].replace(regex='(?i)_', value='-')\n",
    "    unique_edu = pd.unique(x['education'])\n",
    "    print(\"\\nPo zjednoteni:\\n\", unique_edu)\n",
    "    \n",
    "    # hodnoty v education-num a v education\n",
    "    print(\"\\nHodnoty v jednotlivych education:\")\n",
    "    for item in unique_edu:\n",
    "        edu_num = x.query(\"education == @item\")[\"education-num\"].unique()\n",
    "        print(item, edu_num)\n",
    "\n",
    "education_analysis(df)"
   ]
  },
  {
   "cell_type": "markdown",
   "metadata": {},
   "source": [
    "Vidime ze education-num je ciselna reprezentacia education. Vytvorime si dictionary, ktory bude priradovat education ku education-num, s tym ze nechame celociselne reprezentacie od 1 po 16."
   ]
  },
  {
   "cell_type": "code",
   "execution_count": 1464,
   "metadata": {},
   "outputs": [],
   "source": [
    "#vrati unikatne hodnoty v stlpci education\n",
    "def get_unique_edu(df):\n",
    "    x = df.copy()\n",
    "    x['education'] = x['education'].replace(regex='(?i)_', value='-')\n",
    "    unique_edu = pd.unique(x['education'])\n",
    "    return unique_edu\n",
    "\n",
    "# rozne hodnoty education-num pre unikatny education zmeni na jedno (napr.: 5th-6th [  3. 300.] -> 3)\n",
    "def get_edu_num(edu_num):\n",
    "    for num in edu_num:\n",
    "        if num is None:\n",
    "            continue\n",
    "        elif num < 100:\n",
    "            return int(num)\n",
    "\n",
    "def transform_education(df):\n",
    "    x = df.copy()\n",
    "    edu_to_num = {}\n",
    "    #vytvorenie dictionary s moznymi hodnotami v jendotlivych education values\n",
    "    for item in get_unique_edu(x):\n",
    "        edu_num = x.query(\"education == @item\")[\"education-num\"].unique()\n",
    "        edu_to_num[item] = get_edu_num(edu_num)\n",
    "    \n",
    "    # zmena moznych hodnot v education na rovnake\n",
    "    x['education'] = x['education'].replace(regex='(?i)_', value='-')\n",
    "\n",
    "    # namapuje nazvy education na cisla z dictionary\n",
    "    x[\"education\"] = x[\"education\"].map(edu_to_num)\n",
    "    \n",
    "    # Dropne nepotrebny column education-num (bol nahradeny)\n",
    "    x = x.drop(['education-num'], axis=1)\n",
    "    return x\n",
    "    \n",
    "df = transform_education(df)"
   ]
  },
  {
   "cell_type": "markdown",
   "metadata": {},
   "source": [
    "Cele adresy nam netreba pretoze "
   ]
  },
  {
   "cell_type": "code",
   "execution_count": 1465,
   "metadata": {},
   "outputs": [],
   "source": [
    "def find_state(address):\n",
    "    i = re.search('\\x5cn.+\\D', address)\n",
    "    return address[i.start():i.end()][-3:-1]\n",
    "    #return address[-8:][:2]\n",
    "\n",
    "def address_to_state(df):\n",
    "    x = df.copy()\n",
    "    x['address'] = x['address'].apply(find_state)\n",
    "    x = x.rename(columns={\"address\": \"state\"})\n",
    "    return x\n",
    "\n",
    "df = address_to_state(df)"
   ]
  },
  {
   "cell_type": "markdown",
   "metadata": {},
   "source": [
    "Otazniky zmenime na NaN "
   ]
  },
  {
   "cell_type": "code",
   "execution_count": 1466,
   "metadata": {},
   "outputs": [],
   "source": [
    "def replace_with_nan(df):\n",
    "    x = df.copy()\n",
    "    x = x.replace(['??', '?'], np.nan)\n",
    "    return x\n",
    "df = replace_with_nan(df)"
   ]
  },
  {
   "cell_type": "markdown",
   "metadata": {},
   "source": [
    "Zjednotime hodnoty vo workclass (local-gov a Local-gov)"
   ]
  },
  {
   "cell_type": "code",
   "execution_count": 1507,
   "metadata": {},
   "outputs": [
    {
     "data": {
      "text/plain": [
       "array(['private', 'local-gov', nan, 'self-emp-not-inc', 'state-gov',\n",
       "       'federal-gov', 'self-emp-inc'], dtype=object)"
      ]
     },
     "execution_count": 1507,
     "metadata": {},
     "output_type": "execute_result"
    }
   ],
   "source": [
    "def transform_workclass(df):\n",
    "    x = df.copy()\n",
    "    x['workclass'] = x['workclass'].str.lower()\n",
    "    return x\n",
    "df = transform_workclass(df)"
   ]
  },
  {
   "cell_type": "markdown",
   "metadata": {},
   "source": [
    "Vytvorenie funkcie spajajucej integraciu dat do jednej"
   ]
  },
  {
   "cell_type": "code",
   "execution_count": null,
   "metadata": {},
   "outputs": [],
   "source": []
  },
  {
   "cell_type": "markdown",
   "metadata": {},
   "source": [
    "### Zmena na ciselne hodnoty"
   ]
  },
  {
   "cell_type": "code",
   "execution_count": null,
   "metadata": {},
   "outputs": [],
   "source": []
  },
  {
   "cell_type": "markdown",
   "metadata": {},
   "source": [
    "## Chybajuce hodnoty a outliers"
   ]
  },
  {
   "cell_type": "markdown",
   "metadata": {},
   "source": [
    "### Chybajuce hodnoty"
   ]
  },
  {
   "cell_type": "markdown",
   "metadata": {},
   "source": [
    "Rozdelime si hodnoty na strings a numericke"
   ]
  },
  {
   "cell_type": "code",
   "execution_count": 1573,
   "metadata": {},
   "outputs": [],
   "source": [
    "def separate_by_dtype(df):\n",
    "    df_num = pd.DataFrame()\n",
    "    df_str = pd.DataFrame()\n",
    "\n",
    "    for col in df:\n",
    "        if df[col].dtypes in ['float64', 'int64']:\n",
    "            df_num[col] = df[col]\n",
    "        else:\n",
    "            df_str[col] = df[col]\n",
    "    \n",
    "    return df_num, df_str"
   ]
  },
  {
   "cell_type": "code",
   "execution_count": 1571,
   "metadata": {},
   "outputs": [],
   "source": [
    "def replace_missing_strings(df):\n",
    "        x = df.copy()\n",
    "        x = SimpleImputer(strategy=\"most_frequent\").fit_transform(x)\n",
    "        \n",
    "        x = pd.DataFrame(x)\n",
    "        x.columns = df.columns\n",
    "        x.index = df.index\n",
    "        \n",
    "        return x\n",
    "\n",
    "def replace_missing_numbers(df, strat='median'):\n",
    "    x = df.copy()\n",
    "    \n",
    "    if strat in ['mean', 'median']:\n",
    "        imp = SimpleImputer(strategy=strat)\n",
    "    else:\n",
    "        imp = KNNImputer()\n",
    "    x = imp.fit_transform(x)\n",
    "    \n",
    "    x = pd.DataFrame(x)\n",
    "    x.columns = df.columns\n",
    "    x.index = df.index\n",
    "    \n",
    "    x['class'] = x['class'].round()\n",
    "    x['income_>50K'] = x['income_>50K'].round()\n",
    "    \n",
    "    return x"
   ]
  },
  {
   "cell_type": "code",
   "execution_count": null,
   "metadata": {},
   "outputs": [],
   "source": [
    "def replace_missing_values(df, strat='median'):\n",
    "    df_num, df_str = separate_by_dtype(df)\n",
    "    \n",
    "    df_str = replace_missing_strings(df_str)\n",
    "    df_num = replace_missing_numbers(df_num, strat)\n",
    "    \n",
    "    x = pd.concat([df_str, df_num], axis=1, sort=False)"
   ]
  },
  {
   "cell_type": "code",
   "execution_count": 1559,
   "metadata": {},
   "outputs": [
    {
     "name": "stdout",
     "output_type": "stream",
     "text": [
      "<class 'pandas.core.frame.DataFrame'>\n",
      "Int64Index: 1311 entries, 0 to 1310\n",
      "Data columns (total 17 columns):\n",
      " #   Column            Non-Null Count  Dtype  \n",
      "---  ------            --------------  -----  \n",
      " 0   age               1311 non-null   int64  \n",
      " 1   sex               1311 non-null   int64  \n",
      " 2   is_pregnant       1311 non-null   int64  \n",
      " 3   skewness_glucose  1310 non-null   float64\n",
      " 4   mean_glucose      1311 non-null   float64\n",
      " 5   capital-gain      1308 non-null   float64\n",
      " 6   kurtosis_glucose  1311 non-null   float64\n",
      " 7   education         1311 non-null   int64  \n",
      " 8   class             1310 non-null   float64\n",
      " 9   std_glucose       1310 non-null   float64\n",
      " 10  income_>50K       1310 non-null   float64\n",
      " 11  hours-per-week    1311 non-null   float64\n",
      " 12  capital-loss      1311 non-null   float64\n",
      " 13  kurtosis_oxygen   1310 non-null   float64\n",
      " 14  mean_oxygen       1310 non-null   float64\n",
      " 15  skewness_oxygen   1310 non-null   float64\n",
      " 16  std_oxygen        1310 non-null   float64\n",
      "dtypes: float64(13), int64(4)\n",
      "memory usage: 224.4 KB\n"
     ]
    }
   ],
   "source": [
    "df_num.info()"
   ]
  },
  {
   "cell_type": "markdown",
   "metadata": {},
   "source": [
    "### Outliers"
   ]
  },
  {
   "cell_type": "code",
   "execution_count": null,
   "metadata": {},
   "outputs": [],
   "source": []
  },
  {
   "cell_type": "markdown",
   "metadata": {},
   "source": [
    "### Pipeline"
   ]
  },
  {
   "cell_type": "code",
   "execution_count": 1470,
   "metadata": {},
   "outputs": [],
   "source": [
    "# pipeline = Pipeline([\n",
    "#     ('test', FunctionTransformer(\n",
    "#         func=put_0_1_values                        # function to be used\n",
    "#         )) # parameters to the function\n",
    "# ])\n",
    "# df = pipeline.fit_transform(df)\n",
    "# df"
   ]
  },
  {
   "cell_type": "code",
   "execution_count": null,
   "metadata": {},
   "outputs": [],
   "source": []
  }
 ],
 "metadata": {
  "kernelspec": {
   "display_name": "Python 3",
   "language": "python",
   "name": "python3"
  },
  "language_info": {
   "codemirror_mode": {
    "name": "ipython",
    "version": 3
   },
   "file_extension": ".py",
   "mimetype": "text/x-python",
   "name": "python",
   "nbconvert_exporter": "python",
   "pygments_lexer": "ipython3",
   "version": "3.7.3"
  }
 },
 "nbformat": 4,
 "nbformat_minor": 4
}
