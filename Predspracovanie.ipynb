{
 "cells": [
  {
   "cell_type": "code",
   "execution_count": 1421,
   "metadata": {},
   "outputs": [],
   "source": [
    "import pandas as pd\n",
    "import numpy as np\n",
    "import seaborn as sns\n",
    "import matplotlib.pyplot as plt\n",
    "import scipy.stats as stats\n",
    "import json\n",
    "import re\n",
    "from sklearn.preprocessing import StandardScaler\n",
    "from IPython.core.interactiveshell import InteractiveShell\n",
    "from sklearn.pipeline import Pipeline\n",
    "from sklearn.preprocessing import FunctionTransformer\n",
    "InteractiveShell.ast_node_interactivity = \"all\"\n",
    "standard_X = StandardScaler()"
   ]
  },
  {
   "cell_type": "code",
   "execution_count": 1422,
   "metadata": {},
   "outputs": [],
   "source": [
    "dfp = pd.read_csv('data-set/personal_valid.csv')\n",
    "dfo = pd.read_csv('data-set/other_valid.csv')\n",
    "dfp = dfp.rename(columns={'Unnamed: 0': 'ID'})\n",
    "dfo = dfo.rename(columns={'Unnamed: 0': 'ID'})\n",
    "pd.set_option('display.max_columns', 30)"
   ]
  },
  {
   "cell_type": "markdown",
   "metadata": {},
   "source": [
    "## Integrácia dát a deduplikácia záznamov"
   ]
  },
  {
   "cell_type": "markdown",
   "metadata": {},
   "source": [
    "Táto časť je skopírovaná z predchadzajúceho notebooku 'Prieskumná_analýza.ipynb'. Spojí dataset other a personal do jedného a následne odstráni duplikatne záznamy. "
   ]
  },
  {
   "cell_type": "code",
   "execution_count": 1423,
   "metadata": {},
   "outputs": [
    {
     "ename": "AttributeError",
     "evalue": "'NoneType' object has no attribute 'copy'",
     "output_type": "error",
     "traceback": [
      "\u001b[0;31m---------------------------------------------------------------------------\u001b[0m",
      "\u001b[0;31mAttributeError\u001b[0m                            Traceback (most recent call last)",
      "\u001b[0;32m<ipython-input-1423-ffc83d935917>\u001b[0m in \u001b[0;36m<module>\u001b[0;34m\u001b[0m\n\u001b[1;32m     21\u001b[0m     \u001b[0;32mreturn\u001b[0m \u001b[0mx\u001b[0m\u001b[0;34m\u001b[0m\u001b[0;34m\u001b[0m\u001b[0m\n\u001b[1;32m     22\u001b[0m \u001b[0;34m\u001b[0m\u001b[0m\n\u001b[0;32m---> 23\u001b[0;31m \u001b[0mdf\u001b[0m \u001b[0;34m=\u001b[0m \u001b[0mmerge_other_personal\u001b[0m\u001b[0;34m(\u001b[0m\u001b[0mdf\u001b[0m\u001b[0;34m)\u001b[0m\u001b[0;34m\u001b[0m\u001b[0;34m\u001b[0m\u001b[0m\n\u001b[0m",
      "\u001b[0;32m<ipython-input-1423-ffc83d935917>\u001b[0m in \u001b[0;36mmerge_other_personal\u001b[0;34m(df)\u001b[0m\n\u001b[1;32m      5\u001b[0m \u001b[0;34m\u001b[0m\u001b[0m\n\u001b[1;32m      6\u001b[0m \u001b[0;32mdef\u001b[0m \u001b[0mmerge_other_personal\u001b[0m\u001b[0;34m(\u001b[0m\u001b[0mdf\u001b[0m\u001b[0;34m)\u001b[0m\u001b[0;34m:\u001b[0m\u001b[0;34m\u001b[0m\u001b[0;34m\u001b[0m\u001b[0m\n\u001b[0;32m----> 7\u001b[0;31m     \u001b[0mx\u001b[0m \u001b[0;34m=\u001b[0m \u001b[0mdf\u001b[0m\u001b[0;34m.\u001b[0m\u001b[0mcopy\u001b[0m\u001b[0;34m(\u001b[0m\u001b[0;34m)\u001b[0m\u001b[0;34m\u001b[0m\u001b[0;34m\u001b[0m\u001b[0m\n\u001b[0m\u001b[1;32m      8\u001b[0m \u001b[0;34m\u001b[0m\u001b[0m\n\u001b[1;32m      9\u001b[0m     \u001b[0mdfo_duplicates\u001b[0m \u001b[0;34m=\u001b[0m \u001b[0mdfo\u001b[0m\u001b[0;34m[\u001b[0m\u001b[0mdfo\u001b[0m\u001b[0;34m.\u001b[0m\u001b[0mduplicated\u001b[0m\u001b[0;34m(\u001b[0m\u001b[0;34m[\u001b[0m\u001b[0;34m'name'\u001b[0m\u001b[0;34m]\u001b[0m\u001b[0;34m,\u001b[0m \u001b[0mkeep\u001b[0m\u001b[0;34m=\u001b[0m\u001b[0;32mFalse\u001b[0m\u001b[0;34m)\u001b[0m\u001b[0;34m]\u001b[0m\u001b[0;34m\u001b[0m\u001b[0;34m\u001b[0m\u001b[0m\n",
      "\u001b[0;31mAttributeError\u001b[0m: 'NoneType' object has no attribute 'copy'"
     ]
    }
   ],
   "source": [
    "# merges duplicates\n",
    "def merge(name):\n",
    "    df = dfo_duplicates.loc[dfo_duplicates['name'] == name]\n",
    "    return df.groupby(['name'], as_index=False).first()\n",
    "\n",
    "def merge_other_personal(df):\n",
    "    x = df.copy()\n",
    "\n",
    "    dfo_duplicates = dfo[dfo.duplicated(['name'], keep=False)]\n",
    "    dfo_unique = dfo.drop_duplicates(subset=[\"name\"], keep=False)\n",
    "    merged = []\n",
    "\n",
    "    for name in dfo_duplicates['name'].unique():\n",
    "        merged.append(merge(name))\n",
    "\n",
    "    dfo_unique = dfo_unique.append(merged)\n",
    "\n",
    "    x = pd.merge(dfp, dfo_unique, on='name')\n",
    "    x = x.drop(columns=['address_y', 'ID_y'])\n",
    "    x = x.rename(columns={\"ID_x\": \"ID\", \"address_x\": \"address\"})\n",
    "    return x\n",
    "    \n",
    "df = merge_other_personal(df)"
   ]
  },
  {
   "cell_type": "markdown",
   "metadata": {},
   "source": [
    "Dalsia vec ktoru musime spravit, je rozbalenie medical info. Nachadza sa tu: kurtosis_oxygen, mean_oxygen, skewness_oxygen a std_oxygen. Tieto hodnoty su ulozene ako object (string), pre to ich budeme musiet previest na cislo."
   ]
  },
  {
   "cell_type": "code",
   "execution_count": null,
   "metadata": {},
   "outputs": [],
   "source": [
    "def unpack_medical(df):\n",
    "    x = df.copy()\n",
    "    for i, row in x.iterrows():\n",
    "        if not pd.isnull(x.at[i, 'medical_info']):\n",
    "            x.at[i, 'medical_info'] = json.loads(x[\"medical_info\"][i].replace(\"\\'\", \"\\\"\"))\n",
    "    # vytvorenie stlpcov z medical_info a ich spojenie so zvyskom dataframe\n",
    "    df_med_info = x[\"medical_info\"].apply(pd.Series)\n",
    "    df_med_info = df_med_info.drop(0, 1)\n",
    "    x = pd.concat([x, df_med_info], axis = 1).drop(\"medical_info\", axis = 1)\n",
    "    return x\n",
    "\n",
    "df = unpack_medical(df)"
   ]
  },
  {
   "cell_type": "markdown",
   "metadata": {},
   "source": [
    "Zmena kurtosis_oxygen, mean_oxygen, skewness_oxygen, std_oxygen z object na float"
   ]
  },
  {
   "cell_type": "code",
   "execution_count": null,
   "metadata": {},
   "outputs": [],
   "source": [
    "def obj_to_float(df):\n",
    "    x = df.copy()\n",
    "    # kurtosis_oxygen\n",
    "    x['kurtosis_oxygen'] = x['kurtosis_oxygen'].astype(np.float)\n",
    "    # mean_oxygen\n",
    "    x['mean_oxygen'] = x['mean_oxygen'].astype(np.float)\n",
    "    # skewness_oxygen\n",
    "    x['skewness_oxygen'] = x['skewness_oxygen'].astype(np.float)\n",
    "    # std_oxygen\n",
    "    x['std_oxygen'] = x['std_oxygen'].astype(np.float)\n",
    "    return x\n",
    "df = obj_to_float(df)"
   ]
  },
  {
   "cell_type": "markdown",
   "metadata": {},
   "source": [
    "Rozhodli sme sa dropnut niektore stlpce. Meno, ID, fnlwgt. Dovodom je, ze kazda z tychto hodnot je rozna a na vyskyt cukrovky nema vplyv.  \n",
    "Mame 2 udaje ktore nam ukazuju vek cloveka - age a date_of_birth. Kedze nemame ziadne nullove hodnoty pri age, nemusime podla datumu narodenia vek urcovat. Datum narodenia teda mozeme vyhodit"
   ]
  },
  {
   "cell_type": "code",
   "execution_count": null,
   "metadata": {},
   "outputs": [],
   "source": [
    "def remove_unimportant_columns(df):\n",
    "    x = df.copy()\n",
    "    x = x.drop(['ID', 'name', 'fnlwgt', 'date_of_birth'], axis=1)\n",
    "    return x\n",
    "df = remove_unimportant_columns(df)"
   ]
  },
  {
   "cell_type": "markdown",
   "metadata": {},
   "source": [
    "Odstranenie space-ov z nazvov atributov"
   ]
  },
  {
   "cell_type": "code",
   "execution_count": null,
   "metadata": {},
   "outputs": [],
   "source": [
    "def remove_space (df):\n",
    "    x = df.copy()\n",
    "    x = df.apply(lambda y: y.str.strip() if y.dtype == \"object\" else y)\n",
    "    return x\n",
    "\n",
    "df = remove_space(df)"
   ]
  },
  {
   "cell_type": "markdown",
   "metadata": {},
   "source": [
    "Nahradenie hodnot, ktore mozu nadobudat len 2 stavy"
   ]
  },
  {
   "cell_type": "code",
   "execution_count": null,
   "metadata": {},
   "outputs": [],
   "source": [
    "def put_0_1_values(df):\n",
    "    x = df.copy()\n",
    "    \n",
    "    # pohlavia: Male -> 1; Female -> 0\n",
    "    x['sex'] = x['sex'].replace('Male', 1)\n",
    "    x['sex'] = x['sex'].replace('Female', 0)\n",
    "    \n",
    "    # tehotnost: T -> 1; F -> 0\n",
    "    x['pregnant'] = x['pregnant'].replace(regex='(?i)f.*', value=0)\n",
    "    x['pregnant'] = x['pregnant'].replace(regex='(?i)t.*', value=1)\n",
    "    \n",
    "    # muzi oznaceni ako tehotny su prepisani na 0\n",
    "    x.loc[(x['pregnant'] == 1) & (x['sex'] == 1), 'pregnant'] = 0\n",
    "    \n",
    "    # zmena income hodnot: <=50K -> 0; >50K -> 1\n",
    "    x['income'] = x['income'].replace('<=50K', 0)\n",
    "    x['income'] = x['income'].replace('>50K', 1)\n",
    "    \n",
    "    # zmena nazvov stlpcov na presnejsie\n",
    "    x = x.rename(columns={\"pregnant\": \"is_pregnant\", \"income\": \"income_>50K\"})\n",
    "    \n",
    "    return x\n",
    "\n",
    "df = put_0_1_values(df)"
   ]
  },
  {
   "cell_type": "markdown",
   "metadata": {},
   "source": [
    "**Education a education-num**  \n",
    "Zistujeme, co znamena education a education num. Predpoklad je, ze education-num je numericka reprezentacia education"
   ]
  },
  {
   "cell_type": "code",
   "execution_count": null,
   "metadata": {},
   "outputs": [],
   "source": [
    "def education_analysis(df):\n",
    "    # prints unique values in education\n",
    "    x = df.copy()\n",
    "    unique_edu = pd.unique(x['education'])\n",
    "    print(\"Pred zjednotenim:\\n\", unique_edu)\n",
    "    \n",
    "    # Zjednotenie reprezentacii\n",
    "    x['education'] = x['education'].replace(regex='(?i)_', value='-')\n",
    "    unique_edu = pd.unique(x['education'])\n",
    "    print(\"\\nPo zjednoteni:\\n\", unique_edu)\n",
    "    \n",
    "    # hodnoty v education-num a v education\n",
    "    print(\"\\nHodnoty v jednotlivych education:\")\n",
    "    for item in unique_edu:\n",
    "        edu_num = x.query(\"education == @item\")[\"education-num\"].unique()\n",
    "        print(item, edu_num)\n",
    "\n",
    "education_analysis(df)"
   ]
  },
  {
   "cell_type": "markdown",
   "metadata": {},
   "source": [
    "Vidime ze education-num je ciselna reprezentacia education. Vytvorime si dictionary, ktory bude priradovat education ku education-num, s tym ze nechame celociselne reprezentacie od 1 po 16."
   ]
  },
  {
   "cell_type": "code",
   "execution_count": null,
   "metadata": {},
   "outputs": [],
   "source": [
    "#vrati unikatne hodnoty v stlpci education\n",
    "def get_unique_edu(df):\n",
    "    x = df.copy()\n",
    "    x['education'] = x['education'].replace(regex='(?i)_', value='-')\n",
    "    unique_edu = pd.unique(x['education'])\n",
    "    return unique_edu\n",
    "\n",
    "# rozne hodnoty education-num pre unikatny education zmeni na jedno (napr.: 5th-6th [  3. 300.] -> 3)\n",
    "def get_edu_num(edu_num):\n",
    "    for num in edu_num:\n",
    "        if num is None:\n",
    "            continue\n",
    "        elif num < 100:\n",
    "            return int(num)\n",
    "\n",
    "def transform_education(df):\n",
    "    x = df.copy()\n",
    "    edu_to_num = {}\n",
    "    #vytvorenie dictionary s moznymi hodnotami v jendotlivych education values\n",
    "    for item in get_unique_edu(x):\n",
    "        edu_num = x.query(\"education == @item\")[\"education-num\"].unique()\n",
    "        edu_to_num[item] = get_edu_num(edu_num)\n",
    "    \n",
    "    # zmena moznych hodnot v education na rovnake\n",
    "    x['education'] = x['education'].replace(regex='(?i)_', value='-')\n",
    "\n",
    "    # namapuje nazvy education na cisla z dictionary\n",
    "    x[\"education\"] = x[\"education\"].map(edu_to_num)\n",
    "    \n",
    "    # Dropne nepotrebny column education-num (bol nahradeny)\n",
    "    x = x.drop(['education-num'], axis=1)\n",
    "    return x\n",
    "    \n",
    "df = transform_education(df)"
   ]
  },
  {
   "cell_type": "markdown",
   "metadata": {},
   "source": [
    "Cele adresy nam netreba pretoze "
   ]
  },
  {
   "cell_type": "code",
   "execution_count": null,
   "metadata": {},
   "outputs": [],
   "source": [
    "def find_state(address):\n",
    "    i = re.search('\\x5cn.+\\D', address)\n",
    "    return address[i.start():i.end()][-3:-1]\n",
    "    #return address[-8:][:2]\n",
    "\n",
    "def address_to_state(df):\n",
    "    x = df.copy()\n",
    "    x['address'] = x['address'].apply(find_state)\n",
    "    x = x.rename(columns={\"address\": \"state\"})\n",
    "    return x\n",
    "\n",
    "df = address_to_state(df)"
   ]
  },
  {
   "cell_type": "markdown",
   "metadata": {},
   "source": [
    "Otazniky zmenime na NaN "
   ]
  },
  {
   "cell_type": "code",
   "execution_count": null,
   "metadata": {},
   "outputs": [],
   "source": [
    "def replace_with_nan(df):\n",
    "    df.replace(['??', '?'], np.nan)\n",
    "    \n",
    "df = replace_with_nan(df)"
   ]
  },
  {
   "cell_type": "code",
   "execution_count": null,
   "metadata": {},
   "outputs": [],
   "source": [
    "df"
   ]
  },
  {
   "cell_type": "markdown",
   "metadata": {},
   "source": [
    "Income vieme zmenit na 2 hodnoty: <=50K = 0; >50K = 1. Mame jednu hodnotu NaN a nevieme ju predikovat."
   ]
  },
  {
   "cell_type": "code",
   "execution_count": null,
   "metadata": {},
   "outputs": [],
   "source": [
    "# df['income'].unique()\n",
    "# df_null = df[df['income'].isnull()]\n",
    "# df_null\n",
    "# df_tetst = df.loc[df['occupation'] == 'Sales']\n",
    "# df_tetst = df_tetst.loc[df_tetst['hours-per-week'] > 45.0]\n",
    "# df_tetst[['age', 'sex', 'race', 'marital-status', 'occupation', 'income', 'hours-per-week', 'education', 'workclass', 'relationship']]"
   ]
  },
  {
   "cell_type": "code",
   "execution_count": null,
   "metadata": {},
   "outputs": [],
   "source": [
    "# df['workclass'].unique()"
   ]
  },
  {
   "cell_type": "code",
   "execution_count": null,
   "metadata": {
    "scrolled": true
   },
   "outputs": [],
   "source": [
    "# df.loc[df['native-country'] == '?'][['address', 'native-country']]"
   ]
  },
  {
   "cell_type": "markdown",
   "metadata": {},
   "source": [
    "### Zmena na ciselne hodnoty"
   ]
  },
  {
   "cell_type": "code",
   "execution_count": null,
   "metadata": {},
   "outputs": [],
   "source": []
  },
  {
   "cell_type": "markdown",
   "metadata": {},
   "source": [
    "## Chybajuce hodnoty a outliers"
   ]
  },
  {
   "cell_type": "markdown",
   "metadata": {},
   "source": [
    "### Chybajuce hodnoty"
   ]
  },
  {
   "cell_type": "code",
   "execution_count": null,
   "metadata": {},
   "outputs": [],
   "source": []
  },
  {
   "cell_type": "markdown",
   "metadata": {},
   "source": [
    "### Outliers"
   ]
  },
  {
   "cell_type": "code",
   "execution_count": null,
   "metadata": {},
   "outputs": [],
   "source": []
  },
  {
   "cell_type": "markdown",
   "metadata": {},
   "source": [
    "### Pipeline"
   ]
  },
  {
   "cell_type": "code",
   "execution_count": null,
   "metadata": {},
   "outputs": [],
   "source": [
    "# pipeline = Pipeline([\n",
    "#     ('test', FunctionTransformer(\n",
    "#         func=put_0_1_values                        # function to be used\n",
    "#         )) # parameters to the function\n",
    "# ])\n",
    "# df = pipeline.fit_transform(df)\n",
    "# df"
   ]
  },
  {
   "cell_type": "code",
   "execution_count": null,
   "metadata": {},
   "outputs": [],
   "source": []
  }
 ],
 "metadata": {
  "kernelspec": {
   "display_name": "Python 3",
   "language": "python",
   "name": "python3"
  },
  "language_info": {
   "codemirror_mode": {
    "name": "ipython",
    "version": 3
   },
   "file_extension": ".py",
   "mimetype": "text/x-python",
   "name": "python",
   "nbconvert_exporter": "python",
   "pygments_lexer": "ipython3",
   "version": "3.7.3"
  }
 },
 "nbformat": 4,
 "nbformat_minor": 4
}
