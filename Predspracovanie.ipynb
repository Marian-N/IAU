{
 "cells": [
  {
   "cell_type": "code",
   "execution_count": 373,
   "metadata": {},
   "outputs": [],
   "source": [
    "import pandas as pd\n",
    "import numpy as np\n",
    "import seaborn as sns\n",
    "import matplotlib.pyplot as plt\n",
    "import scipy.stats as stats\n",
    "import json\n",
    "from sklearn.preprocessing import StandardScaler\n",
    "from IPython.core.interactiveshell import InteractiveShell\n",
    "InteractiveShell.ast_node_interactivity = \"all\""
   ]
  },
  {
   "cell_type": "code",
   "execution_count": 467,
   "metadata": {},
   "outputs": [],
   "source": [
    "dfp = pd.read_csv('data-set/personal_valid.csv')\n",
    "dfo = pd.read_csv('data-set/other_valid.csv')\n",
    "dfp = dfp.rename(columns={'Unnamed: 0': 'ID'})\n",
    "dfo = dfo.rename(columns={'Unnamed: 0': 'ID'})"
   ]
  },
  {
   "cell_type": "markdown",
   "metadata": {},
   "source": [
    "Táto časť je skopírovaná z predchadzajúceho notebooku 'Prieskumná_analýza.ipynb'. Spojí dataset other a personal do jedného."
   ]
  },
  {
   "cell_type": "code",
   "execution_count": 468,
   "metadata": {},
   "outputs": [],
   "source": [
    "# merges duplicates\n",
    "def merge(name):\n",
    "    df = dfo_duplicates.loc[dfo_duplicates['name'] == name]\n",
    "    return df.groupby(['name'], as_index=False).first()\n",
    "\n",
    "dfo_duplicates = dfo[dfo.duplicated(['name'], keep=False)]\n",
    "dfo_unique = dfo.drop_duplicates(subset=[\"name\"], keep=False)\n",
    "merged = []\n",
    "\n",
    "for name in dfo_duplicates['name'].unique():\n",
    "    merged.append(merge(name))\n",
    "    \n",
    "dfo_unique = dfo_unique.append(merged)\n",
    "\n",
    "df = pd.merge(dfp, dfo_unique, on='name')\n",
    "df = df.drop(columns=['address_y', 'ID_y'])\n",
    "df = df.rename(columns={\"ID_x\": \"ID\", \"address_x\": \"address\"})"
   ]
  },
  {
   "cell_type": "markdown",
   "metadata": {},
   "source": [
    "Pridame nove stlpce na rozbalenie hodnot v medical_info."
   ]
  },
  {
   "cell_type": "code",
   "execution_count": 469,
   "metadata": {},
   "outputs": [],
   "source": [
    "for i, row in df.iterrows():\n",
    "    if not pd.isnull(df.at[i, 'medical_info']):\n",
    "        df.at[i, 'medical_info'] = json.loads(df[\"medical_info\"][i].replace(\"\\'\", \"\\\"\"))"
   ]
  },
  {
   "cell_type": "code",
   "execution_count": 470,
   "metadata": {},
   "outputs": [],
   "source": [
    "df_med_info = df[\"medical_info\"].apply(pd.Series)\n",
    "df_med_info = df_med_info.drop(0, 1)\n",
    "\n",
    "df_final = pd.concat([df, df_med_info], axis = 1).drop(\"medical_info\", axis = 1)"
   ]
  },
  {
   "cell_type": "markdown",
   "metadata": {},
   "source": [
    "Nahradenie pohlavi ' Female', ' Male' za 'Female', 'Male'."
   ]
  },
  {
   "cell_type": "code",
   "execution_count": 471,
   "metadata": {},
   "outputs": [],
   "source": [
    "df['sex'] = df['sex'].replace(' Male', 1)\n",
    "df['sex'] = df['sex'].replace(' Female', 0)"
   ]
  },
  {
   "cell_type": "markdown",
   "metadata": {},
   "source": [
    "Nahradenie pregnant 't' 'T' 'F' 'f' za 'True a 'False'"
   ]
  },
  {
   "cell_type": "code",
   "execution_count": 473,
   "metadata": {},
   "outputs": [],
   "source": [
    "df['pregnant'] = df['pregnant'].replace(regex='(?i)f.*', value=0)\n",
    "df['pregnant'] = df['pregnant'].replace(regex='(?i)t.*', value=1)"
   ]
  },
  {
   "cell_type": "markdown",
   "metadata": {},
   "source": [
    "Upravenie adresy"
   ]
  },
  {
   "cell_type": "code",
   "execution_count": 480,
   "metadata": {
    "scrolled": true
   },
   "outputs": [
    {
     "data": {
      "text/plain": [
       "'7910 Rosales Plain Apt. 454\\r\\nPort Carl, GA 69839'"
      ]
     },
     "execution_count": 480,
     "metadata": {},
     "output_type": "execute_result"
    }
   ],
   "source": [
    "df['address'].replace(regex='\\r\\n.*', value=0)"
   ]
  }
 ],
 "metadata": {
  "kernelspec": {
   "display_name": "Python 3",
   "language": "python",
   "name": "python3"
  },
  "language_info": {
   "codemirror_mode": {
    "name": "ipython",
    "version": 3
   },
   "file_extension": ".py",
   "mimetype": "text/x-python",
   "name": "python",
   "nbconvert_exporter": "python",
   "pygments_lexer": "ipython3",
   "version": "3.7.3"
  }
 },
 "nbformat": 4,
 "nbformat_minor": 4
}
